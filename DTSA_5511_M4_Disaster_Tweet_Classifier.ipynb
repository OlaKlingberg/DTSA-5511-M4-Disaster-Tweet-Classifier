{
  "cells": [
    {
      "cell_type": "markdown",
      "metadata": {
        "id": "view-in-github",
        "colab_type": "text"
      },
      "source": [
        "<a href=\"https://colab.research.google.com/github/OlaKlingberg/DTSA-5511-M4-Disaster-Tweet-Classifier/blob/main/DTSA_5511_M4_Disaster_Tweet_Classifier.ipynb\" target=\"_parent\"><img src=\"https://colab.research.google.com/assets/colab-badge.svg\" alt=\"Open In Colab\"/></a>"
      ]
    },
    {
      "cell_type": "markdown",
      "metadata": {
        "id": "MqxYa_HymDUF"
      },
      "source": [
        "## **0. Ola's Notes**\n",
        "\n"
      ]
    },
    {
      "cell_type": "markdown",
      "metadata": {
        "id": "Z0hOVDuymZGm"
      },
      "source": [
        "# **1. Imports**"
      ]
    },
    {
      "cell_type": "code",
      "execution_count": 1,
      "metadata": {
        "id": "51gYUJH6l1sy"
      },
      "outputs": [],
      "source": [
        "!pip install -q keras-core --upgrade\n",
        "!pip install -q keras-nlp --upgrade\n",
        "!pip install -q tensorflow-text"
      ]
    },
    {
      "cell_type": "code",
      "execution_count": 2,
      "metadata": {
        "id": "lmHc9mo6mhWX"
      },
      "outputs": [],
      "source": [
        "# This sample uses Keras Core, the multi-backend version of Keras.\n",
        "# The selected backend is TensorFlow (other supported backends are 'jax' and 'torch')\n",
        "import os\n",
        "os.environ['KERAS_BACKEND'] = 'tensorflow'"
      ]
    },
    {
      "cell_type": "code",
      "execution_count": 3,
      "metadata": {
        "id": "-OhtkPYGmnY6"
      },
      "outputs": [],
      "source": [
        "!pip install -q --upgrade keras"
      ]
    },
    {
      "cell_type": "code",
      "execution_count": 4,
      "metadata": {
        "id": "RTPHxplfmpMS",
        "colab": {
          "base_uri": "https://localhost:8080/"
        },
        "outputId": "514cd04a-b5a3-4822-8f05-02831164df52"
      },
      "outputs": [
        {
          "output_type": "stream",
          "name": "stdout",
          "text": [
            "Using TensorFlow backend\n"
          ]
        }
      ],
      "source": [
        "import numpy as np\n",
        "import pandas as pd\n",
        "import os\n",
        "from datetime import datetime\n",
        "import pytz\n",
        "import json\n",
        "\n",
        "import seaborn as sns\n",
        "\n",
        "import tensorflow as tf\n",
        "import keras_core as keras\n",
        "import keras_nlp\n",
        "from sklearn.metrics import ConfusionMatrixDisplay, confusion_matrix\n",
        "from sklearn.model_selection import KFold\n",
        "\n",
        "from sklearn.utils import compute_class_weight\n",
        "\n",
        "import seaborn as sns\n",
        "import matplotlib.pyplot as plt\n",
        "\n",
        "from keras_nlp.models import DistilBertPreprocessor\n",
        "from keras_nlp.models import DistilBertClassifier\n",
        "\n",
        "from tensorflow.keras import backend as K\n",
        "\n",
        "from tensorflow.keras.callbacks import EarlyStopping, Callback\n",
        "\n",
        "from tensorflow.keras.layers import Input\n",
        "\n",
        "from tensorflow.keras.metrics import Precision, Recall\n",
        "\n",
        "from tensorflow.keras.optimizers import Adam\n",
        "\n",
        "from tensorflow.keras.preprocessing.text import Tokenizer\n",
        "from tensorflow.keras.preprocessing.sequence import pad_sequences\n",
        "\n",
        "from tensorflow.keras.models import Sequential\n",
        "from tensorflow.keras.layers import Embedding, LSTM, Dense, Dropout, Bidirectional\n"
      ]
    },
    {
      "cell_type": "code",
      "source": [
        "print(tf.__version__)\n",
        "print(keras.__version__)\n",
        "print(keras_nlp.__version__)"
      ],
      "metadata": {
        "colab": {
          "base_uri": "https://localhost:8080/"
        },
        "id": "9AZbyShD34QY",
        "outputId": "c29f97d2-2ce7-41d1-cf41-fbaff448193f"
      },
      "execution_count": 5,
      "outputs": [
        {
          "output_type": "stream",
          "name": "stdout",
          "text": [
            "2.17.0\n",
            "0.1.7\n",
            "0.17.0\n"
          ]
        }
      ]
    },
    {
      "cell_type": "markdown",
      "metadata": {
        "id": "wePlURhAm9bh"
      },
      "source": [
        "# **2. Load the data**"
      ]
    },
    {
      "cell_type": "code",
      "execution_count": 6,
      "metadata": {
        "colab": {
          "base_uri": "https://localhost:8080/"
        },
        "id": "uamE2Qp6m7f3",
        "outputId": "003f538c-2b8c-4a35-ac5a-44046bc3e5fa"
      },
      "outputs": [
        {
          "output_type": "stream",
          "name": "stdout",
          "text": [
            "Training Set Shape = (7613, 5)\n",
            "Training Set Memory Usage = 0.29 MB\n",
            "Test Set Shape = (3263, 4)\n",
            "Test Set Memory Usage = 0.10 MB\n"
          ]
        }
      ],
      "source": [
        "import pandas as pd\n",
        "\n",
        "# directory = '/content/drive/MyDrive/Colab/Boulder/25. Introduction to Deep Learning/Module 4/data/'\n",
        "main_dir = '/content/'\n",
        "data_dir = os.path.join(main_dir, 'data')\n",
        "results_dir = os.path.join(main_dir, 'results')\n",
        "\n",
        "results = os.path.join(main_dir, 'results')\n",
        "\n",
        "df_train = pd.read_csv(os.path.join(data_dir, \"train.csv\"))\n",
        "df_test = pd.read_csv(os.path.join(data_dir, \"test.csv\"))\n",
        "\n",
        "print('Training Set Shape = {}'.format(df_train.shape))\n",
        "print('Training Set Memory Usage = {:.2f} MB'.format(df_train.memory_usage().sum() / 1024**2))\n",
        "print('Test Set Shape = {}'.format(df_test.shape))\n",
        "print('Test Set Memory Usage = {:.2f} MB'.format(df_test.memory_usage().sum() / 1024**2))\n",
        "\n"
      ]
    },
    {
      "cell_type": "code",
      "execution_count": 7,
      "metadata": {
        "colab": {
          "base_uri": "https://localhost:8080/",
          "height": 206
        },
        "id": "nqK85HJQns2S",
        "outputId": "9ead0525-155b-4cec-b071-c6c3f876cf7c"
      },
      "outputs": [
        {
          "output_type": "execute_result",
          "data": {
            "text/plain": [
              "   id keyword location                                               text  \\\n",
              "0   1     NaN      NaN  Our Deeds are the Reason of this #earthquake M...   \n",
              "1   4     NaN      NaN             Forest fire near La Ronge Sask. Canada   \n",
              "2   5     NaN      NaN  All residents asked to 'shelter in place' are ...   \n",
              "3   6     NaN      NaN  13,000 people receive #wildfires evacuation or...   \n",
              "4   7     NaN      NaN  Just got sent this photo from Ruby #Alaska as ...   \n",
              "\n",
              "   target  \n",
              "0       1  \n",
              "1       1  \n",
              "2       1  \n",
              "3       1  \n",
              "4       1  "
            ],
            "text/html": [
              "\n",
              "  <div id=\"df-3bdbc170-dda3-4ce1-88e9-321df4aff556\" class=\"colab-df-container\">\n",
              "    <div>\n",
              "<style scoped>\n",
              "    .dataframe tbody tr th:only-of-type {\n",
              "        vertical-align: middle;\n",
              "    }\n",
              "\n",
              "    .dataframe tbody tr th {\n",
              "        vertical-align: top;\n",
              "    }\n",
              "\n",
              "    .dataframe thead th {\n",
              "        text-align: right;\n",
              "    }\n",
              "</style>\n",
              "<table border=\"1\" class=\"dataframe\">\n",
              "  <thead>\n",
              "    <tr style=\"text-align: right;\">\n",
              "      <th></th>\n",
              "      <th>id</th>\n",
              "      <th>keyword</th>\n",
              "      <th>location</th>\n",
              "      <th>text</th>\n",
              "      <th>target</th>\n",
              "    </tr>\n",
              "  </thead>\n",
              "  <tbody>\n",
              "    <tr>\n",
              "      <th>0</th>\n",
              "      <td>1</td>\n",
              "      <td>NaN</td>\n",
              "      <td>NaN</td>\n",
              "      <td>Our Deeds are the Reason of this #earthquake M...</td>\n",
              "      <td>1</td>\n",
              "    </tr>\n",
              "    <tr>\n",
              "      <th>1</th>\n",
              "      <td>4</td>\n",
              "      <td>NaN</td>\n",
              "      <td>NaN</td>\n",
              "      <td>Forest fire near La Ronge Sask. Canada</td>\n",
              "      <td>1</td>\n",
              "    </tr>\n",
              "    <tr>\n",
              "      <th>2</th>\n",
              "      <td>5</td>\n",
              "      <td>NaN</td>\n",
              "      <td>NaN</td>\n",
              "      <td>All residents asked to 'shelter in place' are ...</td>\n",
              "      <td>1</td>\n",
              "    </tr>\n",
              "    <tr>\n",
              "      <th>3</th>\n",
              "      <td>6</td>\n",
              "      <td>NaN</td>\n",
              "      <td>NaN</td>\n",
              "      <td>13,000 people receive #wildfires evacuation or...</td>\n",
              "      <td>1</td>\n",
              "    </tr>\n",
              "    <tr>\n",
              "      <th>4</th>\n",
              "      <td>7</td>\n",
              "      <td>NaN</td>\n",
              "      <td>NaN</td>\n",
              "      <td>Just got sent this photo from Ruby #Alaska as ...</td>\n",
              "      <td>1</td>\n",
              "    </tr>\n",
              "  </tbody>\n",
              "</table>\n",
              "</div>\n",
              "    <div class=\"colab-df-buttons\">\n",
              "\n",
              "  <div class=\"colab-df-container\">\n",
              "    <button class=\"colab-df-convert\" onclick=\"convertToInteractive('df-3bdbc170-dda3-4ce1-88e9-321df4aff556')\"\n",
              "            title=\"Convert this dataframe to an interactive table.\"\n",
              "            style=\"display:none;\">\n",
              "\n",
              "  <svg xmlns=\"http://www.w3.org/2000/svg\" height=\"24px\" viewBox=\"0 -960 960 960\">\n",
              "    <path d=\"M120-120v-720h720v720H120Zm60-500h600v-160H180v160Zm220 220h160v-160H400v160Zm0 220h160v-160H400v160ZM180-400h160v-160H180v160Zm440 0h160v-160H620v160ZM180-180h160v-160H180v160Zm440 0h160v-160H620v160Z\"/>\n",
              "  </svg>\n",
              "    </button>\n",
              "\n",
              "  <style>\n",
              "    .colab-df-container {\n",
              "      display:flex;\n",
              "      gap: 12px;\n",
              "    }\n",
              "\n",
              "    .colab-df-convert {\n",
              "      background-color: #E8F0FE;\n",
              "      border: none;\n",
              "      border-radius: 50%;\n",
              "      cursor: pointer;\n",
              "      display: none;\n",
              "      fill: #1967D2;\n",
              "      height: 32px;\n",
              "      padding: 0 0 0 0;\n",
              "      width: 32px;\n",
              "    }\n",
              "\n",
              "    .colab-df-convert:hover {\n",
              "      background-color: #E2EBFA;\n",
              "      box-shadow: 0px 1px 2px rgba(60, 64, 67, 0.3), 0px 1px 3px 1px rgba(60, 64, 67, 0.15);\n",
              "      fill: #174EA6;\n",
              "    }\n",
              "\n",
              "    .colab-df-buttons div {\n",
              "      margin-bottom: 4px;\n",
              "    }\n",
              "\n",
              "    [theme=dark] .colab-df-convert {\n",
              "      background-color: #3B4455;\n",
              "      fill: #D2E3FC;\n",
              "    }\n",
              "\n",
              "    [theme=dark] .colab-df-convert:hover {\n",
              "      background-color: #434B5C;\n",
              "      box-shadow: 0px 1px 3px 1px rgba(0, 0, 0, 0.15);\n",
              "      filter: drop-shadow(0px 1px 2px rgba(0, 0, 0, 0.3));\n",
              "      fill: #FFFFFF;\n",
              "    }\n",
              "  </style>\n",
              "\n",
              "    <script>\n",
              "      const buttonEl =\n",
              "        document.querySelector('#df-3bdbc170-dda3-4ce1-88e9-321df4aff556 button.colab-df-convert');\n",
              "      buttonEl.style.display =\n",
              "        google.colab.kernel.accessAllowed ? 'block' : 'none';\n",
              "\n",
              "      async function convertToInteractive(key) {\n",
              "        const element = document.querySelector('#df-3bdbc170-dda3-4ce1-88e9-321df4aff556');\n",
              "        const dataTable =\n",
              "          await google.colab.kernel.invokeFunction('convertToInteractive',\n",
              "                                                    [key], {});\n",
              "        if (!dataTable) return;\n",
              "\n",
              "        const docLinkHtml = 'Like what you see? Visit the ' +\n",
              "          '<a target=\"_blank\" href=https://colab.research.google.com/notebooks/data_table.ipynb>data table notebook</a>'\n",
              "          + ' to learn more about interactive tables.';\n",
              "        element.innerHTML = '';\n",
              "        dataTable['output_type'] = 'display_data';\n",
              "        await google.colab.output.renderOutput(dataTable, element);\n",
              "        const docLink = document.createElement('div');\n",
              "        docLink.innerHTML = docLinkHtml;\n",
              "        element.appendChild(docLink);\n",
              "      }\n",
              "    </script>\n",
              "  </div>\n",
              "\n",
              "\n",
              "<div id=\"df-ee75caa1-bbcf-4eca-9f16-1e8728c5a090\">\n",
              "  <button class=\"colab-df-quickchart\" onclick=\"quickchart('df-ee75caa1-bbcf-4eca-9f16-1e8728c5a090')\"\n",
              "            title=\"Suggest charts\"\n",
              "            style=\"display:none;\">\n",
              "\n",
              "<svg xmlns=\"http://www.w3.org/2000/svg\" height=\"24px\"viewBox=\"0 0 24 24\"\n",
              "     width=\"24px\">\n",
              "    <g>\n",
              "        <path d=\"M19 3H5c-1.1 0-2 .9-2 2v14c0 1.1.9 2 2 2h14c1.1 0 2-.9 2-2V5c0-1.1-.9-2-2-2zM9 17H7v-7h2v7zm4 0h-2V7h2v10zm4 0h-2v-4h2v4z\"/>\n",
              "    </g>\n",
              "</svg>\n",
              "  </button>\n",
              "\n",
              "<style>\n",
              "  .colab-df-quickchart {\n",
              "      --bg-color: #E8F0FE;\n",
              "      --fill-color: #1967D2;\n",
              "      --hover-bg-color: #E2EBFA;\n",
              "      --hover-fill-color: #174EA6;\n",
              "      --disabled-fill-color: #AAA;\n",
              "      --disabled-bg-color: #DDD;\n",
              "  }\n",
              "\n",
              "  [theme=dark] .colab-df-quickchart {\n",
              "      --bg-color: #3B4455;\n",
              "      --fill-color: #D2E3FC;\n",
              "      --hover-bg-color: #434B5C;\n",
              "      --hover-fill-color: #FFFFFF;\n",
              "      --disabled-bg-color: #3B4455;\n",
              "      --disabled-fill-color: #666;\n",
              "  }\n",
              "\n",
              "  .colab-df-quickchart {\n",
              "    background-color: var(--bg-color);\n",
              "    border: none;\n",
              "    border-radius: 50%;\n",
              "    cursor: pointer;\n",
              "    display: none;\n",
              "    fill: var(--fill-color);\n",
              "    height: 32px;\n",
              "    padding: 0;\n",
              "    width: 32px;\n",
              "  }\n",
              "\n",
              "  .colab-df-quickchart:hover {\n",
              "    background-color: var(--hover-bg-color);\n",
              "    box-shadow: 0 1px 2px rgba(60, 64, 67, 0.3), 0 1px 3px 1px rgba(60, 64, 67, 0.15);\n",
              "    fill: var(--button-hover-fill-color);\n",
              "  }\n",
              "\n",
              "  .colab-df-quickchart-complete:disabled,\n",
              "  .colab-df-quickchart-complete:disabled:hover {\n",
              "    background-color: var(--disabled-bg-color);\n",
              "    fill: var(--disabled-fill-color);\n",
              "    box-shadow: none;\n",
              "  }\n",
              "\n",
              "  .colab-df-spinner {\n",
              "    border: 2px solid var(--fill-color);\n",
              "    border-color: transparent;\n",
              "    border-bottom-color: var(--fill-color);\n",
              "    animation:\n",
              "      spin 1s steps(1) infinite;\n",
              "  }\n",
              "\n",
              "  @keyframes spin {\n",
              "    0% {\n",
              "      border-color: transparent;\n",
              "      border-bottom-color: var(--fill-color);\n",
              "      border-left-color: var(--fill-color);\n",
              "    }\n",
              "    20% {\n",
              "      border-color: transparent;\n",
              "      border-left-color: var(--fill-color);\n",
              "      border-top-color: var(--fill-color);\n",
              "    }\n",
              "    30% {\n",
              "      border-color: transparent;\n",
              "      border-left-color: var(--fill-color);\n",
              "      border-top-color: var(--fill-color);\n",
              "      border-right-color: var(--fill-color);\n",
              "    }\n",
              "    40% {\n",
              "      border-color: transparent;\n",
              "      border-right-color: var(--fill-color);\n",
              "      border-top-color: var(--fill-color);\n",
              "    }\n",
              "    60% {\n",
              "      border-color: transparent;\n",
              "      border-right-color: var(--fill-color);\n",
              "    }\n",
              "    80% {\n",
              "      border-color: transparent;\n",
              "      border-right-color: var(--fill-color);\n",
              "      border-bottom-color: var(--fill-color);\n",
              "    }\n",
              "    90% {\n",
              "      border-color: transparent;\n",
              "      border-bottom-color: var(--fill-color);\n",
              "    }\n",
              "  }\n",
              "</style>\n",
              "\n",
              "  <script>\n",
              "    async function quickchart(key) {\n",
              "      const quickchartButtonEl =\n",
              "        document.querySelector('#' + key + ' button');\n",
              "      quickchartButtonEl.disabled = true;  // To prevent multiple clicks.\n",
              "      quickchartButtonEl.classList.add('colab-df-spinner');\n",
              "      try {\n",
              "        const charts = await google.colab.kernel.invokeFunction(\n",
              "            'suggestCharts', [key], {});\n",
              "      } catch (error) {\n",
              "        console.error('Error during call to suggestCharts:', error);\n",
              "      }\n",
              "      quickchartButtonEl.classList.remove('colab-df-spinner');\n",
              "      quickchartButtonEl.classList.add('colab-df-quickchart-complete');\n",
              "    }\n",
              "    (() => {\n",
              "      let quickchartButtonEl =\n",
              "        document.querySelector('#df-ee75caa1-bbcf-4eca-9f16-1e8728c5a090 button');\n",
              "      quickchartButtonEl.style.display =\n",
              "        google.colab.kernel.accessAllowed ? 'block' : 'none';\n",
              "    })();\n",
              "  </script>\n",
              "</div>\n",
              "\n",
              "    </div>\n",
              "  </div>\n"
            ],
            "application/vnd.google.colaboratory.intrinsic+json": {
              "type": "dataframe",
              "variable_name": "df_train",
              "summary": "{\n  \"name\": \"df_train\",\n  \"rows\": 7613,\n  \"fields\": [\n    {\n      \"column\": \"id\",\n      \"properties\": {\n        \"dtype\": \"number\",\n        \"std\": 3137,\n        \"min\": 1,\n        \"max\": 10873,\n        \"num_unique_values\": 7613,\n        \"samples\": [\n          3796,\n          3185,\n          7769\n        ],\n        \"semantic_type\": \"\",\n        \"description\": \"\"\n      }\n    },\n    {\n      \"column\": \"keyword\",\n      \"properties\": {\n        \"dtype\": \"category\",\n        \"num_unique_values\": 221,\n        \"samples\": [\n          \"injury\",\n          \"nuclear%20reactor\",\n          \"engulfed\"\n        ],\n        \"semantic_type\": \"\",\n        \"description\": \"\"\n      }\n    },\n    {\n      \"column\": \"location\",\n      \"properties\": {\n        \"dtype\": \"category\",\n        \"num_unique_values\": 3341,\n        \"samples\": [\n          \"Oklahoma\",\n          \"Starling City\",\n          \"Trinidad and Tobago\"\n        ],\n        \"semantic_type\": \"\",\n        \"description\": \"\"\n      }\n    },\n    {\n      \"column\": \"text\",\n      \"properties\": {\n        \"dtype\": \"string\",\n        \"num_unique_values\": 7503,\n        \"samples\": [\n          \"Three Homes Demolished in Unrecognized Arab Village - International Middle East Media Center http://t.co/ik8m4Yi9T4\",\n          \"Reid Lake fire prompts campground evacuation order http://t.co/jBODKM6rBU\",\n          \"FAAN orders evacuation of abandoned aircraft at MMA http://t.co/dEvYbnVXGQ via @todayng\"\n        ],\n        \"semantic_type\": \"\",\n        \"description\": \"\"\n      }\n    },\n    {\n      \"column\": \"target\",\n      \"properties\": {\n        \"dtype\": \"number\",\n        \"std\": 0,\n        \"min\": 0,\n        \"max\": 1,\n        \"num_unique_values\": 2,\n        \"samples\": [\n          0,\n          1\n        ],\n        \"semantic_type\": \"\",\n        \"description\": \"\"\n      }\n    }\n  ]\n}"
            }
          },
          "metadata": {},
          "execution_count": 7
        }
      ],
      "source": [
        "df_train.head()"
      ]
    },
    {
      "cell_type": "code",
      "source": [
        "df_test.head()"
      ],
      "metadata": {
        "colab": {
          "base_uri": "https://localhost:8080/",
          "height": 206
        },
        "id": "kgF-rGc2pD7z",
        "outputId": "0a54d23d-7c11-476a-86fd-c216c1f04080"
      },
      "execution_count": 8,
      "outputs": [
        {
          "output_type": "execute_result",
          "data": {
            "text/plain": [
              "   id keyword location                                               text\n",
              "0   0     NaN      NaN                 Just happened a terrible car crash\n",
              "1   2     NaN      NaN  Heard about #earthquake is different cities, s...\n",
              "2   3     NaN      NaN  there is a forest fire at spot pond, geese are...\n",
              "3   9     NaN      NaN           Apocalypse lighting. #Spokane #wildfires\n",
              "4  11     NaN      NaN      Typhoon Soudelor kills 28 in China and Taiwan"
            ],
            "text/html": [
              "\n",
              "  <div id=\"df-501d77c4-7bf0-43ce-955c-d7e5d59eb2b3\" class=\"colab-df-container\">\n",
              "    <div>\n",
              "<style scoped>\n",
              "    .dataframe tbody tr th:only-of-type {\n",
              "        vertical-align: middle;\n",
              "    }\n",
              "\n",
              "    .dataframe tbody tr th {\n",
              "        vertical-align: top;\n",
              "    }\n",
              "\n",
              "    .dataframe thead th {\n",
              "        text-align: right;\n",
              "    }\n",
              "</style>\n",
              "<table border=\"1\" class=\"dataframe\">\n",
              "  <thead>\n",
              "    <tr style=\"text-align: right;\">\n",
              "      <th></th>\n",
              "      <th>id</th>\n",
              "      <th>keyword</th>\n",
              "      <th>location</th>\n",
              "      <th>text</th>\n",
              "    </tr>\n",
              "  </thead>\n",
              "  <tbody>\n",
              "    <tr>\n",
              "      <th>0</th>\n",
              "      <td>0</td>\n",
              "      <td>NaN</td>\n",
              "      <td>NaN</td>\n",
              "      <td>Just happened a terrible car crash</td>\n",
              "    </tr>\n",
              "    <tr>\n",
              "      <th>1</th>\n",
              "      <td>2</td>\n",
              "      <td>NaN</td>\n",
              "      <td>NaN</td>\n",
              "      <td>Heard about #earthquake is different cities, s...</td>\n",
              "    </tr>\n",
              "    <tr>\n",
              "      <th>2</th>\n",
              "      <td>3</td>\n",
              "      <td>NaN</td>\n",
              "      <td>NaN</td>\n",
              "      <td>there is a forest fire at spot pond, geese are...</td>\n",
              "    </tr>\n",
              "    <tr>\n",
              "      <th>3</th>\n",
              "      <td>9</td>\n",
              "      <td>NaN</td>\n",
              "      <td>NaN</td>\n",
              "      <td>Apocalypse lighting. #Spokane #wildfires</td>\n",
              "    </tr>\n",
              "    <tr>\n",
              "      <th>4</th>\n",
              "      <td>11</td>\n",
              "      <td>NaN</td>\n",
              "      <td>NaN</td>\n",
              "      <td>Typhoon Soudelor kills 28 in China and Taiwan</td>\n",
              "    </tr>\n",
              "  </tbody>\n",
              "</table>\n",
              "</div>\n",
              "    <div class=\"colab-df-buttons\">\n",
              "\n",
              "  <div class=\"colab-df-container\">\n",
              "    <button class=\"colab-df-convert\" onclick=\"convertToInteractive('df-501d77c4-7bf0-43ce-955c-d7e5d59eb2b3')\"\n",
              "            title=\"Convert this dataframe to an interactive table.\"\n",
              "            style=\"display:none;\">\n",
              "\n",
              "  <svg xmlns=\"http://www.w3.org/2000/svg\" height=\"24px\" viewBox=\"0 -960 960 960\">\n",
              "    <path d=\"M120-120v-720h720v720H120Zm60-500h600v-160H180v160Zm220 220h160v-160H400v160Zm0 220h160v-160H400v160ZM180-400h160v-160H180v160Zm440 0h160v-160H620v160ZM180-180h160v-160H180v160Zm440 0h160v-160H620v160Z\"/>\n",
              "  </svg>\n",
              "    </button>\n",
              "\n",
              "  <style>\n",
              "    .colab-df-container {\n",
              "      display:flex;\n",
              "      gap: 12px;\n",
              "    }\n",
              "\n",
              "    .colab-df-convert {\n",
              "      background-color: #E8F0FE;\n",
              "      border: none;\n",
              "      border-radius: 50%;\n",
              "      cursor: pointer;\n",
              "      display: none;\n",
              "      fill: #1967D2;\n",
              "      height: 32px;\n",
              "      padding: 0 0 0 0;\n",
              "      width: 32px;\n",
              "    }\n",
              "\n",
              "    .colab-df-convert:hover {\n",
              "      background-color: #E2EBFA;\n",
              "      box-shadow: 0px 1px 2px rgba(60, 64, 67, 0.3), 0px 1px 3px 1px rgba(60, 64, 67, 0.15);\n",
              "      fill: #174EA6;\n",
              "    }\n",
              "\n",
              "    .colab-df-buttons div {\n",
              "      margin-bottom: 4px;\n",
              "    }\n",
              "\n",
              "    [theme=dark] .colab-df-convert {\n",
              "      background-color: #3B4455;\n",
              "      fill: #D2E3FC;\n",
              "    }\n",
              "\n",
              "    [theme=dark] .colab-df-convert:hover {\n",
              "      background-color: #434B5C;\n",
              "      box-shadow: 0px 1px 3px 1px rgba(0, 0, 0, 0.15);\n",
              "      filter: drop-shadow(0px 1px 2px rgba(0, 0, 0, 0.3));\n",
              "      fill: #FFFFFF;\n",
              "    }\n",
              "  </style>\n",
              "\n",
              "    <script>\n",
              "      const buttonEl =\n",
              "        document.querySelector('#df-501d77c4-7bf0-43ce-955c-d7e5d59eb2b3 button.colab-df-convert');\n",
              "      buttonEl.style.display =\n",
              "        google.colab.kernel.accessAllowed ? 'block' : 'none';\n",
              "\n",
              "      async function convertToInteractive(key) {\n",
              "        const element = document.querySelector('#df-501d77c4-7bf0-43ce-955c-d7e5d59eb2b3');\n",
              "        const dataTable =\n",
              "          await google.colab.kernel.invokeFunction('convertToInteractive',\n",
              "                                                    [key], {});\n",
              "        if (!dataTable) return;\n",
              "\n",
              "        const docLinkHtml = 'Like what you see? Visit the ' +\n",
              "          '<a target=\"_blank\" href=https://colab.research.google.com/notebooks/data_table.ipynb>data table notebook</a>'\n",
              "          + ' to learn more about interactive tables.';\n",
              "        element.innerHTML = '';\n",
              "        dataTable['output_type'] = 'display_data';\n",
              "        await google.colab.output.renderOutput(dataTable, element);\n",
              "        const docLink = document.createElement('div');\n",
              "        docLink.innerHTML = docLinkHtml;\n",
              "        element.appendChild(docLink);\n",
              "      }\n",
              "    </script>\n",
              "  </div>\n",
              "\n",
              "\n",
              "<div id=\"df-12d61e80-34fe-41e6-9bc7-148364e523fb\">\n",
              "  <button class=\"colab-df-quickchart\" onclick=\"quickchart('df-12d61e80-34fe-41e6-9bc7-148364e523fb')\"\n",
              "            title=\"Suggest charts\"\n",
              "            style=\"display:none;\">\n",
              "\n",
              "<svg xmlns=\"http://www.w3.org/2000/svg\" height=\"24px\"viewBox=\"0 0 24 24\"\n",
              "     width=\"24px\">\n",
              "    <g>\n",
              "        <path d=\"M19 3H5c-1.1 0-2 .9-2 2v14c0 1.1.9 2 2 2h14c1.1 0 2-.9 2-2V5c0-1.1-.9-2-2-2zM9 17H7v-7h2v7zm4 0h-2V7h2v10zm4 0h-2v-4h2v4z\"/>\n",
              "    </g>\n",
              "</svg>\n",
              "  </button>\n",
              "\n",
              "<style>\n",
              "  .colab-df-quickchart {\n",
              "      --bg-color: #E8F0FE;\n",
              "      --fill-color: #1967D2;\n",
              "      --hover-bg-color: #E2EBFA;\n",
              "      --hover-fill-color: #174EA6;\n",
              "      --disabled-fill-color: #AAA;\n",
              "      --disabled-bg-color: #DDD;\n",
              "  }\n",
              "\n",
              "  [theme=dark] .colab-df-quickchart {\n",
              "      --bg-color: #3B4455;\n",
              "      --fill-color: #D2E3FC;\n",
              "      --hover-bg-color: #434B5C;\n",
              "      --hover-fill-color: #FFFFFF;\n",
              "      --disabled-bg-color: #3B4455;\n",
              "      --disabled-fill-color: #666;\n",
              "  }\n",
              "\n",
              "  .colab-df-quickchart {\n",
              "    background-color: var(--bg-color);\n",
              "    border: none;\n",
              "    border-radius: 50%;\n",
              "    cursor: pointer;\n",
              "    display: none;\n",
              "    fill: var(--fill-color);\n",
              "    height: 32px;\n",
              "    padding: 0;\n",
              "    width: 32px;\n",
              "  }\n",
              "\n",
              "  .colab-df-quickchart:hover {\n",
              "    background-color: var(--hover-bg-color);\n",
              "    box-shadow: 0 1px 2px rgba(60, 64, 67, 0.3), 0 1px 3px 1px rgba(60, 64, 67, 0.15);\n",
              "    fill: var(--button-hover-fill-color);\n",
              "  }\n",
              "\n",
              "  .colab-df-quickchart-complete:disabled,\n",
              "  .colab-df-quickchart-complete:disabled:hover {\n",
              "    background-color: var(--disabled-bg-color);\n",
              "    fill: var(--disabled-fill-color);\n",
              "    box-shadow: none;\n",
              "  }\n",
              "\n",
              "  .colab-df-spinner {\n",
              "    border: 2px solid var(--fill-color);\n",
              "    border-color: transparent;\n",
              "    border-bottom-color: var(--fill-color);\n",
              "    animation:\n",
              "      spin 1s steps(1) infinite;\n",
              "  }\n",
              "\n",
              "  @keyframes spin {\n",
              "    0% {\n",
              "      border-color: transparent;\n",
              "      border-bottom-color: var(--fill-color);\n",
              "      border-left-color: var(--fill-color);\n",
              "    }\n",
              "    20% {\n",
              "      border-color: transparent;\n",
              "      border-left-color: var(--fill-color);\n",
              "      border-top-color: var(--fill-color);\n",
              "    }\n",
              "    30% {\n",
              "      border-color: transparent;\n",
              "      border-left-color: var(--fill-color);\n",
              "      border-top-color: var(--fill-color);\n",
              "      border-right-color: var(--fill-color);\n",
              "    }\n",
              "    40% {\n",
              "      border-color: transparent;\n",
              "      border-right-color: var(--fill-color);\n",
              "      border-top-color: var(--fill-color);\n",
              "    }\n",
              "    60% {\n",
              "      border-color: transparent;\n",
              "      border-right-color: var(--fill-color);\n",
              "    }\n",
              "    80% {\n",
              "      border-color: transparent;\n",
              "      border-right-color: var(--fill-color);\n",
              "      border-bottom-color: var(--fill-color);\n",
              "    }\n",
              "    90% {\n",
              "      border-color: transparent;\n",
              "      border-bottom-color: var(--fill-color);\n",
              "    }\n",
              "  }\n",
              "</style>\n",
              "\n",
              "  <script>\n",
              "    async function quickchart(key) {\n",
              "      const quickchartButtonEl =\n",
              "        document.querySelector('#' + key + ' button');\n",
              "      quickchartButtonEl.disabled = true;  // To prevent multiple clicks.\n",
              "      quickchartButtonEl.classList.add('colab-df-spinner');\n",
              "      try {\n",
              "        const charts = await google.colab.kernel.invokeFunction(\n",
              "            'suggestCharts', [key], {});\n",
              "      } catch (error) {\n",
              "        console.error('Error during call to suggestCharts:', error);\n",
              "      }\n",
              "      quickchartButtonEl.classList.remove('colab-df-spinner');\n",
              "      quickchartButtonEl.classList.add('colab-df-quickchart-complete');\n",
              "    }\n",
              "    (() => {\n",
              "      let quickchartButtonEl =\n",
              "        document.querySelector('#df-12d61e80-34fe-41e6-9bc7-148364e523fb button');\n",
              "      quickchartButtonEl.style.display =\n",
              "        google.colab.kernel.accessAllowed ? 'block' : 'none';\n",
              "    })();\n",
              "  </script>\n",
              "</div>\n",
              "\n",
              "    </div>\n",
              "  </div>\n"
            ],
            "application/vnd.google.colaboratory.intrinsic+json": {
              "type": "dataframe",
              "variable_name": "df_test",
              "summary": "{\n  \"name\": \"df_test\",\n  \"rows\": 3263,\n  \"fields\": [\n    {\n      \"column\": \"id\",\n      \"properties\": {\n        \"dtype\": \"number\",\n        \"std\": 3146,\n        \"min\": 0,\n        \"max\": 10875,\n        \"num_unique_values\": 3263,\n        \"samples\": [\n          8051,\n          425,\n          1330\n        ],\n        \"semantic_type\": \"\",\n        \"description\": \"\"\n      }\n    },\n    {\n      \"column\": \"keyword\",\n      \"properties\": {\n        \"dtype\": \"category\",\n        \"num_unique_values\": 221,\n        \"samples\": [\n          \"injury\",\n          \"nuclear%20reactor\",\n          \"engulfed\"\n        ],\n        \"semantic_type\": \"\",\n        \"description\": \"\"\n      }\n    },\n    {\n      \"column\": \"location\",\n      \"properties\": {\n        \"dtype\": \"category\",\n        \"num_unique_values\": 1602,\n        \"samples\": [\n          \"UAE\",\n          \"Tokio / Tokyo\",\n          \"Texas\"\n        ],\n        \"semantic_type\": \"\",\n        \"description\": \"\"\n      }\n    },\n    {\n      \"column\": \"text\",\n      \"properties\": {\n        \"dtype\": \"string\",\n        \"num_unique_values\": 3243,\n        \"samples\": [\n          \"Latest: USA: Huge sinkhole swallows up Brooklyn intersection http://t.co/vspKHg3nZy\",\n          \"I liked a @YouTube video http://t.co/a5YTAw9Vih S.O.S. Rona Guide - The Red Whirlwind\",\n          \"HitchBot travels Europe and greeted with open arms. Gets destroyed after two weeks in america. There's a lesson to be learned here.\"\n        ],\n        \"semantic_type\": \"\",\n        \"description\": \"\"\n      }\n    }\n  ]\n}"
            }
          },
          "metadata": {},
          "execution_count": 8
        }
      ]
    },
    {
      "cell_type": "code",
      "source": [
        "# Remove URLs\n",
        "# df_train['text'] = df_train['text'].str.replace(r'http\\S+|www\\S+|https\\S+', '', regex=True)"
      ],
      "metadata": {
        "id": "KhbSNkhQZjv8"
      },
      "execution_count": 9,
      "outputs": []
    },
    {
      "cell_type": "code",
      "source": [
        "# Remove mentions\n",
        "# df_train['text'] = df_train['text'].str.replace(r'@\\w+', '', regex=True)"
      ],
      "metadata": {
        "id": "orXlR_BbZpw9"
      },
      "execution_count": 10,
      "outputs": []
    },
    {
      "cell_type": "code",
      "source": [
        "# Remove hashtags\n",
        "# df_train['text'] = df_train['text'].str.replace(r'#\\w+', '', regex=True)"
      ],
      "metadata": {
        "id": "N2ia3W_7Zwee"
      },
      "execution_count": 11,
      "outputs": []
    },
    {
      "cell_type": "code",
      "source": [
        "# !pip install -q contractions"
      ],
      "metadata": {
        "id": "HIF3zl-JeYRc"
      },
      "execution_count": 12,
      "outputs": []
    },
    {
      "cell_type": "code",
      "source": [
        "# # Expand contractions\n",
        "# import contractions\n",
        "# df_train['text'] = df_train['text'].apply(lambda x: contractions.fix(x))"
      ],
      "metadata": {
        "id": "gvZFNAn7aAM0"
      },
      "execution_count": 13,
      "outputs": []
    },
    {
      "cell_type": "code",
      "source": [
        "# # Handle misspellings\n",
        "# from textblob import TextBlob\n",
        "# df_train['text'] = df_train['text'].apply(lambda x: str(TextBlob(x).correct()))"
      ],
      "metadata": {
        "id": "LjBUDY6iaPkE"
      },
      "execution_count": 14,
      "outputs": []
    },
    {
      "cell_type": "code",
      "source": [
        "# Clean the tweets (optional, but recommended)\n",
        "df_train['text'] = df_train['text'].str.replace(r'[^a-zA-Z\\s]', '', regex = True).str.lower()"
      ],
      "metadata": {
        "id": "gu6iaaNCXdsJ"
      },
      "execution_count": 15,
      "outputs": []
    },
    {
      "cell_type": "markdown",
      "metadata": {
        "id": "cQRUUz_jnx7F"
      },
      "source": [
        "# **3. Exploratory Data Analysis**"
      ]
    },
    {
      "cell_type": "code",
      "execution_count": 16,
      "metadata": {
        "colab": {
          "base_uri": "https://localhost:8080/"
        },
        "id": "iQ8uXMVPntR-",
        "outputId": "6ff88169-0b26-47f5-eca1-07b27cd99c30"
      },
      "outputs": [
        {
          "output_type": "stream",
          "name": "stdout",
          "text": [
            "Train Length Stat\n",
            "count    7613.000000\n",
            "mean       91.858926\n",
            "std        31.215161\n",
            "min         3.000000\n",
            "25%        70.000000\n",
            "50%        96.000000\n",
            "75%       120.000000\n",
            "max       143.000000\n",
            "Name: length, dtype: float64\n",
            "\n",
            "Test Length Stat\n",
            "count    3263.000000\n",
            "mean      102.108183\n",
            "std        33.972158\n",
            "min         5.000000\n",
            "25%        78.000000\n",
            "50%       109.000000\n",
            "75%       134.000000\n",
            "max       151.000000\n",
            "Name: length, dtype: float64\n"
          ]
        }
      ],
      "source": [
        "df_train[\"length\"] = df_train[\"text\"].apply(lambda x : len(x))\n",
        "df_test[\"length\"] = df_test[\"text\"].apply(lambda x : len(x))\n",
        "\n",
        "print(\"Train Length Stat\")\n",
        "print(df_train[\"length\"].describe())\n",
        "print()\n",
        "\n",
        "print(\"Test Length Stat\")\n",
        "print(df_test[\"length\"].describe())"
      ]
    },
    {
      "cell_type": "code",
      "source": [
        "df_train.target.value_counts().plot(kind = 'bar')\n",
        "plt.title(\"Class Distribution\")\n",
        "plt.show()"
      ],
      "metadata": {
        "colab": {
          "base_uri": "https://localhost:8080/",
          "height": 467
        },
        "id": "c4WGOnCfCCvp",
        "outputId": "9010e698-ae3c-4e2c-8ff5-d8a92a46ec53"
      },
      "execution_count": 17,
      "outputs": [
        {
          "output_type": "display_data",
          "data": {
            "text/plain": [
              "<Figure size 640x480 with 1 Axes>"
            ],
            "image/png": "[encoded data removed]"
          },
          "metadata": {}
        }
      ]
    },
    {
      "cell_type": "code",
      "source": [
        "# Calculate class weights\n",
        "class_weights = compute_class_weight('balanced', classes = np.array([0, 1]), y = df_train['target'])\n",
        "\n",
        "class_weights"
      ],
      "metadata": {
        "colab": {
          "base_uri": "https://localhost:8080/"
        },
        "id": "0O_TOYR0Dr0u",
        "outputId": "b527462a-95a3-4bf3-870a-44771105c716"
      },
      "execution_count": 18,
      "outputs": [
        {
          "output_type": "execute_result",
          "data": {
            "text/plain": [
              "array([0.87666974, 1.1637114 ])"
            ]
          },
          "metadata": {},
          "execution_count": 18
        }
      ]
    },
    {
      "cell_type": "markdown",
      "source": [
        "# **5. Model 1. LSTM with GloVe embeddings**"
      ],
      "metadata": {
        "id": "FpdSqbk_eSgx"
      }
    },
    {
      "cell_type": "code",
      "source": [
        "# Load GloVe embeddings\n",
        "embedding_index = {}\n",
        "with open(os.path.join(data_dir, 'glove.6B.100d.txt'), encoding='utf-8') as f:\n",
        "    for line in f:\n",
        "        values = line.split()\n",
        "        word = values[0]\n",
        "        coefs = np.asarray(values[1:], dtype='float32')\n",
        "        embedding_index[word] = coefs\n",
        "\n",
        "print(f'Found {len(embedding_index)} word vectors.')"
      ],
      "metadata": {
        "colab": {
          "base_uri": "https://localhost:8080/"
        },
        "id": "cnRhe3e6huVd",
        "outputId": "93f9361b-ad60-46af-f843-32fc726c9977"
      },
      "execution_count": 19,
      "outputs": [
        {
          "output_type": "stream",
          "name": "stdout",
          "text": [
            "Found 8564 word vectors.\n"
          ]
        }
      ]
    },
    {
      "cell_type": "code",
      "source": [
        "# Configs\n",
        "lstm_config = {\n",
        "    'model': 'lstm',                    # Don't change. To be included when recording the results\n",
        "    'architecture': 'one_layer',        # 'one_layer', 'two_layer', or 'bidirectional'\n",
        "    'first_lstm_layer': 128,            # Number of units in the first LSTM layer\n",
        "    'second_lstm_layer': 64,            # Number of units in the second LSTM layer\n",
        "    'dropout': 0.5,                     # Dropout rate to overfitting\n",
        "    'lr': 0.0001,                       # Learning rate: try 0.001 to 0.00001\n",
        "    'class_0_weight': class_weights[0], # Balanced: class_weights[0]\n",
        "    'class_1_weight': class_weights[1], # Balanced: class_weights[1]\n",
        "    'batch': 64,                        # Batch size\n",
        "    'epochs': 15,                       # Number of epochs\n",
        "    'patience': 3,                      # Early-stopping patience\n",
        "    'max_vocab_size': 10000,\n",
        "    'max_sequence_length': 100,\n",
        "    'embedding_dim': 100,\n",
        "}"
      ],
      "metadata": {
        "id": "zpG5n-plZ8cz"
      },
      "execution_count": 20,
      "outputs": []
    },
    {
      "cell_type": "code",
      "source": [
        "\n",
        "X_train_df = df_train[\"text\"]\n",
        "y_train_df = df_train[\"target\"]\n",
        "\n",
        "# Prepare the tweets\n",
        "# texts = df_train['text']\n",
        "max_vocab_size = 10000  # Limit vocab size to top 10,000 words\n",
        "max_sequence_length = 100  # Max length of each tweet (in tokens)\n",
        "\n",
        "# Tokenize the text data\n",
        "tokenizer = Tokenizer(num_words = max_vocab_size)\n",
        "tokenizer.fit_on_texts(X_train_df)\n",
        "word_index = tokenizer.word_index\n",
        "\n",
        "# Convert text to sequences of integers and pad\n",
        "X_train_sequences = tokenizer.texts_to_sequences(X_train_df)\n",
        "\n",
        "X_train_padded = pad_sequences(X_train_sequences, maxlen = max_sequence_length)\n",
        "\n",
        "# Prepare the embedding matrix\n",
        "embedding_dim = 100  # Using 100-dimensional GloVe vectors\n",
        "embedding_matrix = np.zeros((max_vocab_size, embedding_dim))\n",
        "\n",
        "for word, i in word_index.items():\n",
        "    if i < max_vocab_size:\n",
        "        embedding_vector = embedding_index.get(word)\n",
        "        if embedding_vector is not None:\n",
        "            # Words not found in embedding_index will be all-zeros\n",
        "            embedding_matrix[i] = embedding_vector"
      ],
      "metadata": {
        "id": "OB6URc57k2CV"
      },
      "execution_count": 21,
      "outputs": []
    },
    {
      "cell_type": "code",
      "source": [
        "def build_lstm_model(lstm_config, embedding_matrix):\n",
        "    lstm_model = Sequential()\n",
        "\n",
        "    # Add the Input layer separately\n",
        "    lstm_model.add(Input(shape=(max_sequence_length,)))\n",
        "\n",
        "    # Add the embedding layer\n",
        "    lstm_model.add(Embedding(input_dim = max_vocab_size,\n",
        "                        output_dim = embedding_dim,\n",
        "                        weights = [embedding_matrix],\n",
        "                        trainable = False))  # Set trainable=False to use pretrained embeddings\n",
        "\n",
        "    # Add layers based on selected model architecture\n",
        "    if lstm_config['architecture'] == 'one_layer':\n",
        "        lstm_model.add(LSTM(lstm_config['first_lstm_layer'], return_sequences=False))  # Single LSTM layer\n",
        "    elif lstm_config['architecture'] == 'two_layer':\n",
        "        lstm_model.add(LSTM(lstm_config['first_lstm_layer'], return_sequences=True))  # First LSTM layer returns full sequence\n",
        "        lstm_model.add(LSTM(lstm_config['second_lstm_layer'], return_sequences=False))  # Second LSTM layer\n",
        "    elif lstm_config['architecture'] == 'bidirectional':\n",
        "        lstm_model.add(Bidirectional(LSTM(128)))  # Bidirectional LSTM\n",
        "    else:\n",
        "        raise ValueError(\"Invalid model type. Choose from 'one_layer', 'two_layer', or 'bidirectional'.\")\n",
        "\n",
        "    # Add the dropout and activation layers.\n",
        "    lstm_model.add(Dropout(lstm_config['dropout'])) # Add a Dropout layer for regularization\n",
        "    lstm_model.add(Dense(1, activation='sigmoid'))  # Use 'sigmoid' for binary classification\n",
        "\n",
        "    return lstm_model"
      ],
      "metadata": {
        "id": "gQpuG36PnIYi"
      },
      "execution_count": 22,
      "outputs": []
    },
    {
      "cell_type": "code",
      "source": [
        "# Custom callback to store metrics at each epoch\n",
        "class MetricsHistory(Callback):\n",
        "    def on_train_begin(self, logs=None):\n",
        "        self.epochs = []\n",
        "        self.accuracy = []\n",
        "        self.val_accuracy = []\n",
        "        self.precision = []\n",
        "        self.val_precision = []\n",
        "        self.recall = []\n",
        "        self.val_recall = []\n",
        "        self.f1 = []\n",
        "        self.val_f1 = []\n",
        "        self.loss = []\n",
        "        self.val_loss = []\n",
        "\n",
        "    def on_epoch_end(self, epoch, logs=None):\n",
        "        self.epochs.append(epoch)\n",
        "        self.loss.append(logs.get('loss'))\n",
        "        self.accuracy.append(logs.get('accuracy'))\n",
        "        self.val_loss.append(logs.get('val_loss'))\n",
        "        self.val_accuracy.append(logs.get('val_accuracy'))\n",
        "\n",
        "        # The precision keys increment: precision_1, precision_2, etc.\n",
        "        # Dynamically find keys containing 'precision'.\n",
        "        precision_keys = [key for key in logs.keys() if 'precision' in key]\n",
        "        recall_keys = [key for key in logs.keys() if 'recall' in key]\n",
        "        if precision_keys:\n",
        "            precision = logs.get(precision_keys[0]) # first precision key found\n",
        "            self.precision.append(precision)\n",
        "        if recall_keys:\n",
        "            recall = logs.get(recall_keys[0]) # first recall key found\n",
        "            self.recall.append(recall)\n",
        "\n",
        "        # The recall keys increment: recall_1, recall_2, etc.\n",
        "        # Dynamically find keys containing 'recall'.\n",
        "        val_precision_keys = [key for key in logs.keys() if 'val_precision' in key]\n",
        "        val_recall_keys = [key for key in logs.keys() if 'val_recall' in key]\n",
        "        if val_precision_keys:\n",
        "            val_precision = logs.get(val_precision_keys[0])\n",
        "            self.val_precision.append(val_precision)\n",
        "        if val_recall_keys:\n",
        "            val_recall = logs.get(val_recall_keys[0])\n",
        "            self.val_recall.append(val_recall)\n",
        "\n",
        "        # Calculate f1 score and store\n",
        "        f1 = 2 * ((precision * recall) / (precision + recall + K.epsilon()))\n",
        "        self.f1.append(f1)\n",
        "\n",
        "        # Calculate val_f1 score and store\n",
        "        val_f1 = 2 * ((val_precision * val_recall) / (val_precision + val_recall + K.epsilon()))\n",
        "        self.val_f1.append(val_f1)\n"
      ],
      "metadata": {
        "id": "CEw8oA_2sEFU"
      },
      "execution_count": 23,
      "outputs": []
    },
    {
      "cell_type": "code",
      "source": [
        "%%time\n",
        "X = X_train_padded\n",
        "y = y_train_df\n",
        "\n",
        "# Number of folds\n",
        "k = 5\n",
        "kf = KFold(n_splits=k, shuffle=True, random_state=42)\n",
        "\n",
        "# Initialize lists to store metrics across all folds\n",
        "epoch_metrics = {\n",
        "    # 'epochs': [],\n",
        "    'accuracy': [],\n",
        "    'val_accuracy': [],\n",
        "    'precision': [],\n",
        "    'val_precision': [],\n",
        "    'recall': [],\n",
        "    'val_recall': [],\n",
        "    'f1': [],\n",
        "    'val_f1': [],\n",
        "    'loss': [],\n",
        "    'val_loss': []\n",
        "}\n",
        "\n",
        "# Initialize variables to store cumulative confusion matrix\n",
        "cumulative_confusion_matrix = np.zeros((2, 2))  # Binary classifier, so 2 x 2 confusion matrix.\n",
        "\n",
        "# Training loop for K-fold cross-validation\n",
        "for fold, (train_index, val_index) in enumerate(kf.split(X)):\n",
        "    print(f\"Fold {fold + 1}\")\n",
        "\n",
        "    # Split the data into training and validation sets\n",
        "    X_train, X_val = X[train_index], X[val_index]\n",
        "    y_train, y_val = y[train_index], y[val_index]\n",
        "\n",
        "    # Clear the previous model to avoid memory issues\n",
        "    K.clear_session()\n",
        "\n",
        "    # Build and compile the model\n",
        "    lstm_model = build_lstm_model(lstm_config, embedding_matrix)\n",
        "\n",
        "    # Define the optimizer with a custom learning rate\n",
        "    optimizer = Adam(learning_rate = lstm_config['lr'])\n",
        "\n",
        "    # Compile\n",
        "    lstm_model.compile(optimizer = optimizer,\n",
        "                loss = 'binary_crossentropy',\n",
        "                metrics = ['accuracy', Precision(), Recall()])\n",
        "\n",
        "    # Print the model summary only once\n",
        "    if fold == 0:\n",
        "        lstm_model.summary()\n",
        "\n",
        "    # Instantiate callback\n",
        "    metrics_history = MetricsHistory()\n",
        "\n",
        "    # Create dictionary with class weights\n",
        "    class_weight_dict = {0: lstm_config['class_0_weight'], 1: lstm_config['class_1_weight']}\n",
        "\n",
        "    # Set up early stopping\n",
        "    early_stopping = EarlyStopping(monitor='val_loss', patience = lstm_config['patience'], restore_best_weights = True)\n",
        "\n",
        "\n",
        "    # Convert to NumPy array\n",
        "    if isinstance(y_train, pd.Series):\n",
        "        y_train = y_train.values\n",
        "\n",
        "    # Train the model\n",
        "    lstm_model.fit(X_train, y_train,\n",
        "                   epochs=lstm_config['epochs'],\n",
        "                   batch_size=lstm_config['batch'],\n",
        "                   validation_data=(X_val, y_val),\n",
        "                   class_weight=class_weight_dict,\n",
        "                   callbacks=[metrics_history, early_stopping])\n",
        "\n",
        "    # Append metrics for this fold to the epoch_metrics dictionary\n",
        "    epoch_metrics['accuracy'].append(metrics_history.accuracy)\n",
        "    epoch_metrics['val_accuracy'].append(metrics_history.val_accuracy)\n",
        "    epoch_metrics['precision'].append(metrics_history.precision)\n",
        "    epoch_metrics['val_precision'].append(metrics_history.val_precision)\n",
        "    epoch_metrics['recall'].append(metrics_history.recall)\n",
        "    epoch_metrics['val_recall'].append(metrics_history.val_recall)\n",
        "    epoch_metrics['f1'].append(metrics_history.f1)\n",
        "    epoch_metrics['val_f1'].append(metrics_history.val_f1)\n",
        "    epoch_metrics['loss'].append(metrics_history.loss)\n",
        "    epoch_metrics['val_loss'].append(metrics_history.val_loss)\n",
        "\n",
        "    # Predict on the validation set\n",
        "    y_pred_val = lstm_model.predict(X_val)\n",
        "    # y_pred_val = np.argmax(y_pred_val, axis=1)  # Make sure the prediction is binary\n",
        "    y_pred_binary = (y_pred_val >= 0.5).astype(int)  # Convert probabilities to 0 or 1\n",
        "\n",
        "    # Compute confusion matrix for the current fold\n",
        "    fold_confusion_matrix = confusion_matrix(y_val, y_pred_binary)\n",
        "    cumulative_confusion_matrix += fold_confusion_matrix\n"
      ],
      "metadata": {
        "colab": {
          "base_uri": "https://localhost:8080/",
          "height": 1000
        },
        "id": "l_bB-erpfE7k",
        "outputId": "f85e7801-ff67-4e11-a886-549cb82e9a84"
      },
      "execution_count": 24,
      "outputs": [
        {
          "output_type": "stream",
          "name": "stdout",
          "text": [
            "Fold 1\n"
          ]
        },
        {
          "output_type": "display_data",
          "data": {
            "text/plain": [
              "\u001b[1mModel: \"sequential\"\u001b[0m\n"
            ],
            "text/html": [
              "<pre style=\"white-space:pre;overflow-x:auto;line-height:normal;font-family:Menlo,'DejaVu Sans Mono',consolas,'Courier New',monospace\"><span style=\"font-weight: bold\">Model: \"sequential\"</span>\n",
              "</pre>\n"
            ]
          },
          "metadata": {}
        },
        {
          "output_type": "display_data",
          "data": {
            "text/plain": [
              "┏━━━━━━━━━━━━━━━━━━━━━━━━━━━━━━━━━━━━━━┳━━━━━━━━━━━━━━━━━━━━━━━━━━━━━┳━━━━━━━━━━━━━━━━━┓\n",
              "┃\u001b[1m \u001b[0m\u001b[1mLayer (type)                        \u001b[0m\u001b[1m \u001b[0m┃\u001b[1m \u001b[0m\u001b[1mOutput Shape               \u001b[0m\u001b[1m \u001b[0m┃\u001b[1m \u001b[0m\u001b[1m        Param #\u001b[0m\u001b[1m \u001b[0m┃\n",
              "┡━━━━━━━━━━━━━━━━━━━━━━━━━━━━━━━━━━━━━━╇━━━━━━━━━━━━━━━━━━━━━━━━━━━━━╇━━━━━━━━━━━━━━━━━┩\n",
              "│ embedding (\u001b[38;5;33mEmbedding\u001b[0m)                │ (\u001b[38;5;45mNone\u001b[0m, \u001b[38;5;34m100\u001b[0m, \u001b[38;5;34m100\u001b[0m)            │       \u001b[38;5;34m1,000,000\u001b[0m │\n",
              "├──────────────────────────────────────┼─────────────────────────────┼─────────────────┤\n",
              "│ lstm (\u001b[38;5;33mLSTM\u001b[0m)                          │ (\u001b[38;5;45mNone\u001b[0m, \u001b[38;5;34m128\u001b[0m)                 │         \u001b[38;5;34m117,248\u001b[0m │\n",
              "├──────────────────────────────────────┼─────────────────────────────┼─────────────────┤\n",
              "│ dropout (\u001b[38;5;33mDropout\u001b[0m)                    │ (\u001b[38;5;45mNone\u001b[0m, \u001b[38;5;34m128\u001b[0m)                 │               \u001b[38;5;34m0\u001b[0m │\n",
              "├──────────────────────────────────────┼─────────────────────────────┼─────────────────┤\n",
              "│ dense (\u001b[38;5;33mDense\u001b[0m)                        │ (\u001b[38;5;45mNone\u001b[0m, \u001b[38;5;34m1\u001b[0m)                   │             \u001b[38;5;34m129\u001b[0m │\n",
              "└──────────────────────────────────────┴─────────────────────────────┴─────────────────┘\n"
            ],
            "text/html": [
              "<pre style=\"white-space:pre;overflow-x:auto;line-height:normal;font-family:Menlo,'DejaVu Sans Mono',consolas,'Courier New',monospace\">┏━━━━━━━━━━━━━━━━━━━━━━━━━━━━━━━━━━━━━━┳━━━━━━━━━━━━━━━━━━━━━━━━━━━━━┳━━━━━━━━━━━━━━━━━┓\n",
              "┃<span style=\"font-weight: bold\"> Layer (type)                         </span>┃<span style=\"font-weight: bold\"> Output Shape                </span>┃<span style=\"font-weight: bold\">         Param # </span>┃\n",
              "┡━━━━━━━━━━━━━━━━━━━━━━━━━━━━━━━━━━━━━━╇━━━━━━━━━━━━━━━━━━━━━━━━━━━━━╇━━━━━━━━━━━━━━━━━┩\n",
              "│ embedding (<span style=\"color: #0087ff; text-decoration-color: #0087ff\">Embedding</span>)                │ (<span style=\"color: #00d7ff; text-decoration-color: #00d7ff\">None</span>, <span style=\"color: #00af00; text-decoration-color: #00af00\">100</span>, <span style=\"color: #00af00; text-decoration-color: #00af00\">100</span>)            │       <span style=\"color: #00af00; text-decoration-color: #00af00\">1,000,000</span> │\n",
              "├──────────────────────────────────────┼─────────────────────────────┼─────────────────┤\n",
              "│ lstm (<span style=\"color: #0087ff; text-decoration-color: #0087ff\">LSTM</span>)                          │ (<span style=\"color: #00d7ff; text-decoration-color: #00d7ff\">None</span>, <span style=\"color: #00af00; text-decoration-color: #00af00\">128</span>)                 │         <span style=\"color: #00af00; text-decoration-color: #00af00\">117,248</span> │\n",
              "├──────────────────────────────────────┼─────────────────────────────┼─────────────────┤\n",
              "│ dropout (<span style=\"color: #0087ff; text-decoration-color: #0087ff\">Dropout</span>)                    │ (<span style=\"color: #00d7ff; text-decoration-color: #00d7ff\">None</span>, <span style=\"color: #00af00; text-decoration-color: #00af00\">128</span>)                 │               <span style=\"color: #00af00; text-decoration-color: #00af00\">0</span> │\n",
              "├──────────────────────────────────────┼─────────────────────────────┼─────────────────┤\n",
              "│ dense (<span style=\"color: #0087ff; text-decoration-color: #0087ff\">Dense</span>)                        │ (<span style=\"color: #00d7ff; text-decoration-color: #00d7ff\">None</span>, <span style=\"color: #00af00; text-decoration-color: #00af00\">1</span>)                   │             <span style=\"color: #00af00; text-decoration-color: #00af00\">129</span> │\n",
              "└──────────────────────────────────────┴─────────────────────────────┴─────────────────┘\n",
              "</pre>\n"
            ]
          },
          "metadata": {}
        },
        {
          "output_type": "display_data",
          "data": {
            "text/plain": [
              "\u001b[1m Total params: \u001b[0m\u001b[38;5;34m1,117,377\u001b[0m (4.26 MB)\n"
            ],
            "text/html": [
              "<pre style=\"white-space:pre;overflow-x:auto;line-height:normal;font-family:Menlo,'DejaVu Sans Mono',consolas,'Courier New',monospace\"><span style=\"font-weight: bold\"> Total params: </span><span style=\"color: #00af00; text-decoration-color: #00af00\">1,117,377</span> (4.26 MB)\n",
              "</pre>\n"
            ]
          },
          "metadata": {}
        },
        {
          "output_type": "display_data",
          "data": {
            "text/plain": [
              "\u001b[1m Trainable params: \u001b[0m\u001b[38;5;34m117,377\u001b[0m (458.50 KB)\n"
            ],
            "text/html": [
              "<pre style=\"white-space:pre;overflow-x:auto;line-height:normal;font-family:Menlo,'DejaVu Sans Mono',consolas,'Courier New',monospace\"><span style=\"font-weight: bold\"> Trainable params: </span><span style=\"color: #00af00; text-decoration-color: #00af00\">117,377</span> (458.50 KB)\n",
              "</pre>\n"
            ]
          },
          "metadata": {}
        },
        {
          "output_type": "display_data",
          "data": {
            "text/plain": [
              "\u001b[1m Non-trainable params: \u001b[0m\u001b[38;5;34m1,000,000\u001b[0m (3.81 MB)\n"
            ],
            "text/html": [
              "<pre style=\"white-space:pre;overflow-x:auto;line-height:normal;font-family:Menlo,'DejaVu Sans Mono',consolas,'Courier New',monospace\"><span style=\"font-weight: bold\"> Non-trainable params: </span><span style=\"color: #00af00; text-decoration-color: #00af00\">1,000,000</span> (3.81 MB)\n",
              "</pre>\n"
            ]
          },
          "metadata": {}
        },
        {
          "output_type": "stream",
          "name": "stdout",
          "text": [
            "Epoch 1/15\n",
            "\u001b[1m96/96\u001b[0m \u001b[32m━━━━━━━━━━━━━━━━━━━━\u001b[0m\u001b[37m\u001b[0m \u001b[1m6s\u001b[0m 13ms/step - accuracy: 0.5305 - loss: 0.6841 - precision: 0.4665 - recall: 0.6797 - val_accuracy: 0.7236 - val_loss: 0.5842 - val_precision: 0.6570 - val_recall: 0.7350\n",
            "Epoch 2/15\n",
            "\u001b[1m96/96\u001b[0m \u001b[32m━━━━━━━━━━━━━━━━━━━━\u001b[0m\u001b[37m\u001b[0m \u001b[1m1s\u001b[0m 8ms/step - accuracy: 0.7232 - loss: 0.5652 - precision: 0.6605 - recall: 0.7413 - val_accuracy: 0.7617 - val_loss: 0.5228 - val_precision: 0.7003 - val_recall: 0.7704\n",
            "Epoch 3/15\n",
            "\u001b[1m96/96\u001b[0m \u001b[32m━━━━━━━━━━━━━━━━━━━━\u001b[0m\u001b[37m\u001b[0m \u001b[1m1s\u001b[0m 8ms/step - accuracy: 0.7657 - loss: 0.5122 - precision: 0.7383 - recall: 0.7182 - val_accuracy: 0.7886 - val_loss: 0.4864 - val_precision: 0.7884 - val_recall: 0.6888\n",
            "Epoch 4/15\n",
            "\u001b[1m96/96\u001b[0m \u001b[32m━━━━━━━━━━━━━━━━━━━━\u001b[0m\u001b[37m\u001b[0m \u001b[1m1s\u001b[0m 8ms/step - accuracy: 0.7849 - loss: 0.4882 - precision: 0.7701 - recall: 0.7182 - val_accuracy: 0.7846 - val_loss: 0.4903 - val_precision: 0.7465 - val_recall: 0.7488\n",
            "Epoch 5/15\n",
            "\u001b[1m96/96\u001b[0m \u001b[32m━━━━━━━━━━━━━━━━━━━━\u001b[0m\u001b[37m\u001b[0m \u001b[1m1s\u001b[0m 8ms/step - accuracy: 0.7848 - loss: 0.4772 - precision: 0.7565 - recall: 0.7312 - val_accuracy: 0.7951 - val_loss: 0.4730 - val_precision: 0.7951 - val_recall: 0.6995\n",
            "Epoch 6/15\n",
            "\u001b[1m96/96\u001b[0m \u001b[32m━━━━━━━━━━━━━━━━━━━━\u001b[0m\u001b[37m\u001b[0m \u001b[1m1s\u001b[0m 8ms/step - accuracy: 0.7710 - loss: 0.4889 - precision: 0.7521 - recall: 0.7201 - val_accuracy: 0.7912 - val_loss: 0.4656 - val_precision: 0.8059 - val_recall: 0.6718\n",
            "Epoch 7/15\n",
            "\u001b[1m96/96\u001b[0m \u001b[32m━━━━━━━━━━━━━━━━━━━━\u001b[0m\u001b[37m\u001b[0m \u001b[1m1s\u001b[0m 8ms/step - accuracy: 0.7836 - loss: 0.4818 - precision: 0.7617 - recall: 0.7258 - val_accuracy: 0.7899 - val_loss: 0.4734 - val_precision: 0.7615 - val_recall: 0.7381\n",
            "Epoch 8/15\n",
            "\u001b[1m96/96\u001b[0m \u001b[32m━━━━━━━━━━━━━━━━━━━━\u001b[0m\u001b[37m\u001b[0m \u001b[1m1s\u001b[0m 7ms/step - accuracy: 0.7807 - loss: 0.4739 - precision: 0.7605 - recall: 0.7173 - val_accuracy: 0.7951 - val_loss: 0.4732 - val_precision: 0.7662 - val_recall: 0.7473\n",
            "Epoch 9/15\n",
            "\u001b[1m96/96\u001b[0m \u001b[32m━━━━━━━━━━━━━━━━━━━━\u001b[0m\u001b[37m\u001b[0m \u001b[1m1s\u001b[0m 7ms/step - accuracy: 0.7868 - loss: 0.4736 - precision: 0.7720 - recall: 0.7243 - val_accuracy: 0.7945 - val_loss: 0.4604 - val_precision: 0.8022 - val_recall: 0.6872\n",
            "Epoch 10/15\n",
            "\u001b[1m96/96\u001b[0m \u001b[32m━━━━━━━━━━━━━━━━━━━━\u001b[0m\u001b[37m\u001b[0m \u001b[1m1s\u001b[0m 7ms/step - accuracy: 0.7898 - loss: 0.4600 - precision: 0.7746 - recall: 0.7236 - val_accuracy: 0.7912 - val_loss: 0.4719 - val_precision: 0.7519 - val_recall: 0.7612\n",
            "Epoch 11/15\n",
            "\u001b[1m96/96\u001b[0m \u001b[32m━━━━━━━━━━━━━━━━━━━━\u001b[0m\u001b[37m\u001b[0m \u001b[1m1s\u001b[0m 8ms/step - accuracy: 0.7884 - loss: 0.4647 - precision: 0.7664 - recall: 0.7275 - val_accuracy: 0.7958 - val_loss: 0.4569 - val_precision: 0.8007 - val_recall: 0.6934\n",
            "Epoch 12/15\n",
            "\u001b[1m96/96\u001b[0m \u001b[32m━━━━━━━━━━━━━━━━━━━━\u001b[0m\u001b[37m\u001b[0m \u001b[1m1s\u001b[0m 7ms/step - accuracy: 0.8007 - loss: 0.4492 - precision: 0.7805 - recall: 0.7452 - val_accuracy: 0.7925 - val_loss: 0.4647 - val_precision: 0.7598 - val_recall: 0.7504\n",
            "Epoch 13/15\n",
            "\u001b[1m96/96\u001b[0m \u001b[32m━━━━━━━━━━━━━━━━━━━━\u001b[0m\u001b[37m\u001b[0m \u001b[1m1s\u001b[0m 7ms/step - accuracy: 0.7949 - loss: 0.4573 - precision: 0.7766 - recall: 0.7362 - val_accuracy: 0.7971 - val_loss: 0.4527 - val_precision: 0.8114 - val_recall: 0.6826\n",
            "Epoch 14/15\n",
            "\u001b[1m96/96\u001b[0m \u001b[32m━━━━━━━━━━━━━━━━━━━━\u001b[0m\u001b[37m\u001b[0m \u001b[1m1s\u001b[0m 7ms/step - accuracy: 0.7948 - loss: 0.4592 - precision: 0.7781 - recall: 0.7345 - val_accuracy: 0.7971 - val_loss: 0.4566 - val_precision: 0.7881 - val_recall: 0.7165\n",
            "Epoch 15/15\n",
            "\u001b[1m96/96\u001b[0m \u001b[32m━━━━━━━━━━━━━━━━━━━━\u001b[0m\u001b[37m\u001b[0m \u001b[1m1s\u001b[0m 7ms/step - accuracy: 0.8005 - loss: 0.4523 - precision: 0.7795 - recall: 0.7403 - val_accuracy: 0.7886 - val_loss: 0.4689 - val_precision: 0.7459 - val_recall: 0.7643\n",
            "\u001b[1m48/48\u001b[0m \u001b[32m━━━━━━━━━━━━━━━━━━━━\u001b[0m\u001b[37m\u001b[0m \u001b[1m0s\u001b[0m 5ms/step\n",
            "Fold 2\n",
            "Epoch 1/15\n",
            "\u001b[1m96/96\u001b[0m \u001b[32m━━━━━━━━━━━━━━━━━━━━\u001b[0m\u001b[37m\u001b[0m \u001b[1m3s\u001b[0m 12ms/step - accuracy: 0.5793 - loss: 0.6679 - precision: 0.5185 - recall: 0.6791 - val_accuracy: 0.7341 - val_loss: 0.5611 - val_precision: 0.6671 - val_recall: 0.7504\n",
            "Epoch 2/15\n",
            "\u001b[1m96/96\u001b[0m \u001b[32m━━━━━━━━━━━━━━━━━━━━\u001b[0m\u001b[37m\u001b[0m \u001b[1m1s\u001b[0m 7ms/step - accuracy: 0.7216 - loss: 0.5531 - precision: 0.6489 - recall: 0.7497 - val_accuracy: 0.7853 - val_loss: 0.4988 - val_precision: 0.7710 - val_recall: 0.7057\n",
            "Epoch 3/15\n",
            "\u001b[1m96/96\u001b[0m \u001b[32m━━━━━━━━━━━━━━━━━━━━\u001b[0m\u001b[37m\u001b[0m \u001b[1m1s\u001b[0m 8ms/step - accuracy: 0.7692 - loss: 0.5081 - precision: 0.7347 - recall: 0.7292 - val_accuracy: 0.7859 - val_loss: 0.4862 - val_precision: 0.7635 - val_recall: 0.7211\n",
            "Epoch 4/15\n",
            "\u001b[1m96/96\u001b[0m \u001b[32m━━━━━━━━━━━━━━━━━━━━\u001b[0m\u001b[37m\u001b[0m \u001b[1m1s\u001b[0m 8ms/step - accuracy: 0.7660 - loss: 0.5035 - precision: 0.7379 - recall: 0.7019 - val_accuracy: 0.7899 - val_loss: 0.4722 - val_precision: 0.8283 - val_recall: 0.6394\n",
            "Epoch 5/15\n",
            "\u001b[1m96/96\u001b[0m \u001b[32m━━━━━━━━━━━━━━━━━━━━\u001b[0m\u001b[37m\u001b[0m \u001b[1m1s\u001b[0m 8ms/step - accuracy: 0.7808 - loss: 0.4908 - precision: 0.7718 - recall: 0.7151 - val_accuracy: 0.7912 - val_loss: 0.4693 - val_precision: 0.7898 - val_recall: 0.6949\n",
            "Epoch 6/15\n",
            "\u001b[1m96/96\u001b[0m \u001b[32m━━━━━━━━━━━━━━━━━━━━\u001b[0m\u001b[37m\u001b[0m \u001b[1m1s\u001b[0m 8ms/step - accuracy: 0.7874 - loss: 0.4707 - precision: 0.7639 - recall: 0.7227 - val_accuracy: 0.7925 - val_loss: 0.4667 - val_precision: 0.7866 - val_recall: 0.7042\n",
            "Epoch 7/15\n",
            "\u001b[1m96/96\u001b[0m \u001b[32m━━━━━━━━━━━━━━━━━━━━\u001b[0m\u001b[37m\u001b[0m \u001b[1m1s\u001b[0m 8ms/step - accuracy: 0.7934 - loss: 0.4647 - precision: 0.7728 - recall: 0.7396 - val_accuracy: 0.7919 - val_loss: 0.4623 - val_precision: 0.7975 - val_recall: 0.6857\n",
            "Epoch 8/15\n",
            "\u001b[1m96/96\u001b[0m \u001b[32m━━━━━━━━━━━━━━━━━━━━\u001b[0m\u001b[37m\u001b[0m \u001b[1m1s\u001b[0m 8ms/step - accuracy: 0.7889 - loss: 0.4699 - precision: 0.7766 - recall: 0.7151 - val_accuracy: 0.7787 - val_loss: 0.4841 - val_precision: 0.7342 - val_recall: 0.7535\n",
            "Epoch 9/15\n",
            "\u001b[1m96/96\u001b[0m \u001b[32m━━━━━━━━━━━━━━━━━━━━\u001b[0m\u001b[37m\u001b[0m \u001b[1m1s\u001b[0m 7ms/step - accuracy: 0.7922 - loss: 0.4552 - precision: 0.7698 - recall: 0.7397 - val_accuracy: 0.7892 - val_loss: 0.4627 - val_precision: 0.7818 - val_recall: 0.7011\n",
            "Epoch 10/15\n",
            "\u001b[1m96/96\u001b[0m \u001b[32m━━━━━━━━━━━━━━━━━━━━\u001b[0m\u001b[37m\u001b[0m \u001b[1m1s\u001b[0m 7ms/step - accuracy: 0.7964 - loss: 0.4450 - precision: 0.7703 - recall: 0.7527 - val_accuracy: 0.7859 - val_loss: 0.4707 - val_precision: 0.7576 - val_recall: 0.7319\n",
            "\u001b[1m48/48\u001b[0m \u001b[32m━━━━━━━━━━━━━━━━━━━━\u001b[0m\u001b[37m\u001b[0m \u001b[1m0s\u001b[0m 5ms/step\n",
            "Fold 3\n",
            "Epoch 1/15\n",
            "\u001b[1m96/96\u001b[0m \u001b[32m━━━━━━━━━━━━━━━━━━━━\u001b[0m\u001b[37m\u001b[0m \u001b[1m3s\u001b[0m 12ms/step - accuracy: 0.5863 - loss: 0.6672 - precision: 0.5195 - recall: 0.6032 - val_accuracy: 0.7518 - val_loss: 0.5573 - val_precision: 0.6910 - val_recall: 0.7746\n",
            "Epoch 2/15\n",
            "\u001b[1m96/96\u001b[0m \u001b[32m━━━━━━━━━━━━━━━━━━━━\u001b[0m\u001b[37m\u001b[0m \u001b[1m1s\u001b[0m 8ms/step - accuracy: 0.7406 - loss: 0.5522 - precision: 0.6802 - recall: 0.7324 - val_accuracy: 0.7682 - val_loss: 0.5048 - val_precision: 0.7145 - val_recall: 0.7761\n",
            "Epoch 3/15\n",
            "\u001b[1m96/96\u001b[0m \u001b[32m━━━━━━━━━━━━━━━━━━━━\u001b[0m\u001b[37m\u001b[0m \u001b[1m1s\u001b[0m 7ms/step - accuracy: 0.7661 - loss: 0.5104 - precision: 0.7327 - recall: 0.7207 - val_accuracy: 0.7873 - val_loss: 0.4769 - val_precision: 0.7740 - val_recall: 0.7201\n",
            "Epoch 4/15\n",
            "\u001b[1m96/96\u001b[0m \u001b[32m━━━━━━━━━━━━━━━━━━━━\u001b[0m\u001b[37m\u001b[0m \u001b[1m1s\u001b[0m 7ms/step - accuracy: 0.7755 - loss: 0.4974 - precision: 0.7569 - recall: 0.6919 - val_accuracy: 0.7951 - val_loss: 0.4772 - val_precision: 0.7640 - val_recall: 0.7640\n",
            "Epoch 5/15\n",
            "\u001b[1m96/96\u001b[0m \u001b[32m━━━━━━━━━━━━━━━━━━━━\u001b[0m\u001b[37m\u001b[0m \u001b[1m1s\u001b[0m 7ms/step - accuracy: 0.7902 - loss: 0.4770 - precision: 0.7704 - recall: 0.7206 - val_accuracy: 0.7807 - val_loss: 0.4894 - val_precision: 0.7261 - val_recall: 0.7943\n",
            "Epoch 6/15\n",
            "\u001b[1m96/96\u001b[0m \u001b[32m━━━━━━━━━━━━━━━━━━━━\u001b[0m\u001b[37m\u001b[0m \u001b[1m1s\u001b[0m 7ms/step - accuracy: 0.7804 - loss: 0.4814 - precision: 0.7521 - recall: 0.7388 - val_accuracy: 0.7840 - val_loss: 0.4901 - val_precision: 0.7325 - val_recall: 0.7912\n",
            "\u001b[1m48/48\u001b[0m \u001b[32m━━━━━━━━━━━━━━━━━━━━\u001b[0m\u001b[37m\u001b[0m \u001b[1m0s\u001b[0m 5ms/step\n",
            "Fold 4\n",
            "Epoch 1/15\n",
            "\u001b[1m96/96\u001b[0m \u001b[32m━━━━━━━━━━━━━━━━━━━━\u001b[0m\u001b[37m\u001b[0m \u001b[1m3s\u001b[0m 12ms/step - accuracy: 0.5721 - loss: 0.6754 - precision: 0.5087 - recall: 0.5846 - val_accuracy: 0.7306 - val_loss: 0.5691 - val_precision: 0.6653 - val_recall: 0.7584\n",
            "Epoch 2/15\n",
            "\u001b[1m96/96\u001b[0m \u001b[32m━━━━━━━━━━━━━━━━━━━━\u001b[0m\u001b[37m\u001b[0m \u001b[1m1s\u001b[0m 7ms/step - accuracy: 0.7385 - loss: 0.5477 - precision: 0.6821 - recall: 0.7458 - val_accuracy: 0.7687 - val_loss: 0.5087 - val_precision: 0.7782 - val_recall: 0.6505\n",
            "Epoch 3/15\n",
            "\u001b[1m96/96\u001b[0m \u001b[32m━━━━━━━━━━━━━━━━━━━━\u001b[0m\u001b[37m\u001b[0m \u001b[1m1s\u001b[0m 8ms/step - accuracy: 0.7747 - loss: 0.5111 - precision: 0.7477 - recall: 0.7277 - val_accuracy: 0.7720 - val_loss: 0.4915 - val_precision: 0.7587 - val_recall: 0.6930\n",
            "Epoch 4/15\n",
            "\u001b[1m96/96\u001b[0m \u001b[32m━━━━━━━━━━━━━━━━━━━━\u001b[0m\u001b[37m\u001b[0m \u001b[1m1s\u001b[0m 7ms/step - accuracy: 0.7765 - loss: 0.4974 - precision: 0.7565 - recall: 0.7063 - val_accuracy: 0.7668 - val_loss: 0.5022 - val_precision: 0.7180 - val_recall: 0.7584\n",
            "Epoch 5/15\n",
            "\u001b[1m96/96\u001b[0m \u001b[32m━━━━━━━━━━━━━━━━━━━━\u001b[0m\u001b[37m\u001b[0m \u001b[1m1s\u001b[0m 7ms/step - accuracy: 0.7819 - loss: 0.4836 - precision: 0.7529 - recall: 0.7351 - val_accuracy: 0.7740 - val_loss: 0.4744 - val_precision: 0.7784 - val_recall: 0.6672\n",
            "Epoch 6/15\n",
            "\u001b[1m96/96\u001b[0m \u001b[32m━━━━━━━━━━━━━━━━━━━━\u001b[0m\u001b[37m\u001b[0m \u001b[1m1s\u001b[0m 8ms/step - accuracy: 0.8038 - loss: 0.4643 - precision: 0.7990 - recall: 0.7411 - val_accuracy: 0.7694 - val_loss: 0.4766 - val_precision: 0.7580 - val_recall: 0.6854\n",
            "Epoch 7/15\n",
            "\u001b[1m96/96\u001b[0m \u001b[32m━━━━━━━━━━━━━━━━━━━━\u001b[0m\u001b[37m\u001b[0m \u001b[1m1s\u001b[0m 7ms/step - accuracy: 0.7869 - loss: 0.4682 - precision: 0.7580 - recall: 0.7364 - val_accuracy: 0.7819 - val_loss: 0.4757 - val_precision: 0.7587 - val_recall: 0.7264\n",
            "Epoch 8/15\n",
            "\u001b[1m96/96\u001b[0m \u001b[32m━━━━━━━━━━━━━━━━━━━━\u001b[0m\u001b[37m\u001b[0m \u001b[1m1s\u001b[0m 7ms/step - accuracy: 0.7843 - loss: 0.4783 - precision: 0.7606 - recall: 0.7236 - val_accuracy: 0.7806 - val_loss: 0.4702 - val_precision: 0.7673 - val_recall: 0.7067\n",
            "Epoch 9/15\n",
            "\u001b[1m96/96\u001b[0m \u001b[32m━━━━━━━━━━━━━━━━━━━━\u001b[0m\u001b[37m\u001b[0m \u001b[1m1s\u001b[0m 7ms/step - accuracy: 0.8015 - loss: 0.4572 - precision: 0.7973 - recall: 0.7261 - val_accuracy: 0.7740 - val_loss: 0.4753 - val_precision: 0.7461 - val_recall: 0.7234\n",
            "Epoch 10/15\n",
            "\u001b[1m96/96\u001b[0m \u001b[32m━━━━━━━━━━━━━━━━━━━━\u001b[0m\u001b[37m\u001b[0m \u001b[1m1s\u001b[0m 7ms/step - accuracy: 0.7853 - loss: 0.4789 - precision: 0.7714 - recall: 0.7149 - val_accuracy: 0.7714 - val_loss: 0.4783 - val_precision: 0.7370 - val_recall: 0.7325\n",
            "Epoch 11/15\n",
            "\u001b[1m96/96\u001b[0m \u001b[32m━━━━━━━━━━━━━━━━━━━━\u001b[0m\u001b[37m\u001b[0m \u001b[1m1s\u001b[0m 7ms/step - accuracy: 0.8016 - loss: 0.4567 - precision: 0.7780 - recall: 0.7425 - val_accuracy: 0.7720 - val_loss: 0.4775 - val_precision: 0.7352 - val_recall: 0.7386\n",
            "\u001b[1m48/48\u001b[0m \u001b[32m━━━━━━━━━━━━━━━━━━━━\u001b[0m\u001b[37m\u001b[0m \u001b[1m0s\u001b[0m 5ms/step\n",
            "Fold 5\n",
            "Epoch 1/15\n",
            "\u001b[1m96/96\u001b[0m \u001b[32m━━━━━━━━━━━━━━━━━━━━\u001b[0m\u001b[37m\u001b[0m \u001b[1m3s\u001b[0m 13ms/step - accuracy: 0.5921 - loss: 0.6694 - precision: 0.5206 - recall: 0.5839 - val_accuracy: 0.7372 - val_loss: 0.5738 - val_precision: 0.6879 - val_recall: 0.7110\n",
            "Epoch 2/15\n",
            "\u001b[1m96/96\u001b[0m \u001b[32m━━━━━━━━━━━━━━━━━━━━\u001b[0m\u001b[37m\u001b[0m \u001b[1m1s\u001b[0m 8ms/step - accuracy: 0.7348 - loss: 0.5515 - precision: 0.6781 - recall: 0.7475 - val_accuracy: 0.7470 - val_loss: 0.5278 - val_precision: 0.7010 - val_recall: 0.7171\n",
            "Epoch 3/15\n",
            "\u001b[1m96/96\u001b[0m \u001b[32m━━━━━━━━━━━━━━━━━━━━\u001b[0m\u001b[37m\u001b[0m \u001b[1m1s\u001b[0m 8ms/step - accuracy: 0.7670 - loss: 0.5035 - precision: 0.7283 - recall: 0.7243 - val_accuracy: 0.7549 - val_loss: 0.5155 - val_precision: 0.7285 - val_recall: 0.6850\n",
            "Epoch 4/15\n",
            "\u001b[1m96/96\u001b[0m \u001b[32m━━━━━━━━━━━━━━━━━━━━\u001b[0m\u001b[37m\u001b[0m \u001b[1m1s\u001b[0m 8ms/step - accuracy: 0.7866 - loss: 0.4854 - precision: 0.7578 - recall: 0.7162 - val_accuracy: 0.7608 - val_loss: 0.5078 - val_precision: 0.7491 - val_recall: 0.6667\n",
            "Epoch 5/15\n",
            "\u001b[1m96/96\u001b[0m \u001b[32m━━━━━━━━━━━━━━━━━━━━\u001b[0m\u001b[37m\u001b[0m \u001b[1m1s\u001b[0m 8ms/step - accuracy: 0.7894 - loss: 0.4813 - precision: 0.7796 - recall: 0.7176 - val_accuracy: 0.7622 - val_loss: 0.5045 - val_precision: 0.7500 - val_recall: 0.6697\n",
            "Epoch 6/15\n",
            "\u001b[1m96/96\u001b[0m \u001b[32m━━━━━━━━━━━━━━━━━━━━\u001b[0m\u001b[37m\u001b[0m \u001b[1m1s\u001b[0m 7ms/step - accuracy: 0.7937 - loss: 0.4667 - precision: 0.7861 - recall: 0.7197 - val_accuracy: 0.7615 - val_loss: 0.5096 - val_precision: 0.7299 - val_recall: 0.7064\n",
            "Epoch 7/15\n",
            "\u001b[1m96/96\u001b[0m \u001b[32m━━━━━━━━━━━━━━━━━━━━\u001b[0m\u001b[37m\u001b[0m \u001b[1m1s\u001b[0m 9ms/step - accuracy: 0.7903 - loss: 0.4691 - precision: 0.7765 - recall: 0.7201 - val_accuracy: 0.7641 - val_loss: 0.5016 - val_precision: 0.7430 - val_recall: 0.6896\n",
            "Epoch 8/15\n",
            "\u001b[1m96/96\u001b[0m \u001b[32m━━━━━━━━━━━━━━━━━━━━\u001b[0m\u001b[37m\u001b[0m \u001b[1m1s\u001b[0m 7ms/step - accuracy: 0.7974 - loss: 0.4575 - precision: 0.7913 - recall: 0.7140 - val_accuracy: 0.7582 - val_loss: 0.5198 - val_precision: 0.7066 - val_recall: 0.7477\n",
            "Epoch 9/15\n",
            "\u001b[1m96/96\u001b[0m \u001b[32m━━━━━━━━━━━━━━━━━━━━\u001b[0m\u001b[37m\u001b[0m \u001b[1m1s\u001b[0m 7ms/step - accuracy: 0.7987 - loss: 0.4573 - precision: 0.7870 - recall: 0.7396 - val_accuracy: 0.7635 - val_loss: 0.5053 - val_precision: 0.7326 - val_recall: 0.7080\n",
            "Epoch 10/15\n",
            "\u001b[1m96/96\u001b[0m \u001b[32m━━━━━━━━━━━━━━━━━━━━\u001b[0m\u001b[37m\u001b[0m \u001b[1m1s\u001b[0m 7ms/step - accuracy: 0.7984 - loss: 0.4501 - precision: 0.7884 - recall: 0.7279 - val_accuracy: 0.7628 - val_loss: 0.5027 - val_precision: 0.7352 - val_recall: 0.7003\n",
            "\u001b[1m48/48\u001b[0m \u001b[32m━━━━━━━━━━━━━━━━━━━━\u001b[0m\u001b[37m\u001b[0m \u001b[1m0s\u001b[0m 5ms/step\n",
            "CPU times: user 1min 15s, sys: 4.73 s, total: 1min 20s\n",
            "Wall time: 58.3 s\n"
          ]
        }
      ]
    },
    {
      "cell_type": "code",
      "source": [
        "# Due to early stopping, differnt folds may run different number of epochs.\n",
        "# We therefore pad the list of epochs with NaN so they are the same length for each fold.\n",
        "def pad_fold_epoch_lists(metric_list, max_len):\n",
        "    \"\"\"Pads each list in metric_list with NaN to ensure equal length.\"\"\"\n",
        "    padded_metrics = []\n",
        "    for seq in metric_list:\n",
        "        if len(seq) < max_len:\n",
        "            # Pad the sequence with NaN to make them equal length\n",
        "            seq = seq + [np.nan] * (max_len - len(seq))\n",
        "        padded_metrics.append(seq)\n",
        "    return padded_metrics\n",
        "\n",
        "# Find the maximum number of epochs across all folds\n",
        "max_epochs = max(len(acc) for acc in epoch_metrics['accuracy'])\n",
        "\n",
        "# Pad all metric lists to ensure they have the same length\n",
        "epoch_metrics['accuracy'] = pad_fold_epoch_lists(epoch_metrics['accuracy'], max_epochs)\n",
        "epoch_metrics['val_accuracy'] = pad_fold_epoch_lists(epoch_metrics['val_accuracy'], max_epochs)\n",
        "epoch_metrics['precision'] = pad_fold_epoch_lists(epoch_metrics['precision'], max_epochs)\n",
        "epoch_metrics['val_precision'] = pad_fold_epoch_lists(epoch_metrics['val_precision'], max_epochs)\n",
        "epoch_metrics['recall'] = pad_fold_epoch_lists(epoch_metrics['recall'], max_epochs)\n",
        "epoch_metrics['val_recall'] = pad_fold_epoch_lists(epoch_metrics['val_recall'], max_epochs)\n",
        "epoch_metrics['f1'] = pad_fold_epoch_lists(epoch_metrics['f1'], max_epochs)\n",
        "epoch_metrics['val_f1'] = pad_fold_epoch_lists(epoch_metrics['val_f1'], max_epochs)\n",
        "epoch_metrics['loss'] = pad_fold_epoch_lists(epoch_metrics['loss'], max_epochs)\n",
        "epoch_metrics['val_loss'] = pad_fold_epoch_lists(epoch_metrics['val_loss'], max_epochs)\n",
        "\n",
        "# Average the metrics across all folds for each epoch, ignoring NaN values\n",
        "average_metrics = {\n",
        "    'accuracy': np.nanmean(epoch_metrics['accuracy'], axis=0),\n",
        "    'val_accuracy': np.nanmean(epoch_metrics['val_accuracy'], axis=0),\n",
        "    'precision': np.nanmean(epoch_metrics['precision'], axis=0),\n",
        "    'val_precision': np.nanmean(epoch_metrics['val_precision'], axis=0),\n",
        "    'recall': np.nanmean(epoch_metrics['recall'], axis=0),\n",
        "    'val_recall': np.nanmean(epoch_metrics['val_recall'], axis=0),\n",
        "    'f1': np.nanmean(epoch_metrics['f1'], axis=0),\n",
        "    'val_f1': np.nanmean(epoch_metrics['val_f1'], axis=0),\n",
        "    'loss': np.nanmean(epoch_metrics['loss'], axis=0),\n",
        "    'val_loss': np.nanmean(epoch_metrics['val_loss'], axis=0)\n",
        "}\n",
        "\n",
        "# Average the confusion matrix over all folds\n",
        "average_confusion_matrix = cumulative_confusion_matrix / k"
      ],
      "metadata": {
        "id": "Ia7K9fP47n9M"
      },
      "execution_count": 25,
      "outputs": []
    },
    {
      "cell_type": "code",
      "source": [
        "# Generate a timestamp, to be used in the file names of all generated files\n",
        "timestamp = datetime.now(pytz.timezone('US/Eastern')).strftime('%Y-%m-%d_%H%M')"
      ],
      "metadata": {
        "id": "By-c4aldz0bO"
      },
      "execution_count": 26,
      "outputs": []
    },
    {
      "cell_type": "code",
      "source": [
        "# Output results\n",
        "print(\"For the last epoch, these were the averages of the validation numbers across the folds:\")\n",
        "print(f\"loss: {average_metrics['val_loss'][-1]}\")\n",
        "print(f\"accuracy: {average_metrics['val_accuracy'][-1]}\")\n",
        "print(f\"precision: {average_metrics['val_precision'][-1]}\")\n",
        "print(f\"recall: {average_metrics['val_recall'][-1]}\")\n",
        "print(f\"F1 score: {average_metrics['val_f1'][-1]}\")\n",
        "\n",
        "# Create a new dictionary, to hold both configs and final validation results\n",
        "config_and_results = lstm_config.copy()\n",
        "\n",
        "# Add final validation values to the dictionary\n",
        "# config_and_results['average_metrics'] = average_metrics\n",
        "config_and_results['val_acc'] = average_metrics['val_accuracy'][-1]\n",
        "config_and_results['val_loss'] = average_metrics['val_loss'][-1]\n",
        "config_and_results['val_precision'] = average_metrics['val_precision'][-1]\n",
        "config_and_results['val_recall'] = average_metrics['val_recall'][-1]\n",
        "config_and_results['val_f1'] = average_metrics['val_f1'][-1]\n",
        "\n",
        "# File name for the config_and_results file\n",
        "config_and_results_f = f'config_and_results_{timestamp}.json'\n",
        "\n",
        "# Generate a JSON object with the configs and the results.\n",
        "with open(os.path.join(results_dir, config_and_results_f), 'w') as f:\n",
        "    json.dump(config_and_results, f, indent = 4)"
      ],
      "metadata": {
        "colab": {
          "base_uri": "https://localhost:8080/"
        },
        "id": "kWuO_idt0Kvt",
        "outputId": "ef18b7df-c2af-43bf-a9e4-e3ce02b878f3"
      },
      "execution_count": 27,
      "outputs": [
        {
          "output_type": "stream",
          "name": "stdout",
          "text": [
            "For the last epoch, these were the averages of the validation numbers across the folds:\n",
            "loss: 0.4689345359802246\n",
            "accuracy: 0.7885751724243164\n",
            "precision: 0.7458646893501282\n",
            "recall: 0.7642527222633362\n",
            "F1 score: 0.7549467043354702\n"
          ]
        }
      ]
    },
    {
      "cell_type": "code",
      "source": [
        "# Display the averaged confusion matrix\n",
        "def plot_confusion_matrix(cm, title=\"Confusion Matrix\"):\n",
        "\n",
        "    fig, ax = plt.subplots()\n",
        "    sns.heatmap(cm, annot=True, fmt=\".0f\", cmap=\"Blues\", ax=ax)  # Add fmt=\".1f\" to format floats\n",
        "    ax.set_title(title)\n",
        "    ax.set_xlabel('Predicted')\n",
        "    ax.set_ylabel('True')\n",
        "    ax.set_xticks([0.5, 1.5])\n",
        "    ax.set_xticklabels(['Not Disaster', 'Disaster'])\n",
        "    ax.set_yticks([0.5, 1.5])\n",
        "    ax.set_yticklabels(['Not Disaster', 'Disaster'])\n",
        "\n",
        "    # Save the plot\n",
        "    conf_matrix_f = f'conf_matrix_{timestamp}.png'\n",
        "    plt.savefig(os.path.join(results_dir, conf_matrix_f))\n",
        "\n",
        "    plt.show()\n",
        "\n",
        "\n",
        "# Show and save the confusion matrix\n",
        "plot_confusion_matrix(average_confusion_matrix, title=\"Average Confusion Matrix over K-Folds\")"
      ],
      "metadata": {
        "colab": {
          "base_uri": "https://localhost:8080/",
          "height": 472
        },
        "id": "la1azdpfyZYp",
        "outputId": "ab709c71-1d8f-4554-db30-39cf2c8a0a8b"
      },
      "execution_count": 28,
      "outputs": [
        {
          "output_type": "display_data",
          "data": {
            "text/plain": [
              "<Figure size 640x480 with 2 Axes>"
            ],
            "image/png": "[encoded data removed]"
          },
          "metadata": {}
        }
      ]
    },
    {
      "cell_type": "code",
      "source": [
        "def plot_all_metrics_over_epochs(average_metrics, timestamp):\n",
        "    # epochs = metrics_history.epochs\n",
        "    epochs = [*range(len(average_metrics['accuracy']))]\n",
        "\n",
        "    plt.figure(figsize=(12, 7))\n",
        "\n",
        "    # Loss plot\n",
        "    plt.subplot(2, 3, 1)\n",
        "    plt.plot(epochs, average_metrics['loss'], label='Training Loss')\n",
        "    plt.plot(epochs, average_metrics['val_loss'], label='Validation Loss')\n",
        "    plt.title('Loss over Epochs')\n",
        "    plt.xlabel('Epochs')\n",
        "    plt.ylabel('Loss')\n",
        "    plt.xticks(range(0, max(epochs) + 1, 2))  # Adjust x-ticks to display only whole numbers\n",
        "    plt.legend()\n",
        "\n",
        "    # Accuracy plot\n",
        "    plt.subplot(2, 3, 2)\n",
        "    plt.plot(epochs, average_metrics['accuracy'], label='Training Accuracy')\n",
        "    plt.plot(epochs, average_metrics['val_accuracy'], label='Validation Accuracy')\n",
        "    plt.title('Accuracy over Epochs')\n",
        "    plt.xlabel('Epochs')\n",
        "    plt.ylabel('Accuracy')\n",
        "    plt.xticks(range(0, max(epochs) + 1, 2))  # Adjust x-ticks to display only whole numbers\n",
        "    plt.legend()\n",
        "\n",
        "    # Precision plot\n",
        "    plt.subplot(2, 3, 4)\n",
        "    plt.plot(epochs, average_metrics['precision'], label='Training Precision')\n",
        "    plt.plot(epochs, average_metrics['val_precision'], label='Validation Precision')\n",
        "    plt.title('Precision over Epochs')\n",
        "    plt.xlabel('Epochs')\n",
        "    plt.ylabel('Precision')\n",
        "    plt.xticks(range(0, max(epochs) + 1, 2))  # Adjust x-ticks to display only whole numbers\n",
        "    plt.legend()\n",
        "\n",
        "    # Recall plot\n",
        "    plt.subplot(2, 3, 5)\n",
        "    plt.plot(epochs, average_metrics['recall'], label='Training Recall')\n",
        "    plt.plot(epochs, average_metrics['val_recall'], label='Validation Recall')\n",
        "    plt.title('Recall over Epochs')\n",
        "    plt.xlabel('Epochs')\n",
        "    plt.ylabel('Recall')\n",
        "    plt.xticks(range(0, max(epochs) + 1, 2))  # Adjust x-ticks to display only whole numbers\n",
        "    plt.legend()\n",
        "\n",
        "    # F1 plot\n",
        "    plt.subplot(2, 3, 6)\n",
        "    plt.plot(epochs, average_metrics['f1'], label='Training F1 Score')\n",
        "    plt.plot(epochs, average_metrics['val_f1'], label='Validation F1 Score')\n",
        "    plt.title('F1 Score over Epochs')\n",
        "    plt.xlabel('Epochs')\n",
        "    plt.ylabel('F1 Score')\n",
        "    plt.xticks(range(0, max(epochs) + 1, 2))  # Adjust x-ticks to display only whole numbers\n",
        "    plt.legend()\n",
        "\n",
        "    plt.tight_layout()\n",
        "\n",
        "    # Save the plot with a unique timestamp\n",
        "    metrics_plots_f = f'metric_plots_{timestamp}.png'\n",
        "\n",
        "    # Save the plot.\n",
        "    plt.savefig(os.path.join(results_dir, metrics_plots_f))\n",
        "\n",
        "    plt.show()\n",
        "\n",
        "# Plot metrics over epochs\n",
        "plot_all_metrics_over_epochs(average_metrics, timestamp)"
      ],
      "metadata": {
        "colab": {
          "base_uri": "https://localhost:8080/",
          "height": 683
        },
        "id": "QMyUqO7h0muv",
        "outputId": "41a0e7e6-54a9-43f5-d98e-180a252ee735"
      },
      "execution_count": 29,
      "outputs": [
        {
          "output_type": "display_data",
          "data": {
            "text/plain": [
              "<Figure size 1200x700 with 5 Axes>"
            ],
            "image/png": "[encoded data removed]"
          },
          "metadata": {}
        }
      ]
    },
    {
      "cell_type": "markdown",
      "metadata": {
        "id": "0YlTOZYen7ot"
      },
      "source": [
        "# **6. Model 2. DistilBERT**"
      ]
    },
    {
      "cell_type": "code",
      "source": [
        "# Configs\n",
        "bert_config = {\n",
        "    'model': 'distilbert',\n",
        "    'lr': 0.00002, # Start around 0.00002 to 0.00005\n",
        "    'epochs': 3,\n",
        "    'patience': 3,\n",
        "    'batch': 32 # Try 16, 32, 64.\n",
        "}"
      ],
      "metadata": {
        "id": "P-flR-GxncaS"
      },
      "execution_count": 227,
      "outputs": []
    },
    {
      "cell_type": "code",
      "execution_count": 228,
      "metadata": {
        "id": "QQjURpw8n9Hx"
      },
      "outputs": [],
      "source": [
        "AUTO = tf.data.experimental.AUTOTUNE"
      ]
    },
    {
      "cell_type": "code",
      "execution_count": 281,
      "metadata": {
        "colab": {
          "base_uri": "https://localhost:8080/",
          "height": 502
        },
        "id": "zbe-TkRooQzU",
        "outputId": "e7e80f94-7540-4f39-bba0-5248a3e51e4c"
      },
      "outputs": [
        {
          "output_type": "display_data",
          "data": {
            "text/plain": [
              "\u001b[1mPreprocessor: \"preprocessor_4_tweets\"\u001b[0m\n"
            ],
            "text/html": [
              "<pre style=\"white-space:pre;overflow-x:auto;line-height:normal;font-family:Menlo,'DejaVu Sans Mono',consolas,'Courier New',monospace\"><span style=\"font-weight: bold\">Preprocessor: \"preprocessor_4_tweets\"</span>\n",
              "</pre>\n"
            ]
          },
          "metadata": {}
        },
        {
          "output_type": "display_data",
          "data": {
            "text/plain": [
              "┏━━━━━━━━━━━━━━━━━━━━━━━━━━━━━━━━━━━━━━━━━━━━━━━━━━━━━━━━━━━━━━━┳━━━━━━━━━━━━━━━━━━━━━━━━━━━━━━━━━━━━━━━━━━┓\n",
              "┃\u001b[1m \u001b[0m\u001b[1mLayer (type)                                                 \u001b[0m\u001b[1m \u001b[0m┃\u001b[1m \u001b[0m\u001b[1m                                  Config\u001b[0m\u001b[1m \u001b[0m┃\n",
              "┡━━━━━━━━━━━━━━━━━━━━━━━━━━━━━━━━━━━━━━━━━━━━━━━━━━━━━━━━━━━━━━━╇━━━━━━━━━━━━━━━━━━━━━━━━━━━━━━━━━━━━━━━━━━┩\n",
              "│ distil_bert_tokenizer (\u001b[38;5;33mDistilBertTokenizer\u001b[0m)                   │                       Vocab size: \u001b[38;5;34m30,522\u001b[0m │\n",
              "└───────────────────────────────────────────────────────────────┴──────────────────────────────────────────┘\n"
            ],
            "text/html": [
              "<pre style=\"white-space:pre;overflow-x:auto;line-height:normal;font-family:Menlo,'DejaVu Sans Mono',consolas,'Courier New',monospace\">┏━━━━━━━━━━━━━━━━━━━━━━━━━━━━━━━━━━━━━━━━━━━━━━━━━━━━━━━━━━━━━━━┳━━━━━━━━━━━━━━━━━━━━━━━━━━━━━━━━━━━━━━━━━━┓\n",
              "┃<span style=\"font-weight: bold\"> Layer (type)                                                  </span>┃<span style=\"font-weight: bold\">                                   Config </span>┃\n",
              "┡━━━━━━━━━━━━━━━━━━━━━━━━━━━━━━━━━━━━━━━━━━━━━━━━━━━━━━━━━━━━━━━╇━━━━━━━━━━━━━━━━━━━━━━━━━━━━━━━━━━━━━━━━━━┩\n",
              "│ distil_bert_tokenizer (<span style=\"color: #0087ff; text-decoration-color: #0087ff\">DistilBertTokenizer</span>)                   │                       Vocab size: <span style=\"color: #00af00; text-decoration-color: #00af00\">30,522</span> │\n",
              "└───────────────────────────────────────────────────────────────┴──────────────────────────────────────────┘\n",
              "</pre>\n"
            ]
          },
          "metadata": {}
        },
        {
          "output_type": "display_data",
          "data": {
            "text/plain": [
              "\u001b[1mModel: \"distil_bert_text_classifier_4\"\u001b[0m\n"
            ],
            "text/html": [
              "<pre style=\"white-space:pre;overflow-x:auto;line-height:normal;font-family:Menlo,'DejaVu Sans Mono',consolas,'Courier New',monospace\"><span style=\"font-weight: bold\">Model: \"distil_bert_text_classifier_4\"</span>\n",
              "</pre>\n"
            ]
          },
          "metadata": {}
        },
        {
          "output_type": "display_data",
          "data": {
            "text/plain": [
              "┏━━━━━━━━━━━━━━━━━━━━━━━━━━━━━━━┳━━━━━━━━━━━━━━━━━━━━━━━━━━━┳━━━━━━━━━━━━━━━━━┳━━━━━━━━━━━━━━━━━━━━━━━━━━━━┓\n",
              "┃\u001b[1m \u001b[0m\u001b[1mLayer (type)                 \u001b[0m\u001b[1m \u001b[0m┃\u001b[1m \u001b[0m\u001b[1mOutput Shape             \u001b[0m\u001b[1m \u001b[0m┃\u001b[1m \u001b[0m\u001b[1m        Param #\u001b[0m\u001b[1m \u001b[0m┃\u001b[1m \u001b[0m\u001b[1mConnected to              \u001b[0m\u001b[1m \u001b[0m┃\n",
              "┡━━━━━━━━━━━━━━━━━━━━━━━━━━━━━━━╇━━━━━━━━━━━━━━━━━━━━━━━━━━━╇━━━━━━━━━━━━━━━━━╇━━━━━━━━━━━━━━━━━━━━━━━━━━━━┩\n",
              "│ padding_mask (\u001b[38;5;33mInputLayer\u001b[0m)     │ (\u001b[38;5;45mNone\u001b[0m, \u001b[38;5;45mNone\u001b[0m)              │               \u001b[38;5;34m0\u001b[0m │ -                          │\n",
              "├───────────────────────────────┼───────────────────────────┼─────────────────┼────────────────────────────┤\n",
              "│ token_ids (\u001b[38;5;33mInputLayer\u001b[0m)        │ (\u001b[38;5;45mNone\u001b[0m, \u001b[38;5;45mNone\u001b[0m)              │               \u001b[38;5;34m0\u001b[0m │ -                          │\n",
              "├───────────────────────────────┼───────────────────────────┼─────────────────┼────────────────────────────┤\n",
              "│ distil_bert_backbone          │ (\u001b[38;5;45mNone\u001b[0m, \u001b[38;5;45mNone\u001b[0m, \u001b[38;5;34m768\u001b[0m)         │      \u001b[38;5;34m66,362,880\u001b[0m │ padding_mask[\u001b[38;5;34m0\u001b[0m][\u001b[38;5;34m0\u001b[0m],        │\n",
              "│ (\u001b[38;5;33mDistilBertBackbone\u001b[0m)          │                           │                 │ token_ids[\u001b[38;5;34m0\u001b[0m][\u001b[38;5;34m0\u001b[0m]            │\n",
              "├───────────────────────────────┼───────────────────────────┼─────────────────┼────────────────────────────┤\n",
              "│ get_item_4 (\u001b[38;5;33mGetItem\u001b[0m)          │ (\u001b[38;5;45mNone\u001b[0m, \u001b[38;5;34m768\u001b[0m)               │               \u001b[38;5;34m0\u001b[0m │ distil_bert_backbone[\u001b[38;5;34m0\u001b[0m][\u001b[38;5;34m0\u001b[0m] │\n",
              "├───────────────────────────────┼───────────────────────────┼─────────────────┼────────────────────────────┤\n",
              "│ pooled_dense (\u001b[38;5;33mDense\u001b[0m)          │ (\u001b[38;5;45mNone\u001b[0m, \u001b[38;5;34m768\u001b[0m)               │         \u001b[38;5;34m590,592\u001b[0m │ get_item_4[\u001b[38;5;34m0\u001b[0m][\u001b[38;5;34m0\u001b[0m]           │\n",
              "├───────────────────────────────┼───────────────────────────┼─────────────────┼────────────────────────────┤\n",
              "│ output_dropout (\u001b[38;5;33mDropout\u001b[0m)      │ (\u001b[38;5;45mNone\u001b[0m, \u001b[38;5;34m768\u001b[0m)               │               \u001b[38;5;34m0\u001b[0m │ pooled_dense[\u001b[38;5;34m0\u001b[0m][\u001b[38;5;34m0\u001b[0m]         │\n",
              "├───────────────────────────────┼───────────────────────────┼─────────────────┼────────────────────────────┤\n",
              "│ logits (\u001b[38;5;33mDense\u001b[0m)                │ (\u001b[38;5;45mNone\u001b[0m, \u001b[38;5;34m2\u001b[0m)                 │           \u001b[38;5;34m1,538\u001b[0m │ output_dropout[\u001b[38;5;34m0\u001b[0m][\u001b[38;5;34m0\u001b[0m]       │\n",
              "└───────────────────────────────┴───────────────────────────┴─────────────────┴────────────────────────────┘\n"
            ],
            "text/html": [
              "<pre style=\"white-space:pre;overflow-x:auto;line-height:normal;font-family:Menlo,'DejaVu Sans Mono',consolas,'Courier New',monospace\">┏━━━━━━━━━━━━━━━━━━━━━━━━━━━━━━━┳━━━━━━━━━━━━━━━━━━━━━━━━━━━┳━━━━━━━━━━━━━━━━━┳━━━━━━━━━━━━━━━━━━━━━━━━━━━━┓\n",
              "┃<span style=\"font-weight: bold\"> Layer (type)                  </span>┃<span style=\"font-weight: bold\"> Output Shape              </span>┃<span style=\"font-weight: bold\">         Param # </span>┃<span style=\"font-weight: bold\"> Connected to               </span>┃\n",
              "┡━━━━━━━━━━━━━━━━━━━━━━━━━━━━━━━╇━━━━━━━━━━━━━━━━━━━━━━━━━━━╇━━━━━━━━━━━━━━━━━╇━━━━━━━━━━━━━━━━━━━━━━━━━━━━┩\n",
              "│ padding_mask (<span style=\"color: #0087ff; text-decoration-color: #0087ff\">InputLayer</span>)     │ (<span style=\"color: #00d7ff; text-decoration-color: #00d7ff\">None</span>, <span style=\"color: #00d7ff; text-decoration-color: #00d7ff\">None</span>)              │               <span style=\"color: #00af00; text-decoration-color: #00af00\">0</span> │ -                          │\n",
              "├───────────────────────────────┼───────────────────────────┼─────────────────┼────────────────────────────┤\n",
              "│ token_ids (<span style=\"color: #0087ff; text-decoration-color: #0087ff\">InputLayer</span>)        │ (<span style=\"color: #00d7ff; text-decoration-color: #00d7ff\">None</span>, <span style=\"color: #00d7ff; text-decoration-color: #00d7ff\">None</span>)              │               <span style=\"color: #00af00; text-decoration-color: #00af00\">0</span> │ -                          │\n",
              "├───────────────────────────────┼───────────────────────────┼─────────────────┼────────────────────────────┤\n",
              "│ distil_bert_backbone          │ (<span style=\"color: #00d7ff; text-decoration-color: #00d7ff\">None</span>, <span style=\"color: #00d7ff; text-decoration-color: #00d7ff\">None</span>, <span style=\"color: #00af00; text-decoration-color: #00af00\">768</span>)         │      <span style=\"color: #00af00; text-decoration-color: #00af00\">66,362,880</span> │ padding_mask[<span style=\"color: #00af00; text-decoration-color: #00af00\">0</span>][<span style=\"color: #00af00; text-decoration-color: #00af00\">0</span>],        │\n",
              "│ (<span style=\"color: #0087ff; text-decoration-color: #0087ff\">DistilBertBackbone</span>)          │                           │                 │ token_ids[<span style=\"color: #00af00; text-decoration-color: #00af00\">0</span>][<span style=\"color: #00af00; text-decoration-color: #00af00\">0</span>]            │\n",
              "├───────────────────────────────┼───────────────────────────┼─────────────────┼────────────────────────────┤\n",
              "│ get_item_4 (<span style=\"color: #0087ff; text-decoration-color: #0087ff\">GetItem</span>)          │ (<span style=\"color: #00d7ff; text-decoration-color: #00d7ff\">None</span>, <span style=\"color: #00af00; text-decoration-color: #00af00\">768</span>)               │               <span style=\"color: #00af00; text-decoration-color: #00af00\">0</span> │ distil_bert_backbone[<span style=\"color: #00af00; text-decoration-color: #00af00\">0</span>][<span style=\"color: #00af00; text-decoration-color: #00af00\">0</span>] │\n",
              "├───────────────────────────────┼───────────────────────────┼─────────────────┼────────────────────────────┤\n",
              "│ pooled_dense (<span style=\"color: #0087ff; text-decoration-color: #0087ff\">Dense</span>)          │ (<span style=\"color: #00d7ff; text-decoration-color: #00d7ff\">None</span>, <span style=\"color: #00af00; text-decoration-color: #00af00\">768</span>)               │         <span style=\"color: #00af00; text-decoration-color: #00af00\">590,592</span> │ get_item_4[<span style=\"color: #00af00; text-decoration-color: #00af00\">0</span>][<span style=\"color: #00af00; text-decoration-color: #00af00\">0</span>]           │\n",
              "├───────────────────────────────┼───────────────────────────┼─────────────────┼────────────────────────────┤\n",
              "│ output_dropout (<span style=\"color: #0087ff; text-decoration-color: #0087ff\">Dropout</span>)      │ (<span style=\"color: #00d7ff; text-decoration-color: #00d7ff\">None</span>, <span style=\"color: #00af00; text-decoration-color: #00af00\">768</span>)               │               <span style=\"color: #00af00; text-decoration-color: #00af00\">0</span> │ pooled_dense[<span style=\"color: #00af00; text-decoration-color: #00af00\">0</span>][<span style=\"color: #00af00; text-decoration-color: #00af00\">0</span>]         │\n",
              "├───────────────────────────────┼───────────────────────────┼─────────────────┼────────────────────────────┤\n",
              "│ logits (<span style=\"color: #0087ff; text-decoration-color: #0087ff\">Dense</span>)                │ (<span style=\"color: #00d7ff; text-decoration-color: #00d7ff\">None</span>, <span style=\"color: #00af00; text-decoration-color: #00af00\">2</span>)                 │           <span style=\"color: #00af00; text-decoration-color: #00af00\">1,538</span> │ output_dropout[<span style=\"color: #00af00; text-decoration-color: #00af00\">0</span>][<span style=\"color: #00af00; text-decoration-color: #00af00\">0</span>]       │\n",
              "└───────────────────────────────┴───────────────────────────┴─────────────────┴────────────────────────────┘\n",
              "</pre>\n"
            ]
          },
          "metadata": {}
        },
        {
          "output_type": "display_data",
          "data": {
            "text/plain": [
              "\u001b[1m Total params: \u001b[0m\u001b[38;5;34m66,955,010\u001b[0m (255.41 MB)\n"
            ],
            "text/html": [
              "<pre style=\"white-space:pre;overflow-x:auto;line-height:normal;font-family:Menlo,'DejaVu Sans Mono',consolas,'Courier New',monospace\"><span style=\"font-weight: bold\"> Total params: </span><span style=\"color: #00af00; text-decoration-color: #00af00\">66,955,010</span> (255.41 MB)\n",
              "</pre>\n"
            ]
          },
          "metadata": {}
        },
        {
          "output_type": "display_data",
          "data": {
            "text/plain": [
              "\u001b[1m Trainable params: \u001b[0m\u001b[38;5;34m66,955,010\u001b[0m (255.41 MB)\n"
            ],
            "text/html": [
              "<pre style=\"white-space:pre;overflow-x:auto;line-height:normal;font-family:Menlo,'DejaVu Sans Mono',consolas,'Courier New',monospace\"><span style=\"font-weight: bold\"> Trainable params: </span><span style=\"color: #00af00; text-decoration-color: #00af00\">66,955,010</span> (255.41 MB)\n",
              "</pre>\n"
            ]
          },
          "metadata": {}
        },
        {
          "output_type": "display_data",
          "data": {
            "text/plain": [
              "\u001b[1m Non-trainable params: \u001b[0m\u001b[38;5;34m0\u001b[0m (0.00 B)\n"
            ],
            "text/html": [
              "<pre style=\"white-space:pre;overflow-x:auto;line-height:normal;font-family:Menlo,'DejaVu Sans Mono',consolas,'Courier New',monospace\"><span style=\"font-weight: bold\"> Non-trainable params: </span><span style=\"color: #00af00; text-decoration-color: #00af00\">0</span> (0.00 B)\n",
              "</pre>\n"
            ]
          },
          "metadata": {}
        },
        {
          "output_type": "stream",
          "name": "stdout",
          "text": [
            "CPU times: user 1.28 s, sys: 78.5 ms, total: 1.36 s\n",
            "Wall time: 9.24 s\n"
          ]
        }
      ],
      "source": [
        "%%time\n",
        "# Load a DistilBERT model.\n",
        "preset= \"distil_bert_base_en_uncased\"\n",
        "\n",
        "# Use a shorter sequence length.\n",
        "preprocessor = DistilBertPreprocessor.from_preset(preset,\n",
        "                                                  sequence_length = 160,\n",
        "                                                  name = \"preprocessor_4_tweets\")\n",
        "\n",
        "# Pretrained classifier.\n",
        "bert_model = DistilBertClassifier.from_preset(preset,\n",
        "                                              preprocessor = preprocessor,\n",
        "                                              num_classes = 2)\n",
        "\n",
        "bert_model.summary()"
      ]
    },
    {
      "cell_type": "code",
      "execution_count": 283,
      "metadata": {
        "id": "C9INaSOKoRPP"
      },
      "outputs": [],
      "source": [
        "# Compile\n",
        "bert_model.compile(\n",
        "    loss = keras.losses.SparseCategoricalCrossentropy(from_logits = True), #'binary_crossentropy',\n",
        "    optimizer = tf.keras.optimizers.Adam(learning_rate = bert_config['lr']),\n",
        "    metrics= [\"accuracy\", f1_score]\n",
        ")\n"
      ]
    },
    {
      "cell_type": "code",
      "execution_count": 284,
      "metadata": {
        "colab": {
          "base_uri": "https://localhost:8080/"
        },
        "id": "7YyDhXbWoZIP",
        "outputId": "e9252aa4-2ff7-43a8-d43d-8ae0baf3fd4e"
      },
      "outputs": [
        {
          "output_type": "stream",
          "name": "stdout",
          "text": [
            "Epoch 1/3\n",
            "\u001b[1m191/191\u001b[0m \u001b[32m━━━━━━━━━━━━━━━━━━━━\u001b[0m\u001b[37m\u001b[0m \u001b[1m86s\u001b[0m 263ms/step - accuracy: 0.7266 - f1_score: 0.6467 - loss: 0.5337 - val_accuracy: 0.8411 - val_f1_score: 0.7950 - val_loss: 0.3869\n",
            "Epoch 2/3\n",
            "\u001b[1m191/191\u001b[0m \u001b[32m━━━━━━━━━━━━━━━━━━━━\u001b[0m\u001b[37m\u001b[0m \u001b[1m21s\u001b[0m 110ms/step - accuracy: 0.8537 - f1_score: 0.8109 - loss: 0.3569 - val_accuracy: 0.8418 - val_f1_score: 0.7986 - val_loss: 0.3898\n",
            "Epoch 3/3\n",
            "\u001b[1m191/191\u001b[0m \u001b[32m━━━━━━━━━━━━━━━━━━━━\u001b[0m\u001b[37m\u001b[0m \u001b[1m22s\u001b[0m 111ms/step - accuracy: 0.8877 - f1_score: 0.8560 - loss: 0.2916 - val_accuracy: 0.8306 - val_f1_score: 0.7759 - val_loss: 0.4092\n",
            "CPU times: user 2min 28s, sys: 2.37 s, total: 2min 30s\n",
            "Wall time: 2min 10s\n"
          ]
        }
      ],
      "source": [
        "%%time\n",
        "# Early stopping\n",
        "early_stopping = EarlyStopping(monitor='val_loss', patience = bert_config['patience'], restore_best_weights = True)\n",
        "\n",
        "\n",
        "# Add class weights!\n",
        "\n",
        "\n",
        "\n",
        "# Fit\n",
        "bert_history = bert_model.fit(x = X_train,\n",
        "                              y = y_train,\n",
        "                              batch_size = bert_config['batch'],\n",
        "                              epochs = bert_config['epochs'],\n",
        "                              validation_data = (X_val, y_val),\n",
        "                              callbacks = [early_stopping])"
      ]
    },
    {
      "cell_type": "code",
      "source": [
        "# Evaluate the model on the validation set\n",
        "val_loss, val_acc, val_f1 = lstm_model.evaluate(X_val_padded, y_val, verbose = 2)\n",
        "print(f\"Validation Accuracy: {round(val_acc, 3)}\")\n",
        "print(f\"Validation Loss: {round(val_loss, 3)}\")\n",
        "print(f\"Validation F1 score: {round(val_f1, 3)}\")"
      ],
      "metadata": {
        "colab": {
          "base_uri": "https://localhost:8080/"
        },
        "id": "PuJvU_XuRtZ-",
        "outputId": "8b987558-fd71-44f7-9942-303fd361347d"
      },
      "execution_count": 285,
      "outputs": [
        {
          "output_type": "stream",
          "name": "stdout",
          "text": [
            "48/48 - 0s - 3ms/step - accuracy: 0.8168 - f1_score: 0.7580 - loss: 0.4202\n",
            "Validation Accuracy: 0.817\n",
            "Validation Loss: 0.42\n",
            "Validation F1 score: 0.758\n"
          ]
        }
      ]
    },
    {
      "cell_type": "code",
      "source": [
        "# Generate a timestamp, to be used in the file names of all generated files\n",
        "timestamp = datetime.now(pytz.timezone('US/Eastern')).strftime('%Y-%m-%d_%H%M')\n",
        "\n",
        "# Create a new dictionary, to hold both configs and final validation results\n",
        "config_and_results = bert_config.copy()\n",
        "\n",
        "# Add final validation values to the dictionary\n",
        "config_and_results['val_acc'] = val_acc\n",
        "config_and_results['val_loss'] = val_loss\n",
        "config_and_results['val_f1'] = val_f1\n",
        "\n",
        "# File name for the config_and_results file\n",
        "config_and_results_f = f'config_and_results_{timestamp}.json'\n",
        "\n",
        "# Generate a JSON object with the configs and the results.\n",
        "with open(os.path.join(results_dir, config_and_results_f), 'w') as f:\n",
        "    json.dump(config_and_results, f, indent = 4)\n",
        "\n",
        "# Plot metrics over epochs\n",
        "plot_metrics_over_epochs(lstm_history, timestamp)"
      ],
      "metadata": {
        "colab": {
          "base_uri": "https://localhost:8080/",
          "height": 585
        },
        "id": "58WOSykUrD7l",
        "outputId": "fb718bea-f2cd-490c-ac9e-695d188cc90f"
      },
      "execution_count": 296,
      "outputs": [
        {
          "output_type": "display_data",
          "data": {
            "text/plain": [
              "<Figure size 1200x600 with 3 Axes>"
            ],
            "image/png": "[encoded data removed]"
          },
          "metadata": {}
        }
      ]
    },
    {
      "cell_type": "code",
      "source": [
        "y_pred_val = bert_model.predict(X_val)\n",
        "\n",
        "display_confusion_matrix(y_val, y_pred_val, \"Validation\")"
      ],
      "metadata": {
        "colab": {
          "base_uri": "https://localhost:8080/",
          "height": 490
        },
        "id": "pryCzc_eAzaM",
        "outputId": "f9b986b8-9e29-42c7-e466-8a86ef734602"
      },
      "execution_count": 301,
      "outputs": [
        {
          "output_type": "stream",
          "name": "stdout",
          "text": [
            "\u001b[1m48/48\u001b[0m \u001b[32m━━━━━━━━━━━━━━━━━━━━\u001b[0m\u001b[37m\u001b[0m \u001b[1m2s\u001b[0m 28ms/step\n"
          ]
        },
        {
          "output_type": "display_data",
          "data": {
            "text/plain": [
              "<Figure size 640x480 with 2 Axes>"
            ],
            "image/png": "[encoded data removed]"
          },
          "metadata": {}
        }
      ]
    },
    {
      "cell_type": "markdown",
      "source": [
        "# **Gather the configs and results for all models so far in a dataframe**\n",
        "\n",
        "To make it easy to see how the hyper-parameter tuning affects the results, we will gather the data from configs_and_results from all runs so far into a single dataframe."
      ],
      "metadata": {
        "id": "xEJD8JhXrUEn"
      }
    },
    {
      "cell_type": "code",
      "source": [
        "# List to store each run's data\n",
        "all_runs_data = []\n",
        "\n",
        "# Loop through each file in the base directory\n",
        "for file in os.listdir(results_dir):\n",
        "    json_file_path = os.path.join(results_dir, file)\n",
        "\n",
        "    # Only proceed if it's a JSON file that starts with \"config_and_results\"\n",
        "    if file.startswith(\"config_and_results\") and file.endswith(\".json\"):\n",
        "        # Extract the date and time part from the file name\n",
        "        date_time_part = file.replace(\"config_and_results_\", \"\").replace(\".json\", \"\")\n",
        "\n",
        "        # Read the JSON file\n",
        "        with open(json_file_path, 'r') as json_file:\n",
        "            config_and_results = json.load(json_file)\n",
        "            config_and_results['date_time'] = date_time_part  # Add the date and time to the data\n",
        "            all_runs_data.append(config_and_results)\n",
        "\n",
        "# Convert the list of dictionaries into a Pandas DataFrame\n",
        "all_runs_summary = pd.DataFrame(all_runs_data)\n",
        "\n",
        "all_runs_summary = all_runs_summary.fillna(\"\")\n",
        "\n",
        "# Put the columns in order\n",
        "col_order = ['date_time', 'model', 'architecture', 'first_lstm_layer', 'second_lstm_layer', \\\n",
        "             'dropout', 'epochs', 'patience', 'lr', \\\n",
        "             'max_vocab_size', 'max_sequence_length', 'embedding_dim' \\\n",
        "             'val_loss', 'val_acc', 'val_f1']\n",
        "all_runs_summary = all_runs_summary[col_order]\n",
        "\n",
        "# Sort dataframe by data_tiem\n",
        "all_runs_summary.sort_values(by = 'date_time', inplace = True)\n",
        "\n",
        "# File name for the summary file\n",
        "all_runs_summary_f = f'all_runs_summary_{timestamp}.csv'\n",
        "\n",
        "# Save the dataframe to a CSV file\n",
        "all_runs_summary.to_csv(os.path.join(results_dir, all_runs_summary_f), index = False)"
      ],
      "metadata": {
        "id": "ZS3c3hWSpslb"
      },
      "execution_count": 243,
      "outputs": []
    },
    {
      "cell_type": "code",
      "source": [
        "all_runs_summary"
      ],
      "metadata": {
        "colab": {
          "base_uri": "https://localhost:8080/",
          "height": 167
        },
        "id": "XJpjJMDYwLIK",
        "outputId": "640c1877-dad8-4591-ffe6-a292c79746a8"
      },
      "execution_count": 240,
      "outputs": [
        {
          "output_type": "execute_result",
          "data": {
            "text/plain": [
              "         date_time       model architecture first_lstm_layer  \\\n",
              "0  2024-10-23_1914        lstm    one_layer            128.0   \n",
              "1  2024-10-23_1916  distilbert                                 \n",
              "\n",
              "  second_lstm_layer dropout  epochs  patience       lr  val_loss   val_acc  \\\n",
              "0              64.0     0.5       3         3  0.00010  0.442822  0.805647   \n",
              "1                                 3         3  0.00002  0.442822  0.805647   \n",
              "\n",
              "     val_f1  \n",
              "0  0.731672  \n",
              "1  0.731672  "
            ],
            "text/html": [
              "\n",
              "  <div id=\"df-5c127e2a-ace2-4bbc-836c-9cb10cc0ea31\" class=\"colab-df-container\">\n",
              "    <div>\n",
              "<style scoped>\n",
              "    .dataframe tbody tr th:only-of-type {\n",
              "        vertical-align: middle;\n",
              "    }\n",
              "\n",
              "    .dataframe tbody tr th {\n",
              "        vertical-align: top;\n",
              "    }\n",
              "\n",
              "    .dataframe thead th {\n",
              "        text-align: right;\n",
              "    }\n",
              "</style>\n",
              "<table border=\"1\" class=\"dataframe\">\n",
              "  <thead>\n",
              "    <tr style=\"text-align: right;\">\n",
              "      <th></th>\n",
              "      <th>date_time</th>\n",
              "      <th>model</th>\n",
              "      <th>architecture</th>\n",
              "      <th>first_lstm_layer</th>\n",
              "      <th>second_lstm_layer</th>\n",
              "      <th>dropout</th>\n",
              "      <th>epochs</th>\n",
              "      <th>patience</th>\n",
              "      <th>lr</th>\n",
              "      <th>val_loss</th>\n",
              "      <th>val_acc</th>\n",
              "      <th>val_f1</th>\n",
              "    </tr>\n",
              "  </thead>\n",
              "  <tbody>\n",
              "    <tr>\n",
              "      <th>0</th>\n",
              "      <td>2024-10-23_1914</td>\n",
              "      <td>lstm</td>\n",
              "      <td>one_layer</td>\n",
              "      <td>128.0</td>\n",
              "      <td>64.0</td>\n",
              "      <td>0.5</td>\n",
              "      <td>3</td>\n",
              "      <td>3</td>\n",
              "      <td>0.00010</td>\n",
              "      <td>0.442822</td>\n",
              "      <td>0.805647</td>\n",
              "      <td>0.731672</td>\n",
              "    </tr>\n",
              "    <tr>\n",
              "      <th>1</th>\n",
              "      <td>2024-10-23_1916</td>\n",
              "      <td>distilbert</td>\n",
              "      <td></td>\n",
              "      <td></td>\n",
              "      <td></td>\n",
              "      <td></td>\n",
              "      <td>3</td>\n",
              "      <td>3</td>\n",
              "      <td>0.00002</td>\n",
              "      <td>0.442822</td>\n",
              "      <td>0.805647</td>\n",
              "      <td>0.731672</td>\n",
              "    </tr>\n",
              "  </tbody>\n",
              "</table>\n",
              "</div>\n",
              "    <div class=\"colab-df-buttons\">\n",
              "\n",
              "  <div class=\"colab-df-container\">\n",
              "    <button class=\"colab-df-convert\" onclick=\"convertToInteractive('df-5c127e2a-ace2-4bbc-836c-9cb10cc0ea31')\"\n",
              "            title=\"Convert this dataframe to an interactive table.\"\n",
              "            style=\"display:none;\">\n",
              "\n",
              "  <svg xmlns=\"http://www.w3.org/2000/svg\" height=\"24px\" viewBox=\"0 -960 960 960\">\n",
              "    <path d=\"M120-120v-720h720v720H120Zm60-500h600v-160H180v160Zm220 220h160v-160H400v160Zm0 220h160v-160H400v160ZM180-400h160v-160H180v160Zm440 0h160v-160H620v160ZM180-180h160v-160H180v160Zm440 0h160v-160H620v160Z\"/>\n",
              "  </svg>\n",
              "    </button>\n",
              "\n",
              "  <style>\n",
              "    .colab-df-container {\n",
              "      display:flex;\n",
              "      gap: 12px;\n",
              "    }\n",
              "\n",
              "    .colab-df-convert {\n",
              "      background-color: #E8F0FE;\n",
              "      border: none;\n",
              "      border-radius: 50%;\n",
              "      cursor: pointer;\n",
              "      display: none;\n",
              "      fill: #1967D2;\n",
              "      height: 32px;\n",
              "      padding: 0 0 0 0;\n",
              "      width: 32px;\n",
              "    }\n",
              "\n",
              "    .colab-df-convert:hover {\n",
              "      background-color: #E2EBFA;\n",
              "      box-shadow: 0px 1px 2px rgba(60, 64, 67, 0.3), 0px 1px 3px 1px rgba(60, 64, 67, 0.15);\n",
              "      fill: #174EA6;\n",
              "    }\n",
              "\n",
              "    .colab-df-buttons div {\n",
              "      margin-bottom: 4px;\n",
              "    }\n",
              "\n",
              "    [theme=dark] .colab-df-convert {\n",
              "      background-color: #3B4455;\n",
              "      fill: #D2E3FC;\n",
              "    }\n",
              "\n",
              "    [theme=dark] .colab-df-convert:hover {\n",
              "      background-color: #434B5C;\n",
              "      box-shadow: 0px 1px 3px 1px rgba(0, 0, 0, 0.15);\n",
              "      filter: drop-shadow(0px 1px 2px rgba(0, 0, 0, 0.3));\n",
              "      fill: #FFFFFF;\n",
              "    }\n",
              "  </style>\n",
              "\n",
              "    <script>\n",
              "      const buttonEl =\n",
              "        document.querySelector('#df-5c127e2a-ace2-4bbc-836c-9cb10cc0ea31 button.colab-df-convert');\n",
              "      buttonEl.style.display =\n",
              "        google.colab.kernel.accessAllowed ? 'block' : 'none';\n",
              "\n",
              "      async function convertToInteractive(key) {\n",
              "        const element = document.querySelector('#df-5c127e2a-ace2-4bbc-836c-9cb10cc0ea31');\n",
              "        const dataTable =\n",
              "          await google.colab.kernel.invokeFunction('convertToInteractive',\n",
              "                                                    [key], {});\n",
              "        if (!dataTable) return;\n",
              "\n",
              "        const docLinkHtml = 'Like what you see? Visit the ' +\n",
              "          '<a target=\"_blank\" href=https://colab.research.google.com/notebooks/data_table.ipynb>data table notebook</a>'\n",
              "          + ' to learn more about interactive tables.';\n",
              "        element.innerHTML = '';\n",
              "        dataTable['output_type'] = 'display_data';\n",
              "        await google.colab.output.renderOutput(dataTable, element);\n",
              "        const docLink = document.createElement('div');\n",
              "        docLink.innerHTML = docLinkHtml;\n",
              "        element.appendChild(docLink);\n",
              "      }\n",
              "    </script>\n",
              "  </div>\n",
              "\n",
              "\n",
              "<div id=\"df-49d83a21-a2ec-4dae-99b9-b0891a336944\">\n",
              "  <button class=\"colab-df-quickchart\" onclick=\"quickchart('df-49d83a21-a2ec-4dae-99b9-b0891a336944')\"\n",
              "            title=\"Suggest charts\"\n",
              "            style=\"display:none;\">\n",
              "\n",
              "<svg xmlns=\"http://www.w3.org/2000/svg\" height=\"24px\"viewBox=\"0 0 24 24\"\n",
              "     width=\"24px\">\n",
              "    <g>\n",
              "        <path d=\"M19 3H5c-1.1 0-2 .9-2 2v14c0 1.1.9 2 2 2h14c1.1 0 2-.9 2-2V5c0-1.1-.9-2-2-2zM9 17H7v-7h2v7zm4 0h-2V7h2v10zm4 0h-2v-4h2v4z\"/>\n",
              "    </g>\n",
              "</svg>\n",
              "  </button>\n",
              "\n",
              "<style>\n",
              "  .colab-df-quickchart {\n",
              "      --bg-color: #E8F0FE;\n",
              "      --fill-color: #1967D2;\n",
              "      --hover-bg-color: #E2EBFA;\n",
              "      --hover-fill-color: #174EA6;\n",
              "      --disabled-fill-color: #AAA;\n",
              "      --disabled-bg-color: #DDD;\n",
              "  }\n",
              "\n",
              "  [theme=dark] .colab-df-quickchart {\n",
              "      --bg-color: #3B4455;\n",
              "      --fill-color: #D2E3FC;\n",
              "      --hover-bg-color: #434B5C;\n",
              "      --hover-fill-color: #FFFFFF;\n",
              "      --disabled-bg-color: #3B4455;\n",
              "      --disabled-fill-color: #666;\n",
              "  }\n",
              "\n",
              "  .colab-df-quickchart {\n",
              "    background-color: var(--bg-color);\n",
              "    border: none;\n",
              "    border-radius: 50%;\n",
              "    cursor: pointer;\n",
              "    display: none;\n",
              "    fill: var(--fill-color);\n",
              "    height: 32px;\n",
              "    padding: 0;\n",
              "    width: 32px;\n",
              "  }\n",
              "\n",
              "  .colab-df-quickchart:hover {\n",
              "    background-color: var(--hover-bg-color);\n",
              "    box-shadow: 0 1px 2px rgba(60, 64, 67, 0.3), 0 1px 3px 1px rgba(60, 64, 67, 0.15);\n",
              "    fill: var(--button-hover-fill-color);\n",
              "  }\n",
              "\n",
              "  .colab-df-quickchart-complete:disabled,\n",
              "  .colab-df-quickchart-complete:disabled:hover {\n",
              "    background-color: var(--disabled-bg-color);\n",
              "    fill: var(--disabled-fill-color);\n",
              "    box-shadow: none;\n",
              "  }\n",
              "\n",
              "  .colab-df-spinner {\n",
              "    border: 2px solid var(--fill-color);\n",
              "    border-color: transparent;\n",
              "    border-bottom-color: var(--fill-color);\n",
              "    animation:\n",
              "      spin 1s steps(1) infinite;\n",
              "  }\n",
              "\n",
              "  @keyframes spin {\n",
              "    0% {\n",
              "      border-color: transparent;\n",
              "      border-bottom-color: var(--fill-color);\n",
              "      border-left-color: var(--fill-color);\n",
              "    }\n",
              "    20% {\n",
              "      border-color: transparent;\n",
              "      border-left-color: var(--fill-color);\n",
              "      border-top-color: var(--fill-color);\n",
              "    }\n",
              "    30% {\n",
              "      border-color: transparent;\n",
              "      border-left-color: var(--fill-color);\n",
              "      border-top-color: var(--fill-color);\n",
              "      border-right-color: var(--fill-color);\n",
              "    }\n",
              "    40% {\n",
              "      border-color: transparent;\n",
              "      border-right-color: var(--fill-color);\n",
              "      border-top-color: var(--fill-color);\n",
              "    }\n",
              "    60% {\n",
              "      border-color: transparent;\n",
              "      border-right-color: var(--fill-color);\n",
              "    }\n",
              "    80% {\n",
              "      border-color: transparent;\n",
              "      border-right-color: var(--fill-color);\n",
              "      border-bottom-color: var(--fill-color);\n",
              "    }\n",
              "    90% {\n",
              "      border-color: transparent;\n",
              "      border-bottom-color: var(--fill-color);\n",
              "    }\n",
              "  }\n",
              "</style>\n",
              "\n",
              "  <script>\n",
              "    async function quickchart(key) {\n",
              "      const quickchartButtonEl =\n",
              "        document.querySelector('#' + key + ' button');\n",
              "      quickchartButtonEl.disabled = true;  // To prevent multiple clicks.\n",
              "      quickchartButtonEl.classList.add('colab-df-spinner');\n",
              "      try {\n",
              "        const charts = await google.colab.kernel.invokeFunction(\n",
              "            'suggestCharts', [key], {});\n",
              "      } catch (error) {\n",
              "        console.error('Error during call to suggestCharts:', error);\n",
              "      }\n",
              "      quickchartButtonEl.classList.remove('colab-df-spinner');\n",
              "      quickchartButtonEl.classList.add('colab-df-quickchart-complete');\n",
              "    }\n",
              "    (() => {\n",
              "      let quickchartButtonEl =\n",
              "        document.querySelector('#df-49d83a21-a2ec-4dae-99b9-b0891a336944 button');\n",
              "      quickchartButtonEl.style.display =\n",
              "        google.colab.kernel.accessAllowed ? 'block' : 'none';\n",
              "    })();\n",
              "  </script>\n",
              "</div>\n",
              "\n",
              "  <div id=\"id_01c151e1-e204-46d0-b8ee-7fb879a75ca6\">\n",
              "    <style>\n",
              "      .colab-df-generate {\n",
              "        background-color: #E8F0FE;\n",
              "        border: none;\n",
              "        border-radius: 50%;\n",
              "        cursor: pointer;\n",
              "        display: none;\n",
              "        fill: #1967D2;\n",
              "        height: 32px;\n",
              "        padding: 0 0 0 0;\n",
              "        width: 32px;\n",
              "      }\n",
              "\n",
              "      .colab-df-generate:hover {\n",
              "        background-color: #E2EBFA;\n",
              "        box-shadow: 0px 1px 2px rgba(60, 64, 67, 0.3), 0px 1px 3px 1px rgba(60, 64, 67, 0.15);\n",
              "        fill: #174EA6;\n",
              "      }\n",
              "\n",
              "      [theme=dark] .colab-df-generate {\n",
              "        background-color: #3B4455;\n",
              "        fill: #D2E3FC;\n",
              "      }\n",
              "\n",
              "      [theme=dark] .colab-df-generate:hover {\n",
              "        background-color: #434B5C;\n",
              "        box-shadow: 0px 1px 3px 1px rgba(0, 0, 0, 0.15);\n",
              "        filter: drop-shadow(0px 1px 2px rgba(0, 0, 0, 0.3));\n",
              "        fill: #FFFFFF;\n",
              "      }\n",
              "    </style>\n",
              "    <button class=\"colab-df-generate\" onclick=\"generateWithVariable('all_runs_summary')\"\n",
              "            title=\"Generate code using this dataframe.\"\n",
              "            style=\"display:none;\">\n",
              "\n",
              "  <svg xmlns=\"http://www.w3.org/2000/svg\" height=\"24px\"viewBox=\"0 0 24 24\"\n",
              "       width=\"24px\">\n",
              "    <path d=\"M7,19H8.4L18.45,9,17,7.55,7,17.6ZM5,21V16.75L18.45,3.32a2,2,0,0,1,2.83,0l1.4,1.43a1.91,1.91,0,0,1,.58,1.4,1.91,1.91,0,0,1-.58,1.4L9.25,21ZM18.45,9,17,7.55Zm-12,3A5.31,5.31,0,0,0,4.9,8.1,5.31,5.31,0,0,0,1,6.5,5.31,5.31,0,0,0,4.9,4.9,5.31,5.31,0,0,0,6.5,1,5.31,5.31,0,0,0,8.1,4.9,5.31,5.31,0,0,0,12,6.5,5.46,5.46,0,0,0,6.5,12Z\"/>\n",
              "  </svg>\n",
              "    </button>\n",
              "    <script>\n",
              "      (() => {\n",
              "      const buttonEl =\n",
              "        document.querySelector('#id_01c151e1-e204-46d0-b8ee-7fb879a75ca6 button.colab-df-generate');\n",
              "      buttonEl.style.display =\n",
              "        google.colab.kernel.accessAllowed ? 'block' : 'none';\n",
              "\n",
              "      buttonEl.onclick = () => {\n",
              "        google.colab.notebook.generateWithVariable('all_runs_summary');\n",
              "      }\n",
              "      })();\n",
              "    </script>\n",
              "  </div>\n",
              "\n",
              "    </div>\n",
              "  </div>\n"
            ],
            "application/vnd.google.colaboratory.intrinsic+json": {
              "type": "dataframe",
              "variable_name": "all_runs_summary",
              "summary": "{\n  \"name\": \"all_runs_summary\",\n  \"rows\": 2,\n  \"fields\": [\n    {\n      \"column\": \"date_time\",\n      \"properties\": {\n        \"dtype\": \"string\",\n        \"num_unique_values\": 2,\n        \"samples\": [\n          \"2024-10-23_1916\",\n          \"2024-10-23_1914\"\n        ],\n        \"semantic_type\": \"\",\n        \"description\": \"\"\n      }\n    },\n    {\n      \"column\": \"model\",\n      \"properties\": {\n        \"dtype\": \"string\",\n        \"num_unique_values\": 2,\n        \"samples\": [\n          \"distilbert\",\n          \"lstm\"\n        ],\n        \"semantic_type\": \"\",\n        \"description\": \"\"\n      }\n    },\n    {\n      \"column\": \"architecture\",\n      \"properties\": {\n        \"dtype\": \"string\",\n        \"num_unique_values\": 2,\n        \"samples\": [\n          \"\",\n          \"one_layer\"\n        ],\n        \"semantic_type\": \"\",\n        \"description\": \"\"\n      }\n    },\n    {\n      \"column\": \"first_lstm_layer\",\n      \"properties\": {\n        \"dtype\": \"date\",\n        \"min\": \"1970-01-01 00:00:00.000000128\",\n        \"max\": \"1970-01-01 00:00:00.000000128\",\n        \"num_unique_values\": 2,\n        \"samples\": [\n          \"\",\n          128.0\n        ],\n        \"semantic_type\": \"\",\n        \"description\": \"\"\n      }\n    },\n    {\n      \"column\": \"second_lstm_layer\",\n      \"properties\": {\n        \"dtype\": \"date\",\n        \"min\": \"1970-01-01 00:00:00.000000064\",\n        \"max\": \"1970-01-01 00:00:00.000000064\",\n        \"num_unique_values\": 2,\n        \"samples\": [\n          \"\",\n          64.0\n        ],\n        \"semantic_type\": \"\",\n        \"description\": \"\"\n      }\n    },\n    {\n      \"column\": \"dropout\",\n      \"properties\": {\n        \"dtype\": \"date\",\n        \"min\": \"1970-01-01 00:00:00\",\n        \"max\": \"1970-01-01 00:00:00\",\n        \"num_unique_values\": 2,\n        \"samples\": [\n          \"\",\n          0.5\n        ],\n        \"semantic_type\": \"\",\n        \"description\": \"\"\n      }\n    },\n    {\n      \"column\": \"epochs\",\n      \"properties\": {\n        \"dtype\": \"number\",\n        \"std\": 0,\n        \"min\": 3,\n        \"max\": 3,\n        \"num_unique_values\": 1,\n        \"samples\": [\n          3\n        ],\n        \"semantic_type\": \"\",\n        \"description\": \"\"\n      }\n    },\n    {\n      \"column\": \"patience\",\n      \"properties\": {\n        \"dtype\": \"number\",\n        \"std\": 0,\n        \"min\": 3,\n        \"max\": 3,\n        \"num_unique_values\": 1,\n        \"samples\": [\n          3\n        ],\n        \"semantic_type\": \"\",\n        \"description\": \"\"\n      }\n    },\n    {\n      \"column\": \"lr\",\n      \"properties\": {\n        \"dtype\": \"number\",\n        \"std\": 5.65685424949238e-05,\n        \"min\": 2e-05,\n        \"max\": 0.0001,\n        \"num_unique_values\": 2,\n        \"samples\": [\n          2e-05\n        ],\n        \"semantic_type\": \"\",\n        \"description\": \"\"\n      }\n    },\n    {\n      \"column\": \"val_loss\",\n      \"properties\": {\n        \"dtype\": \"number\",\n        \"std\": 0.0,\n        \"min\": 0.4428224563598633,\n        \"max\": 0.4428224563598633,\n        \"num_unique_values\": 1,\n        \"samples\": [\n          0.4428224563598633\n        ],\n        \"semantic_type\": \"\",\n        \"description\": \"\"\n      }\n    },\n    {\n      \"column\": \"val_acc\",\n      \"properties\": {\n        \"dtype\": \"number\",\n        \"std\": 0.0,\n        \"min\": 0.8056467771530151,\n        \"max\": 0.8056467771530151,\n        \"num_unique_values\": 1,\n        \"samples\": [\n          0.8056467771530151\n        ],\n        \"semantic_type\": \"\",\n        \"description\": \"\"\n      }\n    },\n    {\n      \"column\": \"val_f1\",\n      \"properties\": {\n        \"dtype\": \"number\",\n        \"std\": 0.0,\n        \"min\": 0.7316719889640808,\n        \"max\": 0.7316719889640808,\n        \"num_unique_values\": 1,\n        \"samples\": [\n          0.7316719889640808\n        ],\n        \"semantic_type\": \"\",\n        \"description\": \"\"\n      }\n    }\n  ]\n}"
            }
          },
          "metadata": {},
          "execution_count": 240
        }
      ]
    },
    {
      "cell_type": "markdown",
      "source": [
        "# **8. Generate Submission File**"
      ],
      "metadata": {
        "id": "kD0Mef7Qm-Gz"
      }
    },
    {
      "cell_type": "code",
      "execution_count": 236,
      "metadata": {
        "id": "gJuCPCE6t1se"
      },
      "outputs": [],
      "source": [
        "# # Generate predictions\n",
        "# test_pred = np.argmax(classifier.predict(X_test), axis = 1)\n",
        "\n",
        "# # Get the test_ids from the test data\n",
        "# test_ids = df_test[\"id\"]\n",
        "\n",
        "# # Create a DataFrame\n",
        "# submission_df = pd.DataFrame({\n",
        "#     'id': test_ids,\n",
        "#     'target': test_pred\n",
        "# })\n",
        "\n",
        "# # Optional: Check the DataFrame to ensure it looks correct\n",
        "# print(submission_df.head())\n",
        "\n",
        "# # Save the DataFrame to a CSV file\n",
        "# submission_df.to_csv(directory + 'submission.csv', index = False)"
      ]
    },
    {
      "cell_type": "code",
      "source": [],
      "metadata": {
        "id": "5KIdG5YdxwSy"
      },
      "execution_count": null,
      "outputs": []
    }
  ],
  "metadata": {
    "accelerator": "GPU",
    "colab": {
      "gpuType": "L4",
      "machine_shape": "hm",
      "provenance": [],
      "mount_file_id": "1raaivybaGxZ6opS_3QAeNa4z9X1bikY9",
      "authorship_tag": "ABX9TyPIjVL+bB0GmfnHx1JNm6H1",
      "include_colab_link": true
    },
    "kernelspec": {
      "display_name": "Python 3",
      "name": "python3"
    },
    "language_info": {
      "name": "python"
    }
  },
  "nbformat": 4,
  "nbformat_minor": 0
}