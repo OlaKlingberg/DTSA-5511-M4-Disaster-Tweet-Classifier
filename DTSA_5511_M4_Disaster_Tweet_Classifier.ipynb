{
  "cells": [
    {
      "cell_type": "markdown",
      "metadata": {
        "id": "view-in-github",
        "colab_type": "text"
      },
      "source": [
        "<a href=\"https://colab.research.google.com/github/OlaKlingberg/DTSA-5511-M4-Disaster-Tweet-Classifier/blob/main/DTSA_5511_M4_Disaster_Tweet_Classifier.ipynb\" target=\"_parent\"><img src=\"https://colab.research.google.com/assets/colab-badge.svg\" alt=\"Open In Colab\"/></a>"
      ]
    },
    {
      "cell_type": "markdown",
      "metadata": {
        "id": "MqxYa_HymDUF"
      },
      "source": [
        "## **About**\n",
        "\n"
      ]
    },
    {
      "cell_type": "markdown",
      "metadata": {
        "id": "Z0hOVDuymZGm"
      },
      "source": [
        "# **Imports**"
      ]
    },
    {
      "cell_type": "code",
      "execution_count": null,
      "metadata": {
        "id": "51gYUJH6l1sy"
      },
      "outputs": [],
      "source": [
        "!pip install -q keras-core --upgrade\n",
        "!pip install -q keras-nlp --upgrade\n",
        "!pip install -q tensorflow-text"
      ]
    },
    {
      "cell_type": "code",
      "execution_count": null,
      "metadata": {
        "id": "lmHc9mo6mhWX"
      },
      "outputs": [],
      "source": [
        "# This sample uses Keras Core, the multi-backend version of Keras.\n",
        "# The selected backend is TensorFlow (other supported backends are 'jax' and 'torch')\n",
        "import os\n",
        "os.environ['KERAS_BACKEND'] = 'tensorflow'"
      ]
    },
    {
      "cell_type": "code",
      "execution_count": null,
      "metadata": {
        "id": "-OhtkPYGmnY6"
      },
      "outputs": [],
      "source": [
        "!pip install -q --upgrade keras"
      ]
    },
    {
      "cell_type": "code",
      "execution_count": null,
      "metadata": {
        "id": "RTPHxplfmpMS"
      },
      "outputs": [],
      "source": [
        "import numpy as np\n",
        "import pandas as pd\n",
        "import os\n",
        "from datetime import datetime\n",
        "import pytz\n",
        "import json\n",
        "\n",
        "import seaborn as sns\n",
        "\n",
        "import tensorflow as tf\n",
        "import keras_core as keras\n",
        "import keras_nlp\n",
        "from sklearn.metrics import ConfusionMatrixDisplay, confusion_matrix, precision_score, recall_score, f1_score\n",
        "from sklearn.model_selection import KFold, train_test_split\n",
        "\n",
        "from sklearn.utils import compute_class_weight\n",
        "\n",
        "import seaborn as sns\n",
        "import matplotlib.pyplot as plt\n",
        "\n",
        "from keras_nlp.models import DistilBertPreprocessor\n",
        "from keras_nlp.models import DistilBertClassifier\n",
        "\n",
        "from tensorflow.keras import backend as K\n",
        "\n",
        "from tensorflow.keras.callbacks import EarlyStopping, Callback\n",
        "\n",
        "from tensorflow.keras.layers import Input\n",
        "\n",
        "# from tensorflow.keras.metrics import Precision, Recall\n",
        "\n",
        "from tensorflow.keras.optimizers import Adam\n",
        "\n",
        "from tensorflow.keras.preprocessing.text import Tokenizer\n",
        "from tensorflow.keras.preprocessing.sequence import pad_sequences\n",
        "\n",
        "from tensorflow.keras.models import Sequential\n",
        "from tensorflow.keras.layers import Embedding, LSTM, Dense, Dropout, Bidirectional\n"
      ]
    },
    {
      "cell_type": "code",
      "source": [
        "print(tf.__version__)\n",
        "print(keras.__version__)\n",
        "print(keras_nlp.__version__)"
      ],
      "metadata": {
        "colab": {
          "base_uri": "https://localhost:8080/"
        },
        "id": "9AZbyShD34QY",
        "outputId": "6047ecec-c326-4b1f-9275-4648481874a4"
      },
      "execution_count": null,
      "outputs": [
        {
          "output_type": "stream",
          "name": "stdout",
          "text": [
            "2.17.0\n",
            "0.1.7\n",
            "0.17.0\n"
          ]
        }
      ]
    },
    {
      "cell_type": "markdown",
      "metadata": {
        "id": "wePlURhAm9bh"
      },
      "source": [
        "# **Load the data**"
      ]
    },
    {
      "cell_type": "code",
      "execution_count": null,
      "metadata": {
        "colab": {
          "base_uri": "https://localhost:8080/"
        },
        "id": "uamE2Qp6m7f3",
        "outputId": "9746d797-285b-4cd2-bb4b-343d7b747a3c"
      },
      "outputs": [
        {
          "output_type": "stream",
          "name": "stdout",
          "text": [
            "Training Set Shape = (7613, 5)\n",
            "Training Set Memory Usage = 0.29 MB\n",
            "Test Set Shape = (3263, 4)\n",
            "Test Set Memory Usage = 0.10 MB\n"
          ]
        }
      ],
      "source": [
        "\n",
        "import pandas as pd\n",
        "\n",
        "# directory = '/content/drive/MyDrive/Colab/Boulder/25. Introduction to Deep Learning/Module 4/data/'\n",
        "main_dir = '/content/'\n",
        "data_dir = os.path.join(main_dir, 'data')\n",
        "results_dir = os.path.join(main_dir, 'results')\n",
        "\n",
        "results = os.path.join(main_dir, 'results')\n",
        "\n",
        "df_train = pd.read_csv(os.path.join(data_dir, \"train.csv\"))\n",
        "df_test = pd.read_csv(os.path.join(data_dir, \"test.csv\"))\n",
        "\n",
        "print('Training Set Shape = {}'.format(df_train.shape))\n",
        "print('Training Set Memory Usage = {:.2f} MB'.format(df_train.memory_usage().sum() / 1024**2))\n",
        "print('Test Set Shape = {}'.format(df_test.shape))\n",
        "print('Test Set Memory Usage = {:.2f} MB'.format(df_test.memory_usage().sum() / 1024**2))\n",
        "\n"
      ]
    },
    {
      "cell_type": "markdown",
      "metadata": {
        "id": "cQRUUz_jnx7F"
      },
      "source": [
        "# **Exploratory Data Analysis**"
      ]
    },
    {
      "cell_type": "markdown",
      "source": [
        "## Take a look at the data sets"
      ],
      "metadata": {
        "id": "hOuAnCERRR-P"
      }
    },
    {
      "cell_type": "code",
      "execution_count": null,
      "metadata": {
        "colab": {
          "base_uri": "https://localhost:8080/",
          "height": 206
        },
        "id": "nqK85HJQns2S",
        "outputId": "bfd85fd4-6271-4af0-9c58-331d33ff4335"
      },
      "outputs": [
        {
          "output_type": "execute_result",
          "data": {
            "text/plain": [
              "   id keyword location                                               text  \\\n",
              "0   1     NaN      NaN  Our Deeds are the Reason of this #earthquake M...   \n",
              "1   4     NaN      NaN             Forest fire near La Ronge Sask. Canada   \n",
              "2   5     NaN      NaN  All residents asked to 'shelter in place' are ...   \n",
              "3   6     NaN      NaN  13,000 people receive #wildfires evacuation or...   \n",
              "4   7     NaN      NaN  Just got sent this photo from Ruby #Alaska as ...   \n",
              "\n",
              "   target  \n",
              "0       1  \n",
              "1       1  \n",
              "2       1  \n",
              "3       1  \n",
              "4       1  "
            ],
            "text/html": [
              "\n",
              "  <div id=\"df-01afa607-e86b-44a7-a5d3-9f7acbaefc11\" class=\"colab-df-container\">\n",
              "    <div>\n",
              "<style scoped>\n",
              "    .dataframe tbody tr th:only-of-type {\n",
              "        vertical-align: middle;\n",
              "    }\n",
              "\n",
              "    .dataframe tbody tr th {\n",
              "        vertical-align: top;\n",
              "    }\n",
              "\n",
              "    .dataframe thead th {\n",
              "        text-align: right;\n",
              "    }\n",
              "</style>\n",
              "<table border=\"1\" class=\"dataframe\">\n",
              "  <thead>\n",
              "    <tr style=\"text-align: right;\">\n",
              "      <th></th>\n",
              "      <th>id</th>\n",
              "      <th>keyword</th>\n",
              "      <th>location</th>\n",
              "      <th>text</th>\n",
              "      <th>target</th>\n",
              "    </tr>\n",
              "  </thead>\n",
              "  <tbody>\n",
              "    <tr>\n",
              "      <th>0</th>\n",
              "      <td>1</td>\n",
              "      <td>NaN</td>\n",
              "      <td>NaN</td>\n",
              "      <td>Our Deeds are the Reason of this #earthquake M...</td>\n",
              "      <td>1</td>\n",
              "    </tr>\n",
              "    <tr>\n",
              "      <th>1</th>\n",
              "      <td>4</td>\n",
              "      <td>NaN</td>\n",
              "      <td>NaN</td>\n",
              "      <td>Forest fire near La Ronge Sask. Canada</td>\n",
              "      <td>1</td>\n",
              "    </tr>\n",
              "    <tr>\n",
              "      <th>2</th>\n",
              "      <td>5</td>\n",
              "      <td>NaN</td>\n",
              "      <td>NaN</td>\n",
              "      <td>All residents asked to 'shelter in place' are ...</td>\n",
              "      <td>1</td>\n",
              "    </tr>\n",
              "    <tr>\n",
              "      <th>3</th>\n",
              "      <td>6</td>\n",
              "      <td>NaN</td>\n",
              "      <td>NaN</td>\n",
              "      <td>13,000 people receive #wildfires evacuation or...</td>\n",
              "      <td>1</td>\n",
              "    </tr>\n",
              "    <tr>\n",
              "      <th>4</th>\n",
              "      <td>7</td>\n",
              "      <td>NaN</td>\n",
              "      <td>NaN</td>\n",
              "      <td>Just got sent this photo from Ruby #Alaska as ...</td>\n",
              "      <td>1</td>\n",
              "    </tr>\n",
              "  </tbody>\n",
              "</table>\n",
              "</div>\n",
              "    <div class=\"colab-df-buttons\">\n",
              "\n",
              "  <div class=\"colab-df-container\">\n",
              "    <button class=\"colab-df-convert\" onclick=\"convertToInteractive('df-01afa607-e86b-44a7-a5d3-9f7acbaefc11')\"\n",
              "            title=\"Convert this dataframe to an interactive table.\"\n",
              "            style=\"display:none;\">\n",
              "\n",
              "  <svg xmlns=\"http://www.w3.org/2000/svg\" height=\"24px\" viewBox=\"0 -960 960 960\">\n",
              "    <path d=\"M120-120v-720h720v720H120Zm60-500h600v-160H180v160Zm220 220h160v-160H400v160Zm0 220h160v-160H400v160ZM180-400h160v-160H180v160Zm440 0h160v-160H620v160ZM180-180h160v-160H180v160Zm440 0h160v-160H620v160Z\"/>\n",
              "  </svg>\n",
              "    </button>\n",
              "\n",
              "  <style>\n",
              "    .colab-df-container {\n",
              "      display:flex;\n",
              "      gap: 12px;\n",
              "    }\n",
              "\n",
              "    .colab-df-convert {\n",
              "      background-color: #E8F0FE;\n",
              "      border: none;\n",
              "      border-radius: 50%;\n",
              "      cursor: pointer;\n",
              "      display: none;\n",
              "      fill: #1967D2;\n",
              "      height: 32px;\n",
              "      padding: 0 0 0 0;\n",
              "      width: 32px;\n",
              "    }\n",
              "\n",
              "    .colab-df-convert:hover {\n",
              "      background-color: #E2EBFA;\n",
              "      box-shadow: 0px 1px 2px rgba(60, 64, 67, 0.3), 0px 1px 3px 1px rgba(60, 64, 67, 0.15);\n",
              "      fill: #174EA6;\n",
              "    }\n",
              "\n",
              "    .colab-df-buttons div {\n",
              "      margin-bottom: 4px;\n",
              "    }\n",
              "\n",
              "    [theme=dark] .colab-df-convert {\n",
              "      background-color: #3B4455;\n",
              "      fill: #D2E3FC;\n",
              "    }\n",
              "\n",
              "    [theme=dark] .colab-df-convert:hover {\n",
              "      background-color: #434B5C;\n",
              "      box-shadow: 0px 1px 3px 1px rgba(0, 0, 0, 0.15);\n",
              "      filter: drop-shadow(0px 1px 2px rgba(0, 0, 0, 0.3));\n",
              "      fill: #FFFFFF;\n",
              "    }\n",
              "  </style>\n",
              "\n",
              "    <script>\n",
              "      const buttonEl =\n",
              "        document.querySelector('#df-01afa607-e86b-44a7-a5d3-9f7acbaefc11 button.colab-df-convert');\n",
              "      buttonEl.style.display =\n",
              "        google.colab.kernel.accessAllowed ? 'block' : 'none';\n",
              "\n",
              "      async function convertToInteractive(key) {\n",
              "        const element = document.querySelector('#df-01afa607-e86b-44a7-a5d3-9f7acbaefc11');\n",
              "        const dataTable =\n",
              "          await google.colab.kernel.invokeFunction('convertToInteractive',\n",
              "                                                    [key], {});\n",
              "        if (!dataTable) return;\n",
              "\n",
              "        const docLinkHtml = 'Like what you see? Visit the ' +\n",
              "          '<a target=\"_blank\" href=https://colab.research.google.com/notebooks/data_table.ipynb>data table notebook</a>'\n",
              "          + ' to learn more about interactive tables.';\n",
              "        element.innerHTML = '';\n",
              "        dataTable['output_type'] = 'display_data';\n",
              "        await google.colab.output.renderOutput(dataTable, element);\n",
              "        const docLink = document.createElement('div');\n",
              "        docLink.innerHTML = docLinkHtml;\n",
              "        element.appendChild(docLink);\n",
              "      }\n",
              "    </script>\n",
              "  </div>\n",
              "\n",
              "\n",
              "<div id=\"df-1eb83d4c-611b-4b04-bc96-20561a89578f\">\n",
              "  <button class=\"colab-df-quickchart\" onclick=\"quickchart('df-1eb83d4c-611b-4b04-bc96-20561a89578f')\"\n",
              "            title=\"Suggest charts\"\n",
              "            style=\"display:none;\">\n",
              "\n",
              "<svg xmlns=\"http://www.w3.org/2000/svg\" height=\"24px\"viewBox=\"0 0 24 24\"\n",
              "     width=\"24px\">\n",
              "    <g>\n",
              "        <path d=\"M19 3H5c-1.1 0-2 .9-2 2v14c0 1.1.9 2 2 2h14c1.1 0 2-.9 2-2V5c0-1.1-.9-2-2-2zM9 17H7v-7h2v7zm4 0h-2V7h2v10zm4 0h-2v-4h2v4z\"/>\n",
              "    </g>\n",
              "</svg>\n",
              "  </button>\n",
              "\n",
              "<style>\n",
              "  .colab-df-quickchart {\n",
              "      --bg-color: #E8F0FE;\n",
              "      --fill-color: #1967D2;\n",
              "      --hover-bg-color: #E2EBFA;\n",
              "      --hover-fill-color: #174EA6;\n",
              "      --disabled-fill-color: #AAA;\n",
              "      --disabled-bg-color: #DDD;\n",
              "  }\n",
              "\n",
              "  [theme=dark] .colab-df-quickchart {\n",
              "      --bg-color: #3B4455;\n",
              "      --fill-color: #D2E3FC;\n",
              "      --hover-bg-color: #434B5C;\n",
              "      --hover-fill-color: #FFFFFF;\n",
              "      --disabled-bg-color: #3B4455;\n",
              "      --disabled-fill-color: #666;\n",
              "  }\n",
              "\n",
              "  .colab-df-quickchart {\n",
              "    background-color: var(--bg-color);\n",
              "    border: none;\n",
              "    border-radius: 50%;\n",
              "    cursor: pointer;\n",
              "    display: none;\n",
              "    fill: var(--fill-color);\n",
              "    height: 32px;\n",
              "    padding: 0;\n",
              "    width: 32px;\n",
              "  }\n",
              "\n",
              "  .colab-df-quickchart:hover {\n",
              "    background-color: var(--hover-bg-color);\n",
              "    box-shadow: 0 1px 2px rgba(60, 64, 67, 0.3), 0 1px 3px 1px rgba(60, 64, 67, 0.15);\n",
              "    fill: var(--button-hover-fill-color);\n",
              "  }\n",
              "\n",
              "  .colab-df-quickchart-complete:disabled,\n",
              "  .colab-df-quickchart-complete:disabled:hover {\n",
              "    background-color: var(--disabled-bg-color);\n",
              "    fill: var(--disabled-fill-color);\n",
              "    box-shadow: none;\n",
              "  }\n",
              "\n",
              "  .colab-df-spinner {\n",
              "    border: 2px solid var(--fill-color);\n",
              "    border-color: transparent;\n",
              "    border-bottom-color: var(--fill-color);\n",
              "    animation:\n",
              "      spin 1s steps(1) infinite;\n",
              "  }\n",
              "\n",
              "  @keyframes spin {\n",
              "    0% {\n",
              "      border-color: transparent;\n",
              "      border-bottom-color: var(--fill-color);\n",
              "      border-left-color: var(--fill-color);\n",
              "    }\n",
              "    20% {\n",
              "      border-color: transparent;\n",
              "      border-left-color: var(--fill-color);\n",
              "      border-top-color: var(--fill-color);\n",
              "    }\n",
              "    30% {\n",
              "      border-color: transparent;\n",
              "      border-left-color: var(--fill-color);\n",
              "      border-top-color: var(--fill-color);\n",
              "      border-right-color: var(--fill-color);\n",
              "    }\n",
              "    40% {\n",
              "      border-color: transparent;\n",
              "      border-right-color: var(--fill-color);\n",
              "      border-top-color: var(--fill-color);\n",
              "    }\n",
              "    60% {\n",
              "      border-color: transparent;\n",
              "      border-right-color: var(--fill-color);\n",
              "    }\n",
              "    80% {\n",
              "      border-color: transparent;\n",
              "      border-right-color: var(--fill-color);\n",
              "      border-bottom-color: var(--fill-color);\n",
              "    }\n",
              "    90% {\n",
              "      border-color: transparent;\n",
              "      border-bottom-color: var(--fill-color);\n",
              "    }\n",
              "  }\n",
              "</style>\n",
              "\n",
              "  <script>\n",
              "    async function quickchart(key) {\n",
              "      const quickchartButtonEl =\n",
              "        document.querySelector('#' + key + ' button');\n",
              "      quickchartButtonEl.disabled = true;  // To prevent multiple clicks.\n",
              "      quickchartButtonEl.classList.add('colab-df-spinner');\n",
              "      try {\n",
              "        const charts = await google.colab.kernel.invokeFunction(\n",
              "            'suggestCharts', [key], {});\n",
              "      } catch (error) {\n",
              "        console.error('Error during call to suggestCharts:', error);\n",
              "      }\n",
              "      quickchartButtonEl.classList.remove('colab-df-spinner');\n",
              "      quickchartButtonEl.classList.add('colab-df-quickchart-complete');\n",
              "    }\n",
              "    (() => {\n",
              "      let quickchartButtonEl =\n",
              "        document.querySelector('#df-1eb83d4c-611b-4b04-bc96-20561a89578f button');\n",
              "      quickchartButtonEl.style.display =\n",
              "        google.colab.kernel.accessAllowed ? 'block' : 'none';\n",
              "    })();\n",
              "  </script>\n",
              "</div>\n",
              "\n",
              "    </div>\n",
              "  </div>\n"
            ],
            "application/vnd.google.colaboratory.intrinsic+json": {
              "type": "dataframe",
              "variable_name": "df_train",
              "summary": "{\n  \"name\": \"df_train\",\n  \"rows\": 7613,\n  \"fields\": [\n    {\n      \"column\": \"id\",\n      \"properties\": {\n        \"dtype\": \"number\",\n        \"std\": 3137,\n        \"min\": 1,\n        \"max\": 10873,\n        \"num_unique_values\": 7613,\n        \"samples\": [\n          3796,\n          3185,\n          7769\n        ],\n        \"semantic_type\": \"\",\n        \"description\": \"\"\n      }\n    },\n    {\n      \"column\": \"keyword\",\n      \"properties\": {\n        \"dtype\": \"category\",\n        \"num_unique_values\": 221,\n        \"samples\": [\n          \"injury\",\n          \"nuclear%20reactor\",\n          \"engulfed\"\n        ],\n        \"semantic_type\": \"\",\n        \"description\": \"\"\n      }\n    },\n    {\n      \"column\": \"location\",\n      \"properties\": {\n        \"dtype\": \"category\",\n        \"num_unique_values\": 3341,\n        \"samples\": [\n          \"Oklahoma\",\n          \"Starling City\",\n          \"Trinidad and Tobago\"\n        ],\n        \"semantic_type\": \"\",\n        \"description\": \"\"\n      }\n    },\n    {\n      \"column\": \"text\",\n      \"properties\": {\n        \"dtype\": \"string\",\n        \"num_unique_values\": 7503,\n        \"samples\": [\n          \"Three Homes Demolished in Unrecognized Arab Village - International Middle East Media Center http://t.co/ik8m4Yi9T4\",\n          \"Reid Lake fire prompts campground evacuation order http://t.co/jBODKM6rBU\",\n          \"FAAN orders evacuation of abandoned aircraft at MMA http://t.co/dEvYbnVXGQ via @todayng\"\n        ],\n        \"semantic_type\": \"\",\n        \"description\": \"\"\n      }\n    },\n    {\n      \"column\": \"target\",\n      \"properties\": {\n        \"dtype\": \"number\",\n        \"std\": 0,\n        \"min\": 0,\n        \"max\": 1,\n        \"num_unique_values\": 2,\n        \"samples\": [\n          0,\n          1\n        ],\n        \"semantic_type\": \"\",\n        \"description\": \"\"\n      }\n    }\n  ]\n}"
            }
          },
          "metadata": {},
          "execution_count": 222
        }
      ],
      "source": [
        "df_train.head()"
      ]
    },
    {
      "cell_type": "code",
      "source": [
        "df_test.head()"
      ],
      "metadata": {
        "colab": {
          "base_uri": "https://localhost:8080/",
          "height": 206
        },
        "id": "kgF-rGc2pD7z",
        "outputId": "3b9a2091-a4c9-4a96-f1b3-5bb0772bdf33"
      },
      "execution_count": null,
      "outputs": [
        {
          "output_type": "execute_result",
          "data": {
            "text/plain": [
              "   id keyword location                                               text\n",
              "0   0     NaN      NaN                 Just happened a terrible car crash\n",
              "1   2     NaN      NaN  Heard about #earthquake is different cities, s...\n",
              "2   3     NaN      NaN  there is a forest fire at spot pond, geese are...\n",
              "3   9     NaN      NaN           Apocalypse lighting. #Spokane #wildfires\n",
              "4  11     NaN      NaN      Typhoon Soudelor kills 28 in China and Taiwan"
            ],
            "text/html": [
              "\n",
              "  <div id=\"df-9827dda3-8e3d-4671-b1ad-9838ad117ed4\" class=\"colab-df-container\">\n",
              "    <div>\n",
              "<style scoped>\n",
              "    .dataframe tbody tr th:only-of-type {\n",
              "        vertical-align: middle;\n",
              "    }\n",
              "\n",
              "    .dataframe tbody tr th {\n",
              "        vertical-align: top;\n",
              "    }\n",
              "\n",
              "    .dataframe thead th {\n",
              "        text-align: right;\n",
              "    }\n",
              "</style>\n",
              "<table border=\"1\" class=\"dataframe\">\n",
              "  <thead>\n",
              "    <tr style=\"text-align: right;\">\n",
              "      <th></th>\n",
              "      <th>id</th>\n",
              "      <th>keyword</th>\n",
              "      <th>location</th>\n",
              "      <th>text</th>\n",
              "    </tr>\n",
              "  </thead>\n",
              "  <tbody>\n",
              "    <tr>\n",
              "      <th>0</th>\n",
              "      <td>0</td>\n",
              "      <td>NaN</td>\n",
              "      <td>NaN</td>\n",
              "      <td>Just happened a terrible car crash</td>\n",
              "    </tr>\n",
              "    <tr>\n",
              "      <th>1</th>\n",
              "      <td>2</td>\n",
              "      <td>NaN</td>\n",
              "      <td>NaN</td>\n",
              "      <td>Heard about #earthquake is different cities, s...</td>\n",
              "    </tr>\n",
              "    <tr>\n",
              "      <th>2</th>\n",
              "      <td>3</td>\n",
              "      <td>NaN</td>\n",
              "      <td>NaN</td>\n",
              "      <td>there is a forest fire at spot pond, geese are...</td>\n",
              "    </tr>\n",
              "    <tr>\n",
              "      <th>3</th>\n",
              "      <td>9</td>\n",
              "      <td>NaN</td>\n",
              "      <td>NaN</td>\n",
              "      <td>Apocalypse lighting. #Spokane #wildfires</td>\n",
              "    </tr>\n",
              "    <tr>\n",
              "      <th>4</th>\n",
              "      <td>11</td>\n",
              "      <td>NaN</td>\n",
              "      <td>NaN</td>\n",
              "      <td>Typhoon Soudelor kills 28 in China and Taiwan</td>\n",
              "    </tr>\n",
              "  </tbody>\n",
              "</table>\n",
              "</div>\n",
              "    <div class=\"colab-df-buttons\">\n",
              "\n",
              "  <div class=\"colab-df-container\">\n",
              "    <button class=\"colab-df-convert\" onclick=\"convertToInteractive('df-9827dda3-8e3d-4671-b1ad-9838ad117ed4')\"\n",
              "            title=\"Convert this dataframe to an interactive table.\"\n",
              "            style=\"display:none;\">\n",
              "\n",
              "  <svg xmlns=\"http://www.w3.org/2000/svg\" height=\"24px\" viewBox=\"0 -960 960 960\">\n",
              "    <path d=\"M120-120v-720h720v720H120Zm60-500h600v-160H180v160Zm220 220h160v-160H400v160Zm0 220h160v-160H400v160ZM180-400h160v-160H180v160Zm440 0h160v-160H620v160ZM180-180h160v-160H180v160Zm440 0h160v-160H620v160Z\"/>\n",
              "  </svg>\n",
              "    </button>\n",
              "\n",
              "  <style>\n",
              "    .colab-df-container {\n",
              "      display:flex;\n",
              "      gap: 12px;\n",
              "    }\n",
              "\n",
              "    .colab-df-convert {\n",
              "      background-color: #E8F0FE;\n",
              "      border: none;\n",
              "      border-radius: 50%;\n",
              "      cursor: pointer;\n",
              "      display: none;\n",
              "      fill: #1967D2;\n",
              "      height: 32px;\n",
              "      padding: 0 0 0 0;\n",
              "      width: 32px;\n",
              "    }\n",
              "\n",
              "    .colab-df-convert:hover {\n",
              "      background-color: #E2EBFA;\n",
              "      box-shadow: 0px 1px 2px rgba(60, 64, 67, 0.3), 0px 1px 3px 1px rgba(60, 64, 67, 0.15);\n",
              "      fill: #174EA6;\n",
              "    }\n",
              "\n",
              "    .colab-df-buttons div {\n",
              "      margin-bottom: 4px;\n",
              "    }\n",
              "\n",
              "    [theme=dark] .colab-df-convert {\n",
              "      background-color: #3B4455;\n",
              "      fill: #D2E3FC;\n",
              "    }\n",
              "\n",
              "    [theme=dark] .colab-df-convert:hover {\n",
              "      background-color: #434B5C;\n",
              "      box-shadow: 0px 1px 3px 1px rgba(0, 0, 0, 0.15);\n",
              "      filter: drop-shadow(0px 1px 2px rgba(0, 0, 0, 0.3));\n",
              "      fill: #FFFFFF;\n",
              "    }\n",
              "  </style>\n",
              "\n",
              "    <script>\n",
              "      const buttonEl =\n",
              "        document.querySelector('#df-9827dda3-8e3d-4671-b1ad-9838ad117ed4 button.colab-df-convert');\n",
              "      buttonEl.style.display =\n",
              "        google.colab.kernel.accessAllowed ? 'block' : 'none';\n",
              "\n",
              "      async function convertToInteractive(key) {\n",
              "        const element = document.querySelector('#df-9827dda3-8e3d-4671-b1ad-9838ad117ed4');\n",
              "        const dataTable =\n",
              "          await google.colab.kernel.invokeFunction('convertToInteractive',\n",
              "                                                    [key], {});\n",
              "        if (!dataTable) return;\n",
              "\n",
              "        const docLinkHtml = 'Like what you see? Visit the ' +\n",
              "          '<a target=\"_blank\" href=https://colab.research.google.com/notebooks/data_table.ipynb>data table notebook</a>'\n",
              "          + ' to learn more about interactive tables.';\n",
              "        element.innerHTML = '';\n",
              "        dataTable['output_type'] = 'display_data';\n",
              "        await google.colab.output.renderOutput(dataTable, element);\n",
              "        const docLink = document.createElement('div');\n",
              "        docLink.innerHTML = docLinkHtml;\n",
              "        element.appendChild(docLink);\n",
              "      }\n",
              "    </script>\n",
              "  </div>\n",
              "\n",
              "\n",
              "<div id=\"df-3e89eea6-8aa7-4612-b229-744ad1304f4e\">\n",
              "  <button class=\"colab-df-quickchart\" onclick=\"quickchart('df-3e89eea6-8aa7-4612-b229-744ad1304f4e')\"\n",
              "            title=\"Suggest charts\"\n",
              "            style=\"display:none;\">\n",
              "\n",
              "<svg xmlns=\"http://www.w3.org/2000/svg\" height=\"24px\"viewBox=\"0 0 24 24\"\n",
              "     width=\"24px\">\n",
              "    <g>\n",
              "        <path d=\"M19 3H5c-1.1 0-2 .9-2 2v14c0 1.1.9 2 2 2h14c1.1 0 2-.9 2-2V5c0-1.1-.9-2-2-2zM9 17H7v-7h2v7zm4 0h-2V7h2v10zm4 0h-2v-4h2v4z\"/>\n",
              "    </g>\n",
              "</svg>\n",
              "  </button>\n",
              "\n",
              "<style>\n",
              "  .colab-df-quickchart {\n",
              "      --bg-color: #E8F0FE;\n",
              "      --fill-color: #1967D2;\n",
              "      --hover-bg-color: #E2EBFA;\n",
              "      --hover-fill-color: #174EA6;\n",
              "      --disabled-fill-color: #AAA;\n",
              "      --disabled-bg-color: #DDD;\n",
              "  }\n",
              "\n",
              "  [theme=dark] .colab-df-quickchart {\n",
              "      --bg-color: #3B4455;\n",
              "      --fill-color: #D2E3FC;\n",
              "      --hover-bg-color: #434B5C;\n",
              "      --hover-fill-color: #FFFFFF;\n",
              "      --disabled-bg-color: #3B4455;\n",
              "      --disabled-fill-color: #666;\n",
              "  }\n",
              "\n",
              "  .colab-df-quickchart {\n",
              "    background-color: var(--bg-color);\n",
              "    border: none;\n",
              "    border-radius: 50%;\n",
              "    cursor: pointer;\n",
              "    display: none;\n",
              "    fill: var(--fill-color);\n",
              "    height: 32px;\n",
              "    padding: 0;\n",
              "    width: 32px;\n",
              "  }\n",
              "\n",
              "  .colab-df-quickchart:hover {\n",
              "    background-color: var(--hover-bg-color);\n",
              "    box-shadow: 0 1px 2px rgba(60, 64, 67, 0.3), 0 1px 3px 1px rgba(60, 64, 67, 0.15);\n",
              "    fill: var(--button-hover-fill-color);\n",
              "  }\n",
              "\n",
              "  .colab-df-quickchart-complete:disabled,\n",
              "  .colab-df-quickchart-complete:disabled:hover {\n",
              "    background-color: var(--disabled-bg-color);\n",
              "    fill: var(--disabled-fill-color);\n",
              "    box-shadow: none;\n",
              "  }\n",
              "\n",
              "  .colab-df-spinner {\n",
              "    border: 2px solid var(--fill-color);\n",
              "    border-color: transparent;\n",
              "    border-bottom-color: var(--fill-color);\n",
              "    animation:\n",
              "      spin 1s steps(1) infinite;\n",
              "  }\n",
              "\n",
              "  @keyframes spin {\n",
              "    0% {\n",
              "      border-color: transparent;\n",
              "      border-bottom-color: var(--fill-color);\n",
              "      border-left-color: var(--fill-color);\n",
              "    }\n",
              "    20% {\n",
              "      border-color: transparent;\n",
              "      border-left-color: var(--fill-color);\n",
              "      border-top-color: var(--fill-color);\n",
              "    }\n",
              "    30% {\n",
              "      border-color: transparent;\n",
              "      border-left-color: var(--fill-color);\n",
              "      border-top-color: var(--fill-color);\n",
              "      border-right-color: var(--fill-color);\n",
              "    }\n",
              "    40% {\n",
              "      border-color: transparent;\n",
              "      border-right-color: var(--fill-color);\n",
              "      border-top-color: var(--fill-color);\n",
              "    }\n",
              "    60% {\n",
              "      border-color: transparent;\n",
              "      border-right-color: var(--fill-color);\n",
              "    }\n",
              "    80% {\n",
              "      border-color: transparent;\n",
              "      border-right-color: var(--fill-color);\n",
              "      border-bottom-color: var(--fill-color);\n",
              "    }\n",
              "    90% {\n",
              "      border-color: transparent;\n",
              "      border-bottom-color: var(--fill-color);\n",
              "    }\n",
              "  }\n",
              "</style>\n",
              "\n",
              "  <script>\n",
              "    async function quickchart(key) {\n",
              "      const quickchartButtonEl =\n",
              "        document.querySelector('#' + key + ' button');\n",
              "      quickchartButtonEl.disabled = true;  // To prevent multiple clicks.\n",
              "      quickchartButtonEl.classList.add('colab-df-spinner');\n",
              "      try {\n",
              "        const charts = await google.colab.kernel.invokeFunction(\n",
              "            'suggestCharts', [key], {});\n",
              "      } catch (error) {\n",
              "        console.error('Error during call to suggestCharts:', error);\n",
              "      }\n",
              "      quickchartButtonEl.classList.remove('colab-df-spinner');\n",
              "      quickchartButtonEl.classList.add('colab-df-quickchart-complete');\n",
              "    }\n",
              "    (() => {\n",
              "      let quickchartButtonEl =\n",
              "        document.querySelector('#df-3e89eea6-8aa7-4612-b229-744ad1304f4e button');\n",
              "      quickchartButtonEl.style.display =\n",
              "        google.colab.kernel.accessAllowed ? 'block' : 'none';\n",
              "    })();\n",
              "  </script>\n",
              "</div>\n",
              "\n",
              "    </div>\n",
              "  </div>\n"
            ],
            "application/vnd.google.colaboratory.intrinsic+json": {
              "type": "dataframe",
              "variable_name": "df_test",
              "summary": "{\n  \"name\": \"df_test\",\n  \"rows\": 3263,\n  \"fields\": [\n    {\n      \"column\": \"id\",\n      \"properties\": {\n        \"dtype\": \"number\",\n        \"std\": 3146,\n        \"min\": 0,\n        \"max\": 10875,\n        \"num_unique_values\": 3263,\n        \"samples\": [\n          8051,\n          425,\n          1330\n        ],\n        \"semantic_type\": \"\",\n        \"description\": \"\"\n      }\n    },\n    {\n      \"column\": \"keyword\",\n      \"properties\": {\n        \"dtype\": \"category\",\n        \"num_unique_values\": 221,\n        \"samples\": [\n          \"injury\",\n          \"nuclear%20reactor\",\n          \"engulfed\"\n        ],\n        \"semantic_type\": \"\",\n        \"description\": \"\"\n      }\n    },\n    {\n      \"column\": \"location\",\n      \"properties\": {\n        \"dtype\": \"category\",\n        \"num_unique_values\": 1602,\n        \"samples\": [\n          \"UAE\",\n          \"Tokio / Tokyo\",\n          \"Texas\"\n        ],\n        \"semantic_type\": \"\",\n        \"description\": \"\"\n      }\n    },\n    {\n      \"column\": \"text\",\n      \"properties\": {\n        \"dtype\": \"string\",\n        \"num_unique_values\": 3243,\n        \"samples\": [\n          \"Latest: USA: Huge sinkhole swallows up Brooklyn intersection http://t.co/vspKHg3nZy\",\n          \"I liked a @YouTube video http://t.co/a5YTAw9Vih S.O.S. Rona Guide - The Red Whirlwind\",\n          \"HitchBot travels Europe and greeted with open arms. Gets destroyed after two weeks in america. There's a lesson to be learned here.\"\n        ],\n        \"semantic_type\": \"\",\n        \"description\": \"\"\n      }\n    }\n  ]\n}"
            }
          },
          "metadata": {},
          "execution_count": 223
        }
      ]
    },
    {
      "cell_type": "markdown",
      "source": [
        "## Deal with duplicates"
      ],
      "metadata": {
        "id": "n7P-IYQKGpjR"
      }
    },
    {
      "cell_type": "code",
      "source": [
        "df_train['target'].unique()"
      ],
      "metadata": {
        "colab": {
          "base_uri": "https://localhost:8080/"
        },
        "id": "FlYAv4z48sTW",
        "outputId": "00e45695-996a-4da8-fc6a-006803119f6a"
      },
      "execution_count": null,
      "outputs": [
        {
          "output_type": "execute_result",
          "data": {
            "text/plain": [
              "array([1, 0])"
            ]
          },
          "metadata": {},
          "execution_count": 224
        }
      ]
    },
    {
      "cell_type": "code",
      "source": [
        "# Display any duplicate rows based on the 'text' column\n",
        "duplicates = df_train[df_train['text'].duplicated()]\n",
        "\n",
        "# Print the duplicates\n",
        "print(duplicates[['text', 'target']].sort_values(by = 'text').head())\n",
        "\n",
        "# Total number of duplicates\n",
        "print(f\"The training data has {len(duplicates)} tweets that are not unique.\")\n",
        "\n",
        "# Two observations:\n",
        "# Some duplicates texts have conflicting labels.\n",
        "# There can be more than 2 of some text."
      ],
      "metadata": {
        "colab": {
          "base_uri": "https://localhost:8080/"
        },
        "id": "P5Ogt3iU_zsz",
        "outputId": "a0635549-47ff-42cd-99a3-d52bac8d7b85"
      },
      "execution_count": null,
      "outputs": [
        {
          "output_type": "stream",
          "name": "stdout",
          "text": [
            "                                                   text  target\n",
            "4299  #Allah describes piling up #wealth thinking it...       0\n",
            "4312  #Allah describes piling up #wealth thinking it...       1\n",
            "6366  #Bestnaijamade: 16yr old PKK suicide bomber wh...       1\n",
            "6373  #Bestnaijamade: 16yr old PKK suicide bomber wh...       1\n",
            "6392  #Bestnaijamade: 16yr old PKK suicide bomber wh...       1\n",
            "The training data has 110 tweets that are not unique.\n"
          ]
        }
      ]
    },
    {
      "cell_type": "code",
      "source": [
        "# We went to find duplicates with conflicting labels.\n",
        "# Find duplicates in 'text' with different 'target' values\n",
        "conflicting_duplicates = df_train.groupby('text')['target'].nunique().reset_index()\n",
        "conflicting_duplicates = conflicting_duplicates[conflicting_duplicates['target'] > 1]\n",
        "\n",
        "# Display the texts with conflicting target values\n",
        "# print(conflicting_duplicates['text'][:5])\n",
        "\n",
        "# How many\n",
        "print(f\"There are {len(conflicting_duplicates)} unique texts that have different labels.\")"
      ],
      "metadata": {
        "colab": {
          "base_uri": "https://localhost:8080/"
        },
        "id": "ETfMo8JLAINa",
        "outputId": "b751572c-0f42-4425-c26e-76d648254b28"
      },
      "execution_count": null,
      "outputs": [
        {
          "output_type": "stream",
          "name": "stdout",
          "text": [
            "There are 18 unique texts that have different labels.\n"
          ]
        }
      ]
    },
    {
      "cell_type": "code",
      "source": [
        "# We will remove duplicate texts that have conflicting labels.\n",
        "\n",
        "# Identify duplicates with conflicting target values\n",
        "conflicting_texts = df_train.groupby('text')['target'].transform('nunique') > 1\n",
        "\n",
        "# Filter out rows where the text has conflicting labels\n",
        "df_cleaned = df_train[~conflicting_texts]\n",
        "\n",
        "# Reset the index if desired\n",
        "df_cleaned = df_cleaned.reset_index(drop=True)\n",
        "\n",
        "print(f\"Number of tweets BEFORE removing duplicates with conflicting labesl:\", len(df_train))\n",
        "print(f\"Number of tweets AFTER removing duplicates with conflicting labesl:\", len(df_cleaned))\n"
      ],
      "metadata": {
        "colab": {
          "base_uri": "https://localhost:8080/"
        },
        "id": "FOdlBkaQA0jt",
        "outputId": "248ddada-19ef-4d4e-b98a-a63779ff7296"
      },
      "execution_count": null,
      "outputs": [
        {
          "output_type": "stream",
          "name": "stdout",
          "text": [
            "Number of tweets BEFORE removing duplicates with conflicting labesl: 7613\n",
            "Number of tweets AFTER removing duplicates with conflicting labesl: 7558\n"
          ]
        }
      ]
    },
    {
      "cell_type": "code",
      "source": [
        "# There may still be duplicates that don't have conflicting labels.\n",
        "# So let's check if we still have duplicates.\n",
        "# Display any duplicate rows based on the 'text' column\n",
        "duplicates = df_cleaned[df_cleaned['text'].duplicated()]\n",
        "\n",
        "# Print the duplicates\n",
        "print(duplicates[['text', 'target']])\n",
        "\n",
        "# Total number of duplicates\n",
        "print(f\"There are now {len(duplicates)} tweets that are not unique.\")"
      ],
      "metadata": {
        "colab": {
          "base_uri": "https://localhost:8080/"
        },
        "id": "vd7BgblDByqr",
        "outputId": "62e208be-cc57-4b98-f03e-a23112a96f16"
      },
      "execution_count": null,
      "outputs": [
        {
          "output_type": "stream",
          "name": "stdout",
          "text": [
            "                                                   text  target\n",
            "48    Check these out: http://t.co/rOI2NSmEJJ http:/...       0\n",
            "115   320 [IR] ICEMOON [AFTERSHOCK] | http://t.co/vA...       0\n",
            "119   320 [IR] ICEMOON [AFTERSHOCK] | http://t.co/TH...       0\n",
            "164   Experts in France begin examining airplane deb...       1\n",
            "1152  Japan on Thursday marks the 70th anniversary o...       1\n",
            "...                                                 ...     ...\n",
            "7545  Evacuation order lifted for town of Roosevelt:...       1\n",
            "7552  #stormchase Violent Record Breaking EF-5 El Re...       1\n",
            "7554  @aria_ahrary @TheTawniest The out of control w...       1\n",
            "7555  M1.94 [01:04 UTC]?5km S of Volcano Hawaii. htt...       1\n",
            "7556  Police investigating after an e-bike collided ...       1\n",
            "\n",
            "[73 rows x 2 columns]\n",
            "There are now 73 tweets that are not unique.\n"
          ]
        }
      ]
    },
    {
      "cell_type": "code",
      "source": [
        "# Of these remaining dupes (which have non-conflicting labels), we'll keep one of each.\n",
        "df_unique = df_cleaned.drop_duplicates(subset = 'text', keep = 'first')\n",
        "\n",
        "print(len(df_train))\n",
        "print(len(df_unique))"
      ],
      "metadata": {
        "colab": {
          "base_uri": "https://localhost:8080/"
        },
        "id": "Nxiz0QFRDO5P",
        "outputId": "93739e4b-ef66-4c4f-ba04-7c58e7bedbd2"
      },
      "execution_count": null,
      "outputs": [
        {
          "output_type": "stream",
          "name": "stdout",
          "text": [
            "7613\n",
            "7485\n"
          ]
        }
      ]
    },
    {
      "cell_type": "code",
      "source": [
        "# We'll finish by assigning df_unique back to df_train\n",
        "df_train = df_unique.reset_index(drop = True)"
      ],
      "metadata": {
        "id": "fZiOJY-qGdLc"
      },
      "execution_count": null,
      "outputs": []
    },
    {
      "cell_type": "code",
      "source": [
        "df_train.head(20)"
      ],
      "metadata": {
        "colab": {
          "base_uri": "https://localhost:8080/",
          "height": 677
        },
        "id": "oX3WKY9IX09S",
        "outputId": "35cc9b04-1583-4459-86ed-85604ec3aaf2"
      },
      "execution_count": null,
      "outputs": [
        {
          "output_type": "execute_result",
          "data": {
            "text/plain": [
              "    id keyword location                                               text  \\\n",
              "0    1     NaN      NaN  Our Deeds are the Reason of this #earthquake M...   \n",
              "1    4     NaN      NaN             Forest fire near La Ronge Sask. Canada   \n",
              "2    5     NaN      NaN  All residents asked to 'shelter in place' are ...   \n",
              "3    6     NaN      NaN  13,000 people receive #wildfires evacuation or...   \n",
              "4    7     NaN      NaN  Just got sent this photo from Ruby #Alaska as ...   \n",
              "5    8     NaN      NaN  #RockyFire Update => California Hwy. 20 closed...   \n",
              "6   10     NaN      NaN  #flood #disaster Heavy rain causes flash flood...   \n",
              "7   13     NaN      NaN  I'm on top of the hill and I can see a fire in...   \n",
              "8   14     NaN      NaN  There's an emergency evacuation happening now ...   \n",
              "9   15     NaN      NaN  I'm afraid that the tornado is coming to our a...   \n",
              "10  16     NaN      NaN        Three people died from the heat wave so far   \n",
              "11  17     NaN      NaN  Haha South Tampa is getting flooded hah- WAIT ...   \n",
              "12  18     NaN      NaN  #raining #flooding #Florida #TampaBay #Tampa 1...   \n",
              "13  19     NaN      NaN            #Flood in Bago Myanmar #We arrived Bago   \n",
              "14  20     NaN      NaN  Damage to school bus on 80 in multi car crash ...   \n",
              "15  23     NaN      NaN                                     What's up man?   \n",
              "16  24     NaN      NaN                                      I love fruits   \n",
              "17  25     NaN      NaN                                   Summer is lovely   \n",
              "18  26     NaN      NaN                                  My car is so fast   \n",
              "19  28     NaN      NaN                       What a goooooooaaaaaal!!!!!!   \n",
              "\n",
              "    target  \n",
              "0        1  \n",
              "1        1  \n",
              "2        1  \n",
              "3        1  \n",
              "4        1  \n",
              "5        1  \n",
              "6        1  \n",
              "7        1  \n",
              "8        1  \n",
              "9        1  \n",
              "10       1  \n",
              "11       1  \n",
              "12       1  \n",
              "13       1  \n",
              "14       1  \n",
              "15       0  \n",
              "16       0  \n",
              "17       0  \n",
              "18       0  \n",
              "19       0  "
            ],
            "text/html": [
              "\n",
              "  <div id=\"df-42e7027e-ac53-4d24-b6e3-2ec558eacf7d\" class=\"colab-df-container\">\n",
              "    <div>\n",
              "<style scoped>\n",
              "    .dataframe tbody tr th:only-of-type {\n",
              "        vertical-align: middle;\n",
              "    }\n",
              "\n",
              "    .dataframe tbody tr th {\n",
              "        vertical-align: top;\n",
              "    }\n",
              "\n",
              "    .dataframe thead th {\n",
              "        text-align: right;\n",
              "    }\n",
              "</style>\n",
              "<table border=\"1\" class=\"dataframe\">\n",
              "  <thead>\n",
              "    <tr style=\"text-align: right;\">\n",
              "      <th></th>\n",
              "      <th>id</th>\n",
              "      <th>keyword</th>\n",
              "      <th>location</th>\n",
              "      <th>text</th>\n",
              "      <th>target</th>\n",
              "    </tr>\n",
              "  </thead>\n",
              "  <tbody>\n",
              "    <tr>\n",
              "      <th>0</th>\n",
              "      <td>1</td>\n",
              "      <td>NaN</td>\n",
              "      <td>NaN</td>\n",
              "      <td>Our Deeds are the Reason of this #earthquake M...</td>\n",
              "      <td>1</td>\n",
              "    </tr>\n",
              "    <tr>\n",
              "      <th>1</th>\n",
              "      <td>4</td>\n",
              "      <td>NaN</td>\n",
              "      <td>NaN</td>\n",
              "      <td>Forest fire near La Ronge Sask. Canada</td>\n",
              "      <td>1</td>\n",
              "    </tr>\n",
              "    <tr>\n",
              "      <th>2</th>\n",
              "      <td>5</td>\n",
              "      <td>NaN</td>\n",
              "      <td>NaN</td>\n",
              "      <td>All residents asked to 'shelter in place' are ...</td>\n",
              "      <td>1</td>\n",
              "    </tr>\n",
              "    <tr>\n",
              "      <th>3</th>\n",
              "      <td>6</td>\n",
              "      <td>NaN</td>\n",
              "      <td>NaN</td>\n",
              "      <td>13,000 people receive #wildfires evacuation or...</td>\n",
              "      <td>1</td>\n",
              "    </tr>\n",
              "    <tr>\n",
              "      <th>4</th>\n",
              "      <td>7</td>\n",
              "      <td>NaN</td>\n",
              "      <td>NaN</td>\n",
              "      <td>Just got sent this photo from Ruby #Alaska as ...</td>\n",
              "      <td>1</td>\n",
              "    </tr>\n",
              "    <tr>\n",
              "      <th>5</th>\n",
              "      <td>8</td>\n",
              "      <td>NaN</td>\n",
              "      <td>NaN</td>\n",
              "      <td>#RockyFire Update =&gt; California Hwy. 20 closed...</td>\n",
              "      <td>1</td>\n",
              "    </tr>\n",
              "    <tr>\n",
              "      <th>6</th>\n",
              "      <td>10</td>\n",
              "      <td>NaN</td>\n",
              "      <td>NaN</td>\n",
              "      <td>#flood #disaster Heavy rain causes flash flood...</td>\n",
              "      <td>1</td>\n",
              "    </tr>\n",
              "    <tr>\n",
              "      <th>7</th>\n",
              "      <td>13</td>\n",
              "      <td>NaN</td>\n",
              "      <td>NaN</td>\n",
              "      <td>I'm on top of the hill and I can see a fire in...</td>\n",
              "      <td>1</td>\n",
              "    </tr>\n",
              "    <tr>\n",
              "      <th>8</th>\n",
              "      <td>14</td>\n",
              "      <td>NaN</td>\n",
              "      <td>NaN</td>\n",
              "      <td>There's an emergency evacuation happening now ...</td>\n",
              "      <td>1</td>\n",
              "    </tr>\n",
              "    <tr>\n",
              "      <th>9</th>\n",
              "      <td>15</td>\n",
              "      <td>NaN</td>\n",
              "      <td>NaN</td>\n",
              "      <td>I'm afraid that the tornado is coming to our a...</td>\n",
              "      <td>1</td>\n",
              "    </tr>\n",
              "    <tr>\n",
              "      <th>10</th>\n",
              "      <td>16</td>\n",
              "      <td>NaN</td>\n",
              "      <td>NaN</td>\n",
              "      <td>Three people died from the heat wave so far</td>\n",
              "      <td>1</td>\n",
              "    </tr>\n",
              "    <tr>\n",
              "      <th>11</th>\n",
              "      <td>17</td>\n",
              "      <td>NaN</td>\n",
              "      <td>NaN</td>\n",
              "      <td>Haha South Tampa is getting flooded hah- WAIT ...</td>\n",
              "      <td>1</td>\n",
              "    </tr>\n",
              "    <tr>\n",
              "      <th>12</th>\n",
              "      <td>18</td>\n",
              "      <td>NaN</td>\n",
              "      <td>NaN</td>\n",
              "      <td>#raining #flooding #Florida #TampaBay #Tampa 1...</td>\n",
              "      <td>1</td>\n",
              "    </tr>\n",
              "    <tr>\n",
              "      <th>13</th>\n",
              "      <td>19</td>\n",
              "      <td>NaN</td>\n",
              "      <td>NaN</td>\n",
              "      <td>#Flood in Bago Myanmar #We arrived Bago</td>\n",
              "      <td>1</td>\n",
              "    </tr>\n",
              "    <tr>\n",
              "      <th>14</th>\n",
              "      <td>20</td>\n",
              "      <td>NaN</td>\n",
              "      <td>NaN</td>\n",
              "      <td>Damage to school bus on 80 in multi car crash ...</td>\n",
              "      <td>1</td>\n",
              "    </tr>\n",
              "    <tr>\n",
              "      <th>15</th>\n",
              "      <td>23</td>\n",
              "      <td>NaN</td>\n",
              "      <td>NaN</td>\n",
              "      <td>What's up man?</td>\n",
              "      <td>0</td>\n",
              "    </tr>\n",
              "    <tr>\n",
              "      <th>16</th>\n",
              "      <td>24</td>\n",
              "      <td>NaN</td>\n",
              "      <td>NaN</td>\n",
              "      <td>I love fruits</td>\n",
              "      <td>0</td>\n",
              "    </tr>\n",
              "    <tr>\n",
              "      <th>17</th>\n",
              "      <td>25</td>\n",
              "      <td>NaN</td>\n",
              "      <td>NaN</td>\n",
              "      <td>Summer is lovely</td>\n",
              "      <td>0</td>\n",
              "    </tr>\n",
              "    <tr>\n",
              "      <th>18</th>\n",
              "      <td>26</td>\n",
              "      <td>NaN</td>\n",
              "      <td>NaN</td>\n",
              "      <td>My car is so fast</td>\n",
              "      <td>0</td>\n",
              "    </tr>\n",
              "    <tr>\n",
              "      <th>19</th>\n",
              "      <td>28</td>\n",
              "      <td>NaN</td>\n",
              "      <td>NaN</td>\n",
              "      <td>What a goooooooaaaaaal!!!!!!</td>\n",
              "      <td>0</td>\n",
              "    </tr>\n",
              "  </tbody>\n",
              "</table>\n",
              "</div>\n",
              "    <div class=\"colab-df-buttons\">\n",
              "\n",
              "  <div class=\"colab-df-container\">\n",
              "    <button class=\"colab-df-convert\" onclick=\"convertToInteractive('df-42e7027e-ac53-4d24-b6e3-2ec558eacf7d')\"\n",
              "            title=\"Convert this dataframe to an interactive table.\"\n",
              "            style=\"display:none;\">\n",
              "\n",
              "  <svg xmlns=\"http://www.w3.org/2000/svg\" height=\"24px\" viewBox=\"0 -960 960 960\">\n",
              "    <path d=\"M120-120v-720h720v720H120Zm60-500h600v-160H180v160Zm220 220h160v-160H400v160Zm0 220h160v-160H400v160ZM180-400h160v-160H180v160Zm440 0h160v-160H620v160ZM180-180h160v-160H180v160Zm440 0h160v-160H620v160Z\"/>\n",
              "  </svg>\n",
              "    </button>\n",
              "\n",
              "  <style>\n",
              "    .colab-df-container {\n",
              "      display:flex;\n",
              "      gap: 12px;\n",
              "    }\n",
              "\n",
              "    .colab-df-convert {\n",
              "      background-color: #E8F0FE;\n",
              "      border: none;\n",
              "      border-radius: 50%;\n",
              "      cursor: pointer;\n",
              "      display: none;\n",
              "      fill: #1967D2;\n",
              "      height: 32px;\n",
              "      padding: 0 0 0 0;\n",
              "      width: 32px;\n",
              "    }\n",
              "\n",
              "    .colab-df-convert:hover {\n",
              "      background-color: #E2EBFA;\n",
              "      box-shadow: 0px 1px 2px rgba(60, 64, 67, 0.3), 0px 1px 3px 1px rgba(60, 64, 67, 0.15);\n",
              "      fill: #174EA6;\n",
              "    }\n",
              "\n",
              "    .colab-df-buttons div {\n",
              "      margin-bottom: 4px;\n",
              "    }\n",
              "\n",
              "    [theme=dark] .colab-df-convert {\n",
              "      background-color: #3B4455;\n",
              "      fill: #D2E3FC;\n",
              "    }\n",
              "\n",
              "    [theme=dark] .colab-df-convert:hover {\n",
              "      background-color: #434B5C;\n",
              "      box-shadow: 0px 1px 3px 1px rgba(0, 0, 0, 0.15);\n",
              "      filter: drop-shadow(0px 1px 2px rgba(0, 0, 0, 0.3));\n",
              "      fill: #FFFFFF;\n",
              "    }\n",
              "  </style>\n",
              "\n",
              "    <script>\n",
              "      const buttonEl =\n",
              "        document.querySelector('#df-42e7027e-ac53-4d24-b6e3-2ec558eacf7d button.colab-df-convert');\n",
              "      buttonEl.style.display =\n",
              "        google.colab.kernel.accessAllowed ? 'block' : 'none';\n",
              "\n",
              "      async function convertToInteractive(key) {\n",
              "        const element = document.querySelector('#df-42e7027e-ac53-4d24-b6e3-2ec558eacf7d');\n",
              "        const dataTable =\n",
              "          await google.colab.kernel.invokeFunction('convertToInteractive',\n",
              "                                                    [key], {});\n",
              "        if (!dataTable) return;\n",
              "\n",
              "        const docLinkHtml = 'Like what you see? Visit the ' +\n",
              "          '<a target=\"_blank\" href=https://colab.research.google.com/notebooks/data_table.ipynb>data table notebook</a>'\n",
              "          + ' to learn more about interactive tables.';\n",
              "        element.innerHTML = '';\n",
              "        dataTable['output_type'] = 'display_data';\n",
              "        await google.colab.output.renderOutput(dataTable, element);\n",
              "        const docLink = document.createElement('div');\n",
              "        docLink.innerHTML = docLinkHtml;\n",
              "        element.appendChild(docLink);\n",
              "      }\n",
              "    </script>\n",
              "  </div>\n",
              "\n",
              "\n",
              "<div id=\"df-86d171e6-147f-4ff7-93a4-23c74a1eadf6\">\n",
              "  <button class=\"colab-df-quickchart\" onclick=\"quickchart('df-86d171e6-147f-4ff7-93a4-23c74a1eadf6')\"\n",
              "            title=\"Suggest charts\"\n",
              "            style=\"display:none;\">\n",
              "\n",
              "<svg xmlns=\"http://www.w3.org/2000/svg\" height=\"24px\"viewBox=\"0 0 24 24\"\n",
              "     width=\"24px\">\n",
              "    <g>\n",
              "        <path d=\"M19 3H5c-1.1 0-2 .9-2 2v14c0 1.1.9 2 2 2h14c1.1 0 2-.9 2-2V5c0-1.1-.9-2-2-2zM9 17H7v-7h2v7zm4 0h-2V7h2v10zm4 0h-2v-4h2v4z\"/>\n",
              "    </g>\n",
              "</svg>\n",
              "  </button>\n",
              "\n",
              "<style>\n",
              "  .colab-df-quickchart {\n",
              "      --bg-color: #E8F0FE;\n",
              "      --fill-color: #1967D2;\n",
              "      --hover-bg-color: #E2EBFA;\n",
              "      --hover-fill-color: #174EA6;\n",
              "      --disabled-fill-color: #AAA;\n",
              "      --disabled-bg-color: #DDD;\n",
              "  }\n",
              "\n",
              "  [theme=dark] .colab-df-quickchart {\n",
              "      --bg-color: #3B4455;\n",
              "      --fill-color: #D2E3FC;\n",
              "      --hover-bg-color: #434B5C;\n",
              "      --hover-fill-color: #FFFFFF;\n",
              "      --disabled-bg-color: #3B4455;\n",
              "      --disabled-fill-color: #666;\n",
              "  }\n",
              "\n",
              "  .colab-df-quickchart {\n",
              "    background-color: var(--bg-color);\n",
              "    border: none;\n",
              "    border-radius: 50%;\n",
              "    cursor: pointer;\n",
              "    display: none;\n",
              "    fill: var(--fill-color);\n",
              "    height: 32px;\n",
              "    padding: 0;\n",
              "    width: 32px;\n",
              "  }\n",
              "\n",
              "  .colab-df-quickchart:hover {\n",
              "    background-color: var(--hover-bg-color);\n",
              "    box-shadow: 0 1px 2px rgba(60, 64, 67, 0.3), 0 1px 3px 1px rgba(60, 64, 67, 0.15);\n",
              "    fill: var(--button-hover-fill-color);\n",
              "  }\n",
              "\n",
              "  .colab-df-quickchart-complete:disabled,\n",
              "  .colab-df-quickchart-complete:disabled:hover {\n",
              "    background-color: var(--disabled-bg-color);\n",
              "    fill: var(--disabled-fill-color);\n",
              "    box-shadow: none;\n",
              "  }\n",
              "\n",
              "  .colab-df-spinner {\n",
              "    border: 2px solid var(--fill-color);\n",
              "    border-color: transparent;\n",
              "    border-bottom-color: var(--fill-color);\n",
              "    animation:\n",
              "      spin 1s steps(1) infinite;\n",
              "  }\n",
              "\n",
              "  @keyframes spin {\n",
              "    0% {\n",
              "      border-color: transparent;\n",
              "      border-bottom-color: var(--fill-color);\n",
              "      border-left-color: var(--fill-color);\n",
              "    }\n",
              "    20% {\n",
              "      border-color: transparent;\n",
              "      border-left-color: var(--fill-color);\n",
              "      border-top-color: var(--fill-color);\n",
              "    }\n",
              "    30% {\n",
              "      border-color: transparent;\n",
              "      border-left-color: var(--fill-color);\n",
              "      border-top-color: var(--fill-color);\n",
              "      border-right-color: var(--fill-color);\n",
              "    }\n",
              "    40% {\n",
              "      border-color: transparent;\n",
              "      border-right-color: var(--fill-color);\n",
              "      border-top-color: var(--fill-color);\n",
              "    }\n",
              "    60% {\n",
              "      border-color: transparent;\n",
              "      border-right-color: var(--fill-color);\n",
              "    }\n",
              "    80% {\n",
              "      border-color: transparent;\n",
              "      border-right-color: var(--fill-color);\n",
              "      border-bottom-color: var(--fill-color);\n",
              "    }\n",
              "    90% {\n",
              "      border-color: transparent;\n",
              "      border-bottom-color: var(--fill-color);\n",
              "    }\n",
              "  }\n",
              "</style>\n",
              "\n",
              "  <script>\n",
              "    async function quickchart(key) {\n",
              "      const quickchartButtonEl =\n",
              "        document.querySelector('#' + key + ' button');\n",
              "      quickchartButtonEl.disabled = true;  // To prevent multiple clicks.\n",
              "      quickchartButtonEl.classList.add('colab-df-spinner');\n",
              "      try {\n",
              "        const charts = await google.colab.kernel.invokeFunction(\n",
              "            'suggestCharts', [key], {});\n",
              "      } catch (error) {\n",
              "        console.error('Error during call to suggestCharts:', error);\n",
              "      }\n",
              "      quickchartButtonEl.classList.remove('colab-df-spinner');\n",
              "      quickchartButtonEl.classList.add('colab-df-quickchart-complete');\n",
              "    }\n",
              "    (() => {\n",
              "      let quickchartButtonEl =\n",
              "        document.querySelector('#df-86d171e6-147f-4ff7-93a4-23c74a1eadf6 button');\n",
              "      quickchartButtonEl.style.display =\n",
              "        google.colab.kernel.accessAllowed ? 'block' : 'none';\n",
              "    })();\n",
              "  </script>\n",
              "</div>\n",
              "\n",
              "    </div>\n",
              "  </div>\n"
            ],
            "application/vnd.google.colaboratory.intrinsic+json": {
              "type": "dataframe",
              "variable_name": "df_train",
              "summary": "{\n  \"name\": \"df_train\",\n  \"rows\": 7485,\n  \"fields\": [\n    {\n      \"column\": \"id\",\n      \"properties\": {\n        \"dtype\": \"number\",\n        \"std\": 3143,\n        \"min\": 1,\n        \"max\": 10873,\n        \"num_unique_values\": 7485,\n        \"samples\": [\n          4121,\n          10137,\n          4383\n        ],\n        \"semantic_type\": \"\",\n        \"description\": \"\"\n      }\n    },\n    {\n      \"column\": \"keyword\",\n      \"properties\": {\n        \"dtype\": \"category\",\n        \"num_unique_values\": 221,\n        \"samples\": [\n          \"injury\",\n          \"nuclear%20reactor\",\n          \"engulfed\"\n        ],\n        \"semantic_type\": \"\",\n        \"description\": \"\"\n      }\n    },\n    {\n      \"column\": \"location\",\n      \"properties\": {\n        \"dtype\": \"category\",\n        \"num_unique_values\": 3321,\n        \"samples\": [\n          \"Instagram: trillrebel_\",\n          \"Sydney Australia\",\n          \"In your head\"\n        ],\n        \"semantic_type\": \"\",\n        \"description\": \"\"\n      }\n    },\n    {\n      \"column\": \"text\",\n      \"properties\": {\n        \"dtype\": \"string\",\n        \"num_unique_values\": 7485,\n        \"samples\": [\n          \"BLOG: Rain much needed as drought conditions worsen: Right now Charlotte and much of the surrounding area have\\u0089\\u00db_ http://t.co/OLzaVTJFKH\",\n          \"Ancient Mayan Tablet with Hieroglyphics Honors Lowly King http://t.co/Im6m4XAeN2\",\n          \"There has not been 1 real tear out of #Shelli 's eyes this entire episode. #bb17\"\n        ],\n        \"semantic_type\": \"\",\n        \"description\": \"\"\n      }\n    },\n    {\n      \"column\": \"target\",\n      \"properties\": {\n        \"dtype\": \"number\",\n        \"std\": 0,\n        \"min\": 0,\n        \"max\": 1,\n        \"num_unique_values\": 2,\n        \"samples\": [\n          0,\n          1\n        ],\n        \"semantic_type\": \"\",\n        \"description\": \"\"\n      }\n    }\n  ]\n}"
            }
          },
          "metadata": {},
          "execution_count": 231
        }
      ]
    },
    {
      "cell_type": "markdown",
      "source": [
        "## Take a look at a few tweets of each class"
      ],
      "metadata": {
        "id": "zZeswSuoIV5C"
      }
    },
    {
      "cell_type": "code",
      "source": [
        "for _, tweet in df_train.head(10).iterrows():\n",
        "    print(tweet['target'], tweet['text'])\n",
        "    print()"
      ],
      "metadata": {
        "colab": {
          "base_uri": "https://localhost:8080/"
        },
        "id": "eFflsBmGXCOH",
        "outputId": "5eadadd9-4c4e-4864-c911-3e7fe858cc03"
      },
      "execution_count": null,
      "outputs": [
        {
          "output_type": "stream",
          "name": "stdout",
          "text": [
            "1 Our Deeds are the Reason of this #earthquake May ALLAH Forgive us all\n",
            "\n",
            "1 Forest fire near La Ronge Sask. Canada\n",
            "\n",
            "1 All residents asked to 'shelter in place' are being notified by officers. No other evacuation or shelter in place orders are expected\n",
            "\n",
            "1 13,000 people receive #wildfires evacuation orders in California \n",
            "\n",
            "1 Just got sent this photo from Ruby #Alaska as smoke from #wildfires pours into a school \n",
            "\n",
            "1 #RockyFire Update => California Hwy. 20 closed in both directions due to Lake County fire - #CAfire #wildfires\n",
            "\n",
            "1 #flood #disaster Heavy rain causes flash flooding of streets in Manitou, Colorado Springs areas\n",
            "\n",
            "1 I'm on top of the hill and I can see a fire in the woods...\n",
            "\n",
            "1 There's an emergency evacuation happening now in the building across the street\n",
            "\n",
            "1 I'm afraid that the tornado is coming to our area...\n",
            "\n"
          ]
        }
      ]
    },
    {
      "cell_type": "code",
      "source": [
        "# Five non-disaster tweets (class 0)\n",
        "for _, tweet in df_train[df_train['target'] == 0][['target', 'text']].sample(n = 20, random_state = 42).iterrows():\n",
        "    print(tweet['target'], tweet['text'])"
      ],
      "metadata": {
        "colab": {
          "base_uri": "https://localhost:8080/"
        },
        "id": "-NYwyB8VRZbK",
        "outputId": "a84b02bd-2711-4348-a35d-dabccd59e4dd"
      },
      "execution_count": null,
      "outputs": [
        {
          "output_type": "stream",
          "name": "stdout",
          "text": [
            "0 THE LINKS TO WATCH THE SHOW BETTER WORK OR I MIGHT ELECTROCUTE SOMEONE\n",
            "0 tarmineta3: Breaking news! Unconfirmed! I just heard a loud bang nearby. in what appears to be a blast of wind from my neighbour's ass.\n",
            "0 [Question] Is anybody else having this problem with the '7' circle in Epicentre? via /r/jailbreak http://t.co/48TPnmbJVG\n",
            "0 12' 72W CREE LED Work Light Bar Alloy Spot Flood Combo Diving Offroad 4WD Boat - Full readÛ_ http://t.co/MJMwA72ER6 http://t.co/ADx9iYi246\n",
            "0 omfg.... I just woke up again....\n",
            "0 #Cowboys: Wednesday's injury report: RB Lance Dunbar injures ankle is listed as day-to-day:  http://t.co/RkB7EgKveb\n",
            "0 Why are you drowning in low self-image? Take the quiz: http://t.co/Z8R6r3nBTb http://t.co/nAmffldh5h\n",
            "0 Also in a matter of weeks Amazon's going to be deluged with poorly written indie dystopian fiction about teens escaping from blood farms.\n",
            "0 4 Common Running Injuries and How to Avoid Them http://t.co/E5cNS6ufPA\n",
            "0 @ryanoss123 No worries you'd have to be on every hitters most pitchers got destroyed\n",
            "0 I liked a @YouTube video http://t.co/TNXQuOr1wb Kalle Mattson - 'Avalanche' (Official Video)\n",
            "0 Check out 'Want Twister Tickets AND A VIP EXPERIENCE To See SHANIA? CLICK HERE:' at  http://t.co/3GEROQ49o1\n",
            "I would Love Love Love!! To win\n",
            "0 @AsterPuppet wounded and carried her back to where his brothers and sisters were and entered the air ship to go back to Academia\n",
            "0 First responders would never be sent to the wrong address again w/ #SmartTek's GPS-based panic button #mPERS #safety http://t.co/3OionqlFQL\n",
            "0 act my age was a MESS everyone was so wild it was so fun my videos a wreck\n",
            "0 If you're slating @gpaulista5 for @JackWilshere's injury then you're a disgrace to the #AFC fan base. Injuries happen you cunts!\n",
            "0 @suelinflower there is no words to describe the physical painthey ripped you apart while you screamed for dear lifeits like been engulfed\n",
            "0 #WeLoveLA #NHLDucks Avalanche Defense: How They Match vs St. Louis Blues http://t.co/9v1RVCOMH2 #SportsRoadhouse\n",
            "0 http://t.co/cxB55H37jn Rascal Flatts Riot Tour Atlantic City Beach Concert-August 20 2015-2 Tickets http://t.co/H6tyYSGR30\n",
            "0 A new favorite: Trivium - Detonation by @rrusa https://t.co/cubdNsNuvt on #SoundCloud\n"
          ]
        }
      ]
    },
    {
      "cell_type": "code",
      "source": [
        "# Five disaster tweets (class 1)\n",
        "for _, tweet in df_train[df_train['target'] == 1][['id', 'text', 'target']].sample(n = 20, random_state = 42).iterrows():\n",
        "    print(tweet['target'], tweet['text'])"
      ],
      "metadata": {
        "colab": {
          "base_uri": "https://localhost:8080/"
        },
        "id": "hgCcQN7DSjWG",
        "outputId": "b3180630-2902-4c49-bf9b-28ea75ea02e5"
      },
      "execution_count": null,
      "outputs": [
        {
          "output_type": "stream",
          "name": "stdout",
          "text": [
            "1 70 Years After Atomic Bombs Japan Still Struggles With War Past: The anniversary of the devastation wrought b... http://t.co/ohNdh2rI0V\n",
            "1 Don't miss Chris #Appy's detonation of the myths obscuring our crime in #Hiroshima 70 yrs ago this month. @salon http://t.co/DlP8kPkt2k\n",
            "1 [Comment] Deaths of older children: what do the data tell #US? http://t.co/p8Yr2po6Jn\n",
            " #nghlth\n",
            "1 Sinking ships burning buildings &amp; Falling objects are what reminds me of the old us.\n",
            "1 For these Californians it's like living in Africa's Sahel desert - just finding water a daily chore. http://t.co/ySG9vsrT4g\n",
            "1 @xDescry I was wrong to call it trusty actually.. considering it spontaneously collapsed on me that's not very trusty.\n",
            "1 @flickershowell oh wow my heart collapsed cool im crying cool cool\n",
            "1 This fire is WAY too close wtf is going on ???? http://t.co/drf3mmRbyx\n",
            "1 @Erker Again?? Eep! Thought of you yesterday when I saw that hella scary hail. #armageddon?\n",
            "1 #hot  C-130 specially modified to land in a stadium and rescue hostages in Iran in 1980 http://t.co/OnvD9D4NKg #prebreak #best\n",
            "1 #science Now that a piece of wreckage from flight MH370 has been confirmed on RÌ©union Island is it possible t...  http://t.co/Z2vDGIyOwf\n",
            "1 #RaheelSharif is manifesting how one RIGHT man at the helm can save a Sinking Ship engulfed in a Dark-Stormy-Tidal-Sea. Well Done.\n",
            "1 Sioux City Fire Officials Believe Bridge Collapse Lead To Cement Truck Roll Over - Siouxland Matters: Siouxlan... http://t.co/sZTGmbkoHG\n",
            "1 You can never escape me. Bullets don't harm me. Nothing harms me. But I know pain. I know pain. Sometimes I share it. With someone like you.\n",
            "1 OSP concerned about mounting fatalities http://t.co/YmP0gInwza http://t.co/FYIOQvIOif\n",
            "1 Raw Video: Dust Storm Rolls Through Texas http://t.co/QllkOfdyzX http://t.co/rGjJuMnNah\n",
            "1 Islamic State group in Egypt threatens to kill Croat hostage http://t.co/eIoQJWgEiX\n",
            "1 Oops: Bounty hunters try to raid Phoenix police chief's home: A group of armed bounty hunters surrounded the h... http://t.co/dGELJ8rYt9\n",
            "1 dog rendered a kitten from burning buildings\n",
            "https://t.co/9cpWIEcEGv http://t.co/rZLYtneZ2u\n",
            "1 @bluebirddenver #FETTILOOTCH IS #SLANGLUCCI OPPRESSIONS GREATEST DANGER COMING SOON THE ALBUM \n",
            "https://t.co/moLL5vd8yD\n"
          ]
        }
      ]
    },
    {
      "cell_type": "markdown",
      "source": [
        "This led to two important insights.\n",
        "\n",
        "First, many tweets are like a single sentence taken out of a conversation: impossible to interpret without a context. This poses a real problem for classifying them. Ideally, for each tweet, we should check if it was part of a thread, or a response to some other tweet, and then use that context when labeling the tweet.\n",
        "\n",
        "Secondly, even more importantly, the labeling of the tweets seems to be hihgly unreliable. Out of 20 randomly chosen class-1 tweets, 6 (30%) doesn't seem to have any connection to natural disaster:\n",
        "* @flickershowell oh wow my heart collapsed cool im crying cool cool\n",
        "* #hot  C-130 specially modified to land in a stadium and rescue hostages in Iran in 1980 http://t.co/OnvD9D4NKg #prebreak #best\n",
        "* You can never escape me. Bullets don't harm me. Nothing harms me. But I know pain. I know pain. Sometimes I share it. With someone like you.\n",
        "* Islamic State group in Egypt threatens to kill Croat hostage http://t.co/eIoQJWgEiX\n",
        "* Oops: Bounty hunters try to raid Phoenix police chief's home: A group of armed bounty hunters surrounded the h... http://t.co/dGELJ8rYt9\n",
        "\n",
        "Another XX (%) are either too hard to make sense of without context, or about things that, while catastrophic, are not really natural disaster. There are two tweets refering to the atomic bombs dropped over Japan. Those were acts of war, not natural disasters:\n",
        "* 70 Years After Atomic Bombs Japan Still Struggles With War Past: The anniversary of the devastation wrought b... http://t.co/ohNdh2rI0V\n",
        "* Don't miss Chris #Appy's detonation of the myths obscuring our crime in #Hiroshima 70 yrs ago this month. @salon http://t.co/DlP8kPkt2k\n",
        "* [Comment] Deaths of older children: what do the data tell #US? http://t.co/p8Yr2po6Jn\n",
        "* Sinking ships burning buildings &amp; Falling objects are what reminds me of the old us.\n",
        "\n",
        "These tweets are hard to interpret without context:\n",
        "* @xDescry I was wrong to call it trusty actually.. considering it spontaneously collapsed on me that's not very trusty.\n",
        "* 2929 @bluebirddenver #FETTILOOTCH IS #SLANGLUCCI OPPRESSIONS GREATEST DANGER COMING SOON THE ALBUM\n",
        "\n",
        "\n",
        "These tweets seem to refer to catastrophic events, but it's unclear whether those events had anything to do with natural disasters:\n",
        "* 10770 #science Now that a piece of wreckage from flight MH370 has been confirmed on RÌ©union Island is it possible t...  http://t.co/Z2vDGIyOwf\n",
        "* 1675 Sioux City Fire Officials Believe Bridge Collapse Lead To Cement Truck Roll Over - Siouxland Matters: Siouxlan... http://t.co/sZTGmbkoHG\n",
        "* 5187 OSP concerned about mounting fatalities http://t.co/YmP0gInwza http://t.co/FYIOQvIOif\n",
        "* 1961 dog rendered a kitten from burning buildings\n",
        "\n",
        "Only XX (%) clearly refer to something that can, if severe enough, be labeled a natural disaster (stormy tidal sea, draught, fire, hail, dust storms), but even in most of these tweets, it's ambiguous:\n",
        "* For these Californians it's like living in Africa's Sahel desert - just finding water a daily chore. http://t.co/ySG9vsrT4g\n",
        "* 4678 #RaheelSharif is manifesting how one RIGHT man at the helm can save a Sinking Ship engulfed in a Dark-Stormy-Tidal-Sea. Well Done.\n",
        "* 5336 This fire is WAY too close wtf is going on ???? http://t.co/drf3mmRbyx\n",
        "* 478 @Erker Again?? Eep! Thought of you yesterday when I saw that hella scary hail. #armageddon?\n",
        "* 4333 Raw Video: Dust Storm Rolls Through Texas http://t.co/QllkOfdyzX http://t.co/rGjJuMnNah\n",
        "\n",
        "\n",
        "\n",
        "\n",
        "\n",
        "\n"
      ],
      "metadata": {
        "id": "CwoZbwhr-kHM"
      }
    },
    {
      "cell_type": "markdown",
      "source": [
        "## Check the length distribution of tweets"
      ],
      "metadata": {
        "id": "qjr7XdPpGxHG"
      }
    },
    {
      "cell_type": "code",
      "execution_count": null,
      "metadata": {
        "colab": {
          "base_uri": "https://localhost:8080/"
        },
        "id": "iQ8uXMVPntR-",
        "outputId": "e58f30a4-df8a-4944-d832-e50751b736d1"
      },
      "outputs": [
        {
          "output_type": "stream",
          "name": "stdout",
          "text": [
            "Train Length Stat\n",
            "count    7485.000000\n",
            "mean      100.880428\n",
            "std        33.826640\n",
            "min         7.000000\n",
            "25%        77.000000\n",
            "50%       107.000000\n",
            "75%       133.000000\n",
            "max       157.000000\n",
            "Name: length, dtype: float64\n",
            "\n",
            "Test Length Stat\n",
            "count    3263.000000\n",
            "mean      102.108183\n",
            "std        33.972158\n",
            "min         5.000000\n",
            "25%        78.000000\n",
            "50%       109.000000\n",
            "75%       134.000000\n",
            "max       151.000000\n",
            "Name: length, dtype: float64\n"
          ]
        }
      ],
      "source": [
        "# Text length distribution in training and testing set.\n",
        "df_train[\"length\"] = df_train[\"text\"].apply(lambda x : len(x))\n",
        "df_test[\"length\"] = df_test[\"text\"].apply(lambda x : len(x))\n",
        "\n",
        "print(\"Train Length Stat\")\n",
        "print(df_train[\"length\"].describe())\n",
        "print()\n",
        "\n",
        "print(\"Test Length Stat\")\n",
        "print(df_test[\"length\"].describe())"
      ]
    },
    {
      "cell_type": "markdown",
      "source": [
        "## Check class distribution"
      ],
      "metadata": {
        "id": "VbeOp1s8G9YP"
      }
    },
    {
      "cell_type": "code",
      "source": [
        "\n",
        "df_train.target.value_counts().plot(kind = 'bar')\n",
        "plt.title(\"Class Distribution\")\n",
        "plt.show()"
      ],
      "metadata": {
        "colab": {
          "base_uri": "https://localhost:8080/",
          "height": 467
        },
        "id": "c4WGOnCfCCvp",
        "outputId": "52055967-5b80-4080-e6fd-f058b92712af"
      },
      "execution_count": null,
      "outputs": [
        {
          "output_type": "display_data",
          "data": {
            "text/plain": [
              "<Figure size 640x480 with 1 Axes>"
            ],
            "image/png": "[encoded data removed]"
          },
          "metadata": {}
        }
      ]
    },
    {
      "cell_type": "code",
      "source": [
        "# Calculate class weights\n",
        "class_weights = compute_class_weight('balanced', classes = np.array([0, 1]), y = df_train['target'])\n",
        "\n",
        "class_weights"
      ],
      "metadata": {
        "colab": {
          "base_uri": "https://localhost:8080/"
        },
        "id": "0O_TOYR0Dr0u",
        "outputId": "9f09a46d-a555-4804-90d9-f16007871f37"
      },
      "execution_count": null,
      "outputs": [
        {
          "output_type": "execute_result",
          "data": {
            "text/plain": [
              "array([0.87095648, 1.1739335 ])"
            ]
          },
          "metadata": {},
          "execution_count": 237
        }
      ]
    },
    {
      "cell_type": "markdown",
      "source": [
        "# **Configuation**"
      ],
      "metadata": {
        "id": "iITq_5MpQXZ8"
      }
    },
    {
      "cell_type": "code",
      "source": [
        "# Configs\n",
        "config = {\n",
        "    'remove_urls': False,\n",
        "    'remove_mentions': True,\n",
        "    'remove_hashtags': False,\n",
        "    'remove_non_alphas': False,         # Remove all non-alpha characters.\n",
        "    'model': 'distilbert',                    # 'lstm' or 'distilbert'\n",
        "    'max_vocab_size': 10000,            # Only for model = 'lstm':\n",
        "    'max_sequence_length': 100,         # Only for model = 'lstm':\n",
        "    'embedding_dim': 100,               # Only for model = 'lstm':\n",
        "    'architecture': 'bidirectional',        # Only for model = 'lstm': 'one_layer', 'two_layer', or 'bidirectional'\n",
        "    'first_lstm_layer': 32,            # Only for model = 'lstm': Number of units in the first LSTM layer\n",
        "    'second_lstm_layer': 64,            # Only for model = 'lstm': Number of units in the second LSTM layer\n",
        "    'dropout': 0.4,                     # Dropout rate to overfitting\n",
        "    'lr': 0.00001,                        # Learning rate\n",
        "    'class_0_weight': class_weights[0], # Balanced: class_weights[0]\n",
        "    'class_1_weight': class_weights[1], # Balanced: class_weights[1]\n",
        "    'batch': 128,                        # Batch size\n",
        "    'epochs': 15,                       # Number of epochs\n",
        "    'patience': 3,                      # Early-stopping patience\n",
        "\n",
        "}"
      ],
      "metadata": {
        "id": "C8lmv2IsQZ6g"
      },
      "execution_count": null,
      "outputs": []
    },
    {
      "cell_type": "markdown",
      "source": [
        "## Configuration values to explore\n",
        "I will explore two different models, LSTM and DistilBert. For the LSTM model, I will try three different architectures: with one LSTM layer, with two LSTM layers, and with one bidirectional LSTM layer.\n",
        "\n",
        "For each of these models, there are a number of hyper-parameter settings to explore. Here is a calculation of the size of the entire configuration space to explore.\n",
        "\n",
        "**Cleaning**\n",
        "* Remove Urls: True, False\n",
        "* Remove Mentions: True, False\n",
        "* Remove Hashtags: True, False\n",
        "* Remove all alpha characters: True, False\n",
        "\n",
        "Cleaning combinations: $2 \\times 2 \\times 2 \\times 2 = 16$\n",
        "\n",
        "**LSTM model with one layer**\n",
        "* First LSTM layer, number of units: 32, 64, 128\n",
        "* Dropout rate: 0.2, 0.3, 0.4, 0.5, 0.6\n",
        "* Learning rate: 0.01, 0.001, 0.0001\n",
        "* Class 0 weight: class_weights[0], 0.75, 0.7\n",
        "* Class 1 weight: Only 1 option for each Class 0 weight\n",
        "* Batch size: 16, 32, 64, 128\n",
        "\n",
        "One-layer LSTM combinations: $3 \\times 5 \\times 3 \\times 3 \\times 4 = 540$\n",
        "\n",
        "**LSTM model with two layers**\n",
        "\n",
        "Same as LSTM model with one layer, plus the options for the second layer:\n",
        "* Second LSTM layer, number of units: 32, 64, 128.\n",
        "\n",
        "Two-layer LSTM combinations: $540 \\times 3 = 1,620$\n",
        "\n",
        "**LSTM model with bidirectional layer**\n",
        "\n",
        "Same as LSTM model with one layer.\n",
        "\n",
        "Bidirectional LSTM combinations: $540$\n",
        "\n",
        "\n",
        "**DistilBert model**\n",
        "* Learning Rate: 0.00001, 0.00003, 0.00005\n",
        "* Class 0 weight: balanced, 0.75, 0.7 (Determined during early testing.)\n",
        "* Class 1 weights: Only 1 option for each class_0_weight\n",
        "* Batch size: 16, 32, 64, 128\n",
        "\n",
        "DistilBert model combinations: $3 \\times 3 \\times 4 = 36$\n",
        "\n",
        "**Total number of settings**\n",
        "\n",
        "For the for different models (one-layer LSTM, two-laywer LSTM, bidirectional LSTM, DistilBert) we have a total of $540 + 1,620 + 540 + 36 = 2,736$ combinations.\n",
        "\n",
        "Each of those combinations can be tried with each of the 16 cleaning combinations, for a total configuration space of $2,736 \\times 16 = 43,776$ combinations. (And this is even without fine-tuning learning rate to values in between those shown above.)\n",
        "\n",
        "It should go without saying that I will only be able to explore a tine fraction of these combinations.\n",
        "\n",
        "**Strategy**\n",
        "\n",
        "I will follow this strategy:\n",
        "1. Using an LSTM model with reasonable settings, try the cleaning options one by one, separately, and then combine the most promising ones, and stick with that for the LSTM models.\n",
        "2. Repeat for a DistilBert model with reasonable settings (since the DistilBert model may benefit from different kinds of cleaning than the LSTM model), and stick with that for the DistilBert model.\n",
        "3. Explore the LSTM one-layer model by tweaking one parameter at the time.\n",
        "4. Explore the LSTM two-layer model, using the best parameter settings from the one-layer model as a starting point.\n",
        "5. Explore the LSTM bidirectional model, using the best parameter settings from the one- and two-layer models as starting point.\n",
        "6. Explore the DisitilBert model by tweaking one parameter at the time.\n",
        "\n",
        "I will use the graph of how the metrics change over the course of the epochs as guidance when deciding which parameter to tweak next and how to tweak it. (This will involve a certain amount of guesswork.)\n",
        "\n",
        "To limit training time, I will use K-fold cross-validation with only 3 folds. This is a compromise between running it with 5 folds, which would yield more stable results but take longer, and not running K-folds cross-validation at all, but just use a dedicated validation set, which would be faster but yield more volatile results.\n",
        "\n"
      ],
      "metadata": {
        "id": "8llv7bifewIe"
      }
    },
    {
      "cell_type": "markdown",
      "source": [
        "# **Data cleaning**"
      ],
      "metadata": {
        "id": "yMK_jZwGQUql"
      }
    },
    {
      "cell_type": "code",
      "source": [
        "# Remove URLs\n",
        "if config['remove_urls']:\n",
        "    df_train['text'] = df_train['text'].str.replace(r'http\\S+|www\\S+|https\\S+', '', regex=True)"
      ],
      "metadata": {
        "id": "KhbSNkhQZjv8"
      },
      "execution_count": null,
      "outputs": []
    },
    {
      "cell_type": "code",
      "source": [
        "# Remove mentions\n",
        "if config['remove_mentions']:\n",
        "    df_train['text'] = df_train['text'].str.replace(r'@\\w+', '', regex=True)"
      ],
      "metadata": {
        "id": "orXlR_BbZpw9"
      },
      "execution_count": null,
      "outputs": []
    },
    {
      "cell_type": "code",
      "source": [
        "# Remove hashtags\n",
        "if config['remove_hashtags']:\n",
        "    df_train['text'] = df_train['text'].str.replace(r'#\\w+', '', regex=True)"
      ],
      "metadata": {
        "id": "N2ia3W_7Zwee"
      },
      "execution_count": null,
      "outputs": []
    },
    {
      "cell_type": "code",
      "source": [
        "# Remove all non-alpha characters\n",
        "if config['remove_non_alphas']:\n",
        "    df_train['text'] = df_train['text'].str.replace(r'[^a-zA-Z\\s]', '', regex = True).str.lower()"
      ],
      "metadata": {
        "id": "gu6iaaNCXdsJ"
      },
      "execution_count": null,
      "outputs": []
    },
    {
      "cell_type": "markdown",
      "source": [
        "# **GloVe embeddings**"
      ],
      "metadata": {
        "id": "FpdSqbk_eSgx"
      }
    },
    {
      "cell_type": "code",
      "source": [
        "# Load GloVe embeddings\n",
        "embedding_index = {}\n",
        "with open(os.path.join(data_dir, 'glove.6B.100d.txt'), encoding='utf-8') as f:\n",
        "    for line in f:\n",
        "        values = line.split()\n",
        "        word = values[0]\n",
        "        coefs = np.asarray(values[1:], dtype='float32')\n",
        "        embedding_index[word] = coefs\n",
        "\n",
        "print(f'Found {len(embedding_index)} word vectors.')"
      ],
      "metadata": {
        "colab": {
          "base_uri": "https://localhost:8080/"
        },
        "id": "cnRhe3e6huVd",
        "outputId": "106e27ee-98d3-4938-9f19-78326460f08c"
      },
      "execution_count": null,
      "outputs": [
        {
          "output_type": "stream",
          "name": "stdout",
          "text": [
            "Found 400000 word vectors.\n"
          ]
        }
      ]
    },
    {
      "cell_type": "code",
      "source": [
        "X_train_df = df_train[\"text\"]\n",
        "y_train_df = df_train[\"target\"]\n",
        "\n",
        "X_test_df = df_test[\"text\"]\n",
        "\n",
        "print(X_train_df.shape)\n",
        "print(y_train_df.shape)\n",
        "\n",
        "# Prepare the tweets\n",
        "# texts = df_train['text']\n",
        "max_vocab_size = 10000  # Limit vocab size to top 10,000 words\n",
        "max_sequence_length = 100  # Max length of each tweet (in tokens)\n",
        "\n",
        "# Tokenize the text data\n",
        "tokenizer = Tokenizer(num_words = max_vocab_size)\n",
        "tokenizer.fit_on_texts(X_train_df)\n",
        "word_index = tokenizer.word_index\n",
        "\n",
        "# Convert text to sequences of integers and pad\n",
        "X_train_sequences = tokenizer.texts_to_sequences(X_train_df)\n",
        "X_train_padded = pad_sequences(X_train_sequences, maxlen = max_sequence_length)\n",
        "\n",
        "X_test_sequences = tokenizer.texts_to_sequences(X_test_df)\n",
        "X_test_padded = pad_sequences(X_test_sequences, maxlen = max_sequence_length)\n",
        "\n",
        "# Prepare the embedding matrix\n",
        "embedding_dim = 100  # Using 100-dimensional GloVe vectors\n",
        "embedding_matrix = np.zeros((max_vocab_size, embedding_dim))\n",
        "\n",
        "for word, i in word_index.items():\n",
        "    if i < max_vocab_size:\n",
        "        embedding_vector = embedding_index.get(word)\n",
        "        if embedding_vector is not None:\n",
        "            # Words not found in embedding_index will be all-zeros\n",
        "            embedding_matrix[i] = embedding_vector"
      ],
      "metadata": {
        "colab": {
          "base_uri": "https://localhost:8080/"
        },
        "id": "OB6URc57k2CV",
        "outputId": "e38d6713-651a-4e8f-8855-4abe57cdac9a"
      },
      "execution_count": null,
      "outputs": [
        {
          "output_type": "stream",
          "name": "stdout",
          "text": [
            "(7485,)\n",
            "(7485,)\n"
          ]
        }
      ]
    },
    {
      "cell_type": "markdown",
      "source": [
        "# **Models**"
      ],
      "metadata": {
        "id": "yi9IoIszrBoT"
      }
    },
    {
      "cell_type": "code",
      "source": [
        "def build_lstm_model(config, embedding_matrix):\n",
        "    model = Sequential()\n",
        "\n",
        "    # Add the Input layer separately\n",
        "    model.add(Input(shape=(max_sequence_length,)))\n",
        "\n",
        "    # Add the embedding layer\n",
        "    model.add(Embedding(input_dim = max_vocab_size,\n",
        "                        output_dim = embedding_dim,\n",
        "                        weights = [embedding_matrix],\n",
        "                        trainable = False))  # Set trainable=False to use pretrained embeddings\n",
        "\n",
        "    # Add layers based on selected model architecture\n",
        "    if config['architecture'] == 'one_layer':\n",
        "        model.add(LSTM(config['first_lstm_layer'], return_sequences=False))  # Single LSTM layer\n",
        "    elif config['architecture'] == 'two_layer':\n",
        "        model.add(LSTM(config['first_lstm_layer'], return_sequences=True))  # First LSTM layer returns full sequence\n",
        "        model.add(LSTM(config['second_lstm_layer'], return_sequences=False))  # Second LSTM layer\n",
        "    elif config['architecture'] == 'bidirectional':\n",
        "        model.add(Bidirectional(LSTM(config['first_lstm_layer'])))  # Bidirectional LSTM\n",
        "    else:\n",
        "        raise ValueError(\"Invalid architecture. Choose from 'one_layer', 'two_layer', or 'bidirectional'.\")\n",
        "\n",
        "    # Add the dropout and activation layers.\n",
        "    model.add(Dropout(config['dropout'])) # Add a Dropout layer for regularization\n",
        "    model.add(Dense(1, activation='sigmoid'))  # Use 'sigmoid' for binary classification\n",
        "\n",
        "    return model"
      ],
      "metadata": {
        "id": "gQpuG36PnIYi"
      },
      "execution_count": null,
      "outputs": []
    },
    {
      "cell_type": "code",
      "source": [
        "def build_distilbert_model(config):\n",
        "    AUTO = tf.data.experimental.AUTOTUNE\n",
        "\n",
        "    # Load a DistilBERT model.\n",
        "    preset= \"distil_bert_base_en_uncased\"\n",
        "\n",
        "    # Use a shorter sequence length.\n",
        "    preprocessor = DistilBertPreprocessor.from_preset(preset,\n",
        "                                                    sequence_length = 160,\n",
        "                                                    name = \"preprocessor_4_tweets\")\n",
        "\n",
        "    # Pretrained classifier.\n",
        "    model = DistilBertClassifier.from_preset(preset,\n",
        "                                                preprocessor = preprocessor,\n",
        "                                                num_classes = 2)\n",
        "\n",
        "    return model"
      ],
      "metadata": {
        "id": "Pak0vNhWrylz"
      },
      "execution_count": null,
      "outputs": []
    },
    {
      "cell_type": "code",
      "source": [
        "# Custom callback to store metrics at each epoch\n",
        "class MetricsHistory(Callback):\n",
        "    def __init__(self, training_data = None, validation_data=None):\n",
        "        super(MetricsHistory, self).__init__()\n",
        "        self.training_data = training_data\n",
        "        self.validation_data = validation_data\n",
        "\n",
        "        self.epochs = []\n",
        "\n",
        "        self.accuracy = []\n",
        "        self.val_accuracy = []\n",
        "        self.precision = []\n",
        "        self.val_precision = []\n",
        "        self.recall = []\n",
        "        self.val_recall = []\n",
        "        self.f1 = []\n",
        "        self.val_f1 = []\n",
        "        self.loss = []\n",
        "        self.val_loss = []\n",
        "\n",
        "    def on_epoch_end(self, epoch, logs=None):\n",
        "        self.epochs.append(epoch)\n",
        "\n",
        "        self.loss.append(logs.get('loss'))\n",
        "        self.val_loss.append(logs.get('val_loss'))\n",
        "\n",
        "        self.accuracy.append(logs.get('accuracy'))\n",
        "        self.val_accuracy.append(logs.get('val_accuracy'))\n",
        "\n",
        "        # Get the predictions on the training data\n",
        "        y_pred_train = self.model.predict(self.training_data[0])\n",
        "        y_true_train = self.training_data[1]\n",
        "\n",
        "        # Convert predictions to binary\n",
        "        try:\n",
        "            y_pred_train_binary = (y_pred_train[:, 1] >= 0.5).astype(int) # For DistilBert\n",
        "        except:\n",
        "            y_pred_train_binary = (y_pred_train >= 0.5).astype(int) # For LSTM\n",
        "\n",
        "        # Calculate precision, recall, f1 for training set\n",
        "        train_precision = precision_score(y_true_train, y_pred_train_binary)\n",
        "        train_recall = recall_score(y_true_train, y_pred_train_binary)\n",
        "        train_f1 = f1_score(y_true_train, y_pred_train_binary)\n",
        "\n",
        "        # Store precision, recall, f1 for training set\n",
        "        self.precision.append(train_precision)\n",
        "        self.recall.append(train_recall)\n",
        "        self.f1.append(train_f1)\n",
        "\n",
        "        # Get the predictions on the validation data\n",
        "        y_pred_val = self.model.predict(self.validation_data[0])\n",
        "        y_true_val = self.validation_data[1]\n",
        "\n",
        "        try:\n",
        "            y_pred_val_binary = (y_pred_val[:, 1] >= 0.5).astype(int) # For DistilBert\n",
        "        except:\n",
        "            y_pred_val_binary = (y_pred_val >= 0.5).astype(int) # For LSTM\n",
        "\n",
        "        val_precision = precision_score(y_true_val, y_pred_val_binary)\n",
        "        val_recall = recall_score(y_true_val, y_pred_val_binary)\n",
        "        val_f1 = f1_score(y_true_val, y_pred_val_binary)\n",
        "\n",
        "        self.val_precision.append(val_precision)\n",
        "        self.val_recall.append(val_recall)\n",
        "        self.val_f1.append(val_f1)"
      ],
      "metadata": {
        "id": "CEw8oA_2sEFU"
      },
      "execution_count": null,
      "outputs": []
    },
    {
      "cell_type": "markdown",
      "source": [
        "# **K-fold cross-validation**"
      ],
      "metadata": {
        "id": "txLl_-KXvYEB"
      }
    },
    {
      "cell_type": "code",
      "source": [
        "%%time\n",
        "# Number of folds\n",
        "k = 3\n",
        "kf = KFold(n_splits=k, shuffle=True, random_state=42)\n",
        "\n",
        "# Initialize lists to store metrics across all folds\n",
        "epoch_metrics = {\n",
        "    # 'epochs': [],\n",
        "    'accuracy': [],\n",
        "    'val_accuracy': [],\n",
        "    'precision': [],\n",
        "    'val_precision': [],\n",
        "    'recall': [],\n",
        "    'val_recall': [],\n",
        "    'f1': [],\n",
        "    'val_f1': [],\n",
        "    'loss': [],\n",
        "    'val_loss': []\n",
        "}\n",
        "\n",
        "# Initialize variables to store cumulative confusion matrix\n",
        "cumulative_confusion_matrix = np.zeros((2, 2))  # Binary classifier, so 2 x 2 confusion matrix.\n",
        "\n",
        "# Training loop for K-fold cross-validation\n",
        "for fold, (train_index, val_index) in enumerate(kf.split(X_train_df)):\n",
        "\n",
        "    print(f\"\\nFold {fold + 1}\")\n",
        "\n",
        "    # Clear the previous model to avoid memory issues\n",
        "    K.clear_session()\n",
        "\n",
        "    # Create dictionary with class weights\n",
        "    class_weight_dict = {0: config['class_0_weight'], 1: config['class_1_weight']}\n",
        "\n",
        "     # Early stopping\n",
        "    early_stopping = EarlyStopping(monitor='val_loss', patience = config['patience'], restore_best_weights = True)\n",
        "\n",
        "    # LSTM model\n",
        "    if config['model'] == 'lstm':\n",
        "\n",
        "        # Split the data formatted for LSTM into training and validation sets\n",
        "        X_train, X_val = X_train_padded[train_index], X_train_padded[val_index]\n",
        "        y_train, y_val = y_train_df[train_index], y_train_df[val_index]\n",
        "\n",
        "        # Convert to NumPy array. Still needed?\n",
        "        if isinstance(y_train, pd.Series):\n",
        "            y_train = y_train.values\n",
        "\n",
        "        # Build the model\n",
        "        model = build_lstm_model(config, embedding_matrix)\n",
        "\n",
        "        # Define the optimizer with a custom learning rate\n",
        "        optimizer = Adam(learning_rate = config['lr'])\n",
        "\n",
        "        # Compile\n",
        "        model.compile(optimizer = optimizer,\n",
        "                    loss = 'binary_crossentropy',\n",
        "                    metrics = ['accuracy'])\n",
        "\n",
        "        # Instantiate callback\n",
        "        metrics_history = MetricsHistory(training_data = (X_train, y_train), validation_data = (X_val, y_val))\n",
        "\n",
        "        # Train the model\n",
        "        model.fit(X_train, y_train,\n",
        "                    epochs=config['epochs'],\n",
        "                    batch_size=config['batch'],\n",
        "                    validation_data=(X_val, y_val),\n",
        "                    class_weight=class_weight_dict,\n",
        "                    callbacks=[metrics_history, early_stopping])\n",
        "\n",
        "    # DistilBert model\n",
        "    elif config['model'] == 'distilbert':\n",
        "        # Split the data formatted for DistilBert into training and validation sets\n",
        "        X_train, X_val = X_train_df[train_index], X_train_df[val_index]\n",
        "        y_train, y_val = y_train_df[train_index], y_train_df[val_index]\n",
        "\n",
        "        # Build model\n",
        "        model = build_distilbert_model(config)\n",
        "\n",
        "        # Compile\n",
        "        model.compile(\n",
        "            loss = keras.losses.SparseCategoricalCrossentropy(from_logits = True),\n",
        "            optimizer = tf.keras.optimizers.Adam(learning_rate = config['lr']),\n",
        "            metrics= [\"accuracy\"]\n",
        "        )\n",
        "\n",
        "        # Instantiate callback\n",
        "        metrics_history = MetricsHistory(training_data = (X_train, y_train), validation_data = (X_val, y_val))\n",
        "\n",
        "        # Fit the model using raw text and labels, with validation data created from train_test_split\n",
        "        bert_history = model.fit(\n",
        "            x=X_train,          # Pass raw text data for training\n",
        "            y=y_train,              # Target labels for training\n",
        "            batch_size = config['batch'],\n",
        "            epochs = config['epochs'],\n",
        "            class_weight=class_weight_dict,\n",
        "            validation_data=(X_val, y_val),  # Use the validation split from train_test_split\n",
        "            callbacks=[metrics_history, early_stopping]\n",
        "        )\n",
        "\n",
        "    else:\n",
        "        raise ValueError(\"Invalid model type. Choose from 'lstm' or 'distilbert'.\")\n",
        "\n",
        "    # Print the model summary only once\n",
        "        if fold == 0:\n",
        "            model.summary()\n",
        "\n",
        "    # Append metrics for this fold to the epoch_metrics dictionary\n",
        "    epoch_metrics['accuracy'].append(metrics_history.accuracy)\n",
        "    epoch_metrics['val_accuracy'].append(metrics_history.val_accuracy)\n",
        "    epoch_metrics['precision'].append(metrics_history.precision)\n",
        "    epoch_metrics['val_precision'].append(metrics_history.val_precision)\n",
        "    epoch_metrics['recall'].append(metrics_history.recall)\n",
        "    epoch_metrics['val_recall'].append(metrics_history.val_recall)\n",
        "    epoch_metrics['f1'].append(metrics_history.f1)\n",
        "    epoch_metrics['val_f1'].append(metrics_history.val_f1)\n",
        "    epoch_metrics['loss'].append(metrics_history.loss)\n",
        "    epoch_metrics['val_loss'].append(metrics_history.val_loss)\n",
        "\n",
        "    # Predict on the validation set\n",
        "    y_pred_val = model.predict(X_val)\n",
        "\n",
        "    # # Convert predictions to binary\n",
        "    try:\n",
        "        y_pred_val_binary = (y_pred_val[:, 1] >= 0.5).astype(int) # For DistilBert\n",
        "    except:\n",
        "        y_pred_val_binary = (y_pred_val >= 0.5).astype(int) # For LSTM\n",
        "\n",
        "    fold_confusion_matrix = confusion_matrix(y_val, y_pred_val_binary)\n",
        "    cumulative_confusion_matrix += fold_confusion_matrix\n"
      ],
      "metadata": {
        "colab": {
          "base_uri": "https://localhost:8080/"
        },
        "id": "l_bB-erpfE7k",
        "outputId": "4071d90c-96de-4fe1-8cf9-acee4a88be00"
      },
      "execution_count": null,
      "outputs": [
        {
          "output_type": "stream",
          "name": "stdout",
          "text": [
            "\n",
            "Fold 1\n",
            "Epoch 1/15\n",
            "\u001b[1m156/156\u001b[0m \u001b[32m━━━━━━━━━━━━━━━━━━━━\u001b[0m\u001b[37m\u001b[0m \u001b[1m13s\u001b[0m 54ms/step\n",
            "\u001b[1m78/78\u001b[0m \u001b[32m━━━━━━━━━━━━━━━━━━━━\u001b[0m\u001b[37m\u001b[0m \u001b[1m6s\u001b[0m 68ms/step\n",
            "\u001b[1m39/39\u001b[0m \u001b[32m━━━━━━━━━━━━━━━━━━━━\u001b[0m\u001b[37m\u001b[0m \u001b[1m117s\u001b[0m 2s/step - accuracy: 0.6037 - loss: 0.6696 - val_accuracy: 0.7824 - val_loss: 0.5417\n",
            "Epoch 2/15\n",
            "\u001b[1m156/156\u001b[0m \u001b[32m━━━━━━━━━━━━━━━━━━━━\u001b[0m\u001b[37m\u001b[0m \u001b[1m5s\u001b[0m 31ms/step\n",
            "\u001b[1m78/78\u001b[0m \u001b[32m━━━━━━━━━━━━━━━━━━━━\u001b[0m\u001b[37m\u001b[0m \u001b[1m3s\u001b[0m 30ms/step\n",
            "\u001b[1m39/39\u001b[0m \u001b[32m━━━━━━━━━━━━━━━━━━━━\u001b[0m\u001b[37m\u001b[0m \u001b[1m31s\u001b[0m 785ms/step - accuracy: 0.7949 - loss: 0.5071 - val_accuracy: 0.8080 - val_loss: 0.4422\n",
            "Epoch 3/15\n",
            "\u001b[1m156/156\u001b[0m \u001b[32m━━━━━━━━━━━━━━━━━━━━\u001b[0m\u001b[37m\u001b[0m \u001b[1m5s\u001b[0m 30ms/step\n",
            "\u001b[1m78/78\u001b[0m \u001b[32m━━━━━━━━━━━━━━━━━━━━\u001b[0m\u001b[37m\u001b[0m \u001b[1m3s\u001b[0m 30ms/step\n",
            "\u001b[1m39/39\u001b[0m \u001b[32m━━━━━━━━━━━━━━━━━━━━\u001b[0m\u001b[37m\u001b[0m \u001b[1m30s\u001b[0m 777ms/step - accuracy: 0.8284 - loss: 0.4137 - val_accuracy: 0.8192 - val_loss: 0.4203\n",
            "Epoch 4/15\n",
            "\u001b[1m156/156\u001b[0m \u001b[32m━━━━━━━━━━━━━━━━━━━━\u001b[0m\u001b[37m\u001b[0m \u001b[1m5s\u001b[0m 31ms/step\n",
            "\u001b[1m78/78\u001b[0m \u001b[32m━━━━━━━━━━━━━━━━━━━━\u001b[0m\u001b[37m\u001b[0m \u001b[1m3s\u001b[0m 31ms/step\n",
            "\u001b[1m39/39\u001b[0m \u001b[32m━━━━━━━━━━━━━━━━━━━━\u001b[0m\u001b[37m\u001b[0m \u001b[1m30s\u001b[0m 771ms/step - accuracy: 0.8481 - loss: 0.3778 - val_accuracy: 0.8200 - val_loss: 0.4277\n",
            "Epoch 5/15\n",
            "\u001b[1m156/156\u001b[0m \u001b[32m━━━━━━━━━━━━━━━━━━━━\u001b[0m\u001b[37m\u001b[0m \u001b[1m5s\u001b[0m 31ms/step\n",
            "\u001b[1m78/78\u001b[0m \u001b[32m━━━━━━━━━━━━━━━━━━━━\u001b[0m\u001b[37m\u001b[0m \u001b[1m3s\u001b[0m 31ms/step\n",
            "\u001b[1m39/39\u001b[0m \u001b[32m━━━━━━━━━━━━━━━━━━━━\u001b[0m\u001b[37m\u001b[0m \u001b[1m30s\u001b[0m 775ms/step - accuracy: 0.8683 - loss: 0.3515 - val_accuracy: 0.8297 - val_loss: 0.4203\n",
            "Epoch 6/15\n",
            "\u001b[1m156/156\u001b[0m \u001b[32m━━━━━━━━━━━━━━━━━━━━\u001b[0m\u001b[37m\u001b[0m \u001b[1m5s\u001b[0m 30ms/step\n",
            "\u001b[1m78/78\u001b[0m \u001b[32m━━━━━━━━━━━━━━━━━━━━\u001b[0m\u001b[37m\u001b[0m \u001b[1m3s\u001b[0m 30ms/step\n",
            "\u001b[1m39/39\u001b[0m \u001b[32m━━━━━━━━━━━━━━━━━━━━\u001b[0m\u001b[37m\u001b[0m \u001b[1m30s\u001b[0m 770ms/step - accuracy: 0.8760 - loss: 0.3244 - val_accuracy: 0.8281 - val_loss: 0.4233\n",
            "\u001b[1m78/78\u001b[0m \u001b[32m━━━━━━━━━━━━━━━━━━━━\u001b[0m\u001b[37m\u001b[0m \u001b[1m3s\u001b[0m 30ms/step\n",
            "\n",
            "Fold 2\n",
            "Epoch 1/15\n",
            "\u001b[1m156/156\u001b[0m \u001b[32m━━━━━━━━━━━━━━━━━━━━\u001b[0m\u001b[37m\u001b[0m \u001b[1m13s\u001b[0m 55ms/step\n"
          ]
        },
        {
          "output_type": "stream",
          "name": "stderr",
          "text": [
            "/usr/local/lib/python3.10/dist-packages/sklearn/metrics/_classification.py:1531: UndefinedMetricWarning: Precision is ill-defined and being set to 0.0 due to no predicted samples. Use `zero_division` parameter to control this behavior.\n",
            "  _warn_prf(average, modifier, f\"{metric.capitalize()} is\", len(result))\n"
          ]
        },
        {
          "output_type": "stream",
          "name": "stdout",
          "text": [
            "\u001b[1m78/78\u001b[0m \u001b[32m━━━━━━━━━━━━━━━━━━━━\u001b[0m\u001b[37m\u001b[0m \u001b[1m6s\u001b[0m 68ms/step\n"
          ]
        },
        {
          "output_type": "stream",
          "name": "stderr",
          "text": [
            "/usr/local/lib/python3.10/dist-packages/sklearn/metrics/_classification.py:1531: UndefinedMetricWarning: Precision is ill-defined and being set to 0.0 due to no predicted samples. Use `zero_division` parameter to control this behavior.\n",
            "  _warn_prf(average, modifier, f\"{metric.capitalize()} is\", len(result))\n"
          ]
        },
        {
          "output_type": "stream",
          "name": "stdout",
          "text": [
            "\b\b\b\b\b\b\b\b\b\b\b\b\b\b\b\b\b\b\b\b\b\b\b\b\b\b\b\b\b\b\b\b\b\b\b\b\b\b\b\b\b\b\b\b\b\b\b\b\b\b\b\b\b\b\b\b\b\b\b\b\b\b\b\b\b\b\b\b\b\b\b\b\b\b\r\u001b[1m39/39\u001b[0m \u001b[32m━━━━━━━━━━━━━━━━━━━━\u001b[0m\u001b[37m\u001b[0m \u001b[1m101s\u001b[0m 2s/step - accuracy: 0.5815 - loss: 0.6686 - val_accuracy: 0.7731 - val_loss: 0.5232\n",
            "Epoch 2/15\n",
            "\u001b[1m156/156\u001b[0m \u001b[32m━━━━━━━━━━━━━━━━━━━━\u001b[0m\u001b[37m\u001b[0m \u001b[1m5s\u001b[0m 31ms/step\n",
            "\u001b[1m78/78\u001b[0m \u001b[32m━━━━━━━━━━━━━━━━━━━━\u001b[0m\u001b[37m\u001b[0m \u001b[1m3s\u001b[0m 31ms/step\n",
            "\u001b[1m39/39\u001b[0m \u001b[32m━━━━━━━━━━━━━━━━━━━━\u001b[0m\u001b[37m\u001b[0m \u001b[1m31s\u001b[0m 788ms/step - accuracy: 0.8055 - loss: 0.4858 - val_accuracy: 0.7992 - val_loss: 0.4581\n",
            "Epoch 3/15\n",
            "\u001b[1m156/156\u001b[0m \u001b[32m━━━━━━━━━━━━━━━━━━━━\u001b[0m\u001b[37m\u001b[0m \u001b[1m5s\u001b[0m 30ms/step\n",
            "\u001b[1m78/78\u001b[0m \u001b[32m━━━━━━━━━━━━━━━━━━━━\u001b[0m\u001b[37m\u001b[0m \u001b[1m3s\u001b[0m 30ms/step\n",
            "\u001b[1m39/39\u001b[0m \u001b[32m━━━━━━━━━━━━━━━━━━━━\u001b[0m\u001b[37m\u001b[0m \u001b[1m30s\u001b[0m 774ms/step - accuracy: 0.8359 - loss: 0.4088 - val_accuracy: 0.8072 - val_loss: 0.4431\n",
            "Epoch 4/15\n",
            "\u001b[1m156/156\u001b[0m \u001b[32m━━━━━━━━━━━━━━━━━━━━\u001b[0m\u001b[37m\u001b[0m \u001b[1m5s\u001b[0m 30ms/step\n",
            "\u001b[1m78/78\u001b[0m \u001b[32m━━━━━━━━━━━━━━━━━━━━\u001b[0m\u001b[37m\u001b[0m \u001b[1m3s\u001b[0m 30ms/step\n",
            "\u001b[1m39/39\u001b[0m \u001b[32m━━━━━━━━━━━━━━━━━━━━\u001b[0m\u001b[37m\u001b[0m \u001b[1m30s\u001b[0m 769ms/step - accuracy: 0.8463 - loss: 0.3778 - val_accuracy: 0.8092 - val_loss: 0.4479\n",
            "Epoch 5/15\n",
            "\u001b[1m156/156\u001b[0m \u001b[32m━━━━━━━━━━━━━━━━━━━━\u001b[0m\u001b[37m\u001b[0m \u001b[1m5s\u001b[0m 31ms/step\n",
            "\u001b[1m78/78\u001b[0m \u001b[32m━━━━━━━━━━━━━━━━━━━━\u001b[0m\u001b[37m\u001b[0m \u001b[1m3s\u001b[0m 30ms/step\n",
            "\u001b[1m39/39\u001b[0m \u001b[32m━━━━━━━━━━━━━━━━━━━━\u001b[0m\u001b[37m\u001b[0m \u001b[1m30s\u001b[0m 775ms/step - accuracy: 0.8640 - loss: 0.3438 - val_accuracy: 0.8108 - val_loss: 0.4548\n",
            "Epoch 6/15\n",
            "\u001b[1m156/156\u001b[0m \u001b[32m━━━━━━━━━━━━━━━━━━━━\u001b[0m\u001b[37m\u001b[0m \u001b[1m5s\u001b[0m 30ms/step\n",
            "\u001b[1m78/78\u001b[0m \u001b[32m━━━━━━━━━━━━━━━━━━━━\u001b[0m\u001b[37m\u001b[0m \u001b[1m3s\u001b[0m 30ms/step\n",
            "\u001b[1m39/39\u001b[0m \u001b[32m━━━━━━━━━━━━━━━━━━━━\u001b[0m\u001b[37m\u001b[0m \u001b[1m30s\u001b[0m 777ms/step - accuracy: 0.8810 - loss: 0.3255 - val_accuracy: 0.8273 - val_loss: 0.4240\n",
            "Epoch 7/15\n",
            "\u001b[1m156/156\u001b[0m \u001b[32m━━━━━━━━━━━━━━━━━━━━\u001b[0m\u001b[37m\u001b[0m \u001b[1m5s\u001b[0m 30ms/step\n",
            "\u001b[1m78/78\u001b[0m \u001b[32m━━━━━━━━━━━━━━━━━━━━\u001b[0m\u001b[37m\u001b[0m \u001b[1m3s\u001b[0m 30ms/step\n",
            "\u001b[1m39/39\u001b[0m \u001b[32m━━━━━━━━━━━━━━━━━━━━\u001b[0m\u001b[37m\u001b[0m \u001b[1m32s\u001b[0m 818ms/step - accuracy: 0.8738 - loss: 0.3242 - val_accuracy: 0.8176 - val_loss: 0.4510\n",
            "Epoch 8/15\n",
            "\u001b[1m156/156\u001b[0m \u001b[32m━━━━━━━━━━━━━━━━━━━━\u001b[0m\u001b[37m\u001b[0m \u001b[1m5s\u001b[0m 31ms/step\n",
            "\u001b[1m78/78\u001b[0m \u001b[32m━━━━━━━━━━━━━━━━━━━━\u001b[0m\u001b[37m\u001b[0m \u001b[1m3s\u001b[0m 31ms/step\n",
            "\u001b[1m39/39\u001b[0m \u001b[32m━━━━━━━━━━━━━━━━━━━━\u001b[0m\u001b[37m\u001b[0m \u001b[1m30s\u001b[0m 779ms/step - accuracy: 0.8609 - loss: 0.3386 - val_accuracy: 0.8281 - val_loss: 0.4209\n",
            "Epoch 9/15\n",
            "\u001b[1m156/156\u001b[0m \u001b[32m━━━━━━━━━━━━━━━━━━━━\u001b[0m\u001b[37m\u001b[0m \u001b[1m5s\u001b[0m 30ms/step\n",
            "\u001b[1m78/78\u001b[0m \u001b[32m━━━━━━━━━━━━━━━━━━━━\u001b[0m\u001b[37m\u001b[0m \u001b[1m3s\u001b[0m 30ms/step\n",
            "\u001b[1m39/39\u001b[0m \u001b[32m━━━━━━━━━━━━━━━━━━━━\u001b[0m\u001b[37m\u001b[0m \u001b[1m30s\u001b[0m 773ms/step - accuracy: 0.8979 - loss: 0.2696 - val_accuracy: 0.8309 - val_loss: 0.4413\n",
            "Epoch 10/15\n",
            "\u001b[1m156/156\u001b[0m \u001b[32m━━━━━━━━━━━━━━━━━━━━\u001b[0m\u001b[37m\u001b[0m \u001b[1m5s\u001b[0m 30ms/step\n",
            "\u001b[1m78/78\u001b[0m \u001b[32m━━━━━━━━━━━━━━━━━━━━\u001b[0m\u001b[37m\u001b[0m \u001b[1m3s\u001b[0m 30ms/step\n",
            "\u001b[1m39/39\u001b[0m \u001b[32m━━━━━━━━━━━━━━━━━━━━\u001b[0m\u001b[37m\u001b[0m \u001b[1m30s\u001b[0m 772ms/step - accuracy: 0.9119 - loss: 0.2374 - val_accuracy: 0.8265 - val_loss: 0.4622\n",
            "Epoch 11/15\n",
            "\u001b[1m156/156\u001b[0m \u001b[32m━━━━━━━━━━━━━━━━━━━━\u001b[0m\u001b[37m\u001b[0m \u001b[1m5s\u001b[0m 31ms/step\n",
            "\u001b[1m78/78\u001b[0m \u001b[32m━━━━━━━━━━━━━━━━━━━━\u001b[0m\u001b[37m\u001b[0m \u001b[1m3s\u001b[0m 30ms/step\n",
            "\u001b[1m39/39\u001b[0m \u001b[32m━━━━━━━━━━━━━━━━━━━━\u001b[0m\u001b[37m\u001b[0m \u001b[1m30s\u001b[0m 773ms/step - accuracy: 0.9254 - loss: 0.2126 - val_accuracy: 0.8305 - val_loss: 0.4781\n",
            "\u001b[1m78/78\u001b[0m \u001b[32m━━━━━━━━━━━━━━━━━━━━\u001b[0m\u001b[37m\u001b[0m \u001b[1m3s\u001b[0m 30ms/step\n",
            "\n",
            "Fold 3\n",
            "Epoch 1/15\n",
            "\u001b[1m156/156\u001b[0m \u001b[32m━━━━━━━━━━━━━━━━━━━━\u001b[0m\u001b[37m\u001b[0m \u001b[1m13s\u001b[0m 54ms/step\n"
          ]
        },
        {
          "output_type": "stream",
          "name": "stderr",
          "text": [
            "/usr/local/lib/python3.10/dist-packages/sklearn/metrics/_classification.py:1531: UndefinedMetricWarning: Precision is ill-defined and being set to 0.0 due to no predicted samples. Use `zero_division` parameter to control this behavior.\n",
            "  _warn_prf(average, modifier, f\"{metric.capitalize()} is\", len(result))\n"
          ]
        },
        {
          "output_type": "stream",
          "name": "stdout",
          "text": [
            "\u001b[1m78/78\u001b[0m \u001b[32m━━━━━━━━━━━━━━━━━━━━\u001b[0m\u001b[37m\u001b[0m \u001b[1m6s\u001b[0m 68ms/step\n"
          ]
        },
        {
          "output_type": "stream",
          "name": "stderr",
          "text": [
            "/usr/local/lib/python3.10/dist-packages/sklearn/metrics/_classification.py:1531: UndefinedMetricWarning: Precision is ill-defined and being set to 0.0 due to no predicted samples. Use `zero_division` parameter to control this behavior.\n",
            "  _warn_prf(average, modifier, f\"{metric.capitalize()} is\", len(result))\n"
          ]
        },
        {
          "output_type": "stream",
          "name": "stdout",
          "text": [
            "\b\b\b\b\b\b\b\b\b\b\b\b\b\b\b\b\b\b\b\b\b\b\b\b\b\b\b\b\b\b\b\b\b\b\b\b\b\b\b\b\b\b\b\b\b\b\b\b\b\b\b\b\b\b\b\b\b\b\b\b\b\b\b\b\b\b\b\b\b\b\b\b\b\b\r\u001b[1m39/39\u001b[0m \u001b[32m━━━━━━━━━━━━━━━━━━━━\u001b[0m\u001b[37m\u001b[0m \u001b[1m101s\u001b[0m 2s/step - accuracy: 0.5075 - loss: 0.6760 - val_accuracy: 0.7651 - val_loss: 0.5855\n",
            "Epoch 2/15\n",
            "\u001b[1m156/156\u001b[0m \u001b[32m━━━━━━━━━━━━━━━━━━━━\u001b[0m\u001b[37m\u001b[0m \u001b[1m5s\u001b[0m 31ms/step\n",
            "\u001b[1m78/78\u001b[0m \u001b[32m━━━━━━━━━━━━━━━━━━━━\u001b[0m\u001b[37m\u001b[0m \u001b[1m3s\u001b[0m 31ms/step\n",
            "\u001b[1m39/39\u001b[0m \u001b[32m━━━━━━━━━━━━━━━━━━━━\u001b[0m\u001b[37m\u001b[0m \u001b[1m31s\u001b[0m 785ms/step - accuracy: 0.7892 - loss: 0.5363 - val_accuracy: 0.8020 - val_loss: 0.4549\n",
            "Epoch 3/15\n",
            "\u001b[1m156/156\u001b[0m \u001b[32m━━━━━━━━━━━━━━━━━━━━\u001b[0m\u001b[37m\u001b[0m \u001b[1m5s\u001b[0m 30ms/step\n",
            "\u001b[1m78/78\u001b[0m \u001b[32m━━━━━━━━━━━━━━━━━━━━\u001b[0m\u001b[37m\u001b[0m \u001b[1m3s\u001b[0m 30ms/step\n",
            "\u001b[1m39/39\u001b[0m \u001b[32m━━━━━━━━━━━━━━━━━━━━\u001b[0m\u001b[37m\u001b[0m \u001b[1m30s\u001b[0m 775ms/step - accuracy: 0.8238 - loss: 0.4294 - val_accuracy: 0.8168 - val_loss: 0.4247\n",
            "Epoch 4/15\n",
            "\u001b[1m156/156\u001b[0m \u001b[32m━━━━━━━━━━━━━━━━━━━━\u001b[0m\u001b[37m\u001b[0m \u001b[1m5s\u001b[0m 30ms/step\n",
            "\u001b[1m78/78\u001b[0m \u001b[32m━━━━━━━━━━━━━━━━━━━━\u001b[0m\u001b[37m\u001b[0m \u001b[1m3s\u001b[0m 30ms/step\n",
            "\u001b[1m39/39\u001b[0m \u001b[32m━━━━━━━━━━━━━━━━━━━━\u001b[0m\u001b[37m\u001b[0m \u001b[1m30s\u001b[0m 773ms/step - accuracy: 0.8446 - loss: 0.3832 - val_accuracy: 0.8216 - val_loss: 0.4198\n",
            "Epoch 5/15\n",
            "\u001b[1m156/156\u001b[0m \u001b[32m━━━━━━━━━━━━━━━━━━━━\u001b[0m\u001b[37m\u001b[0m \u001b[1m5s\u001b[0m 31ms/step\n",
            "\u001b[1m78/78\u001b[0m \u001b[32m━━━━━━━━━━━━━━━━━━━━\u001b[0m\u001b[37m\u001b[0m \u001b[1m3s\u001b[0m 30ms/step\n",
            "\u001b[1m39/39\u001b[0m \u001b[32m━━━━━━━━━━━━━━━━━━━━\u001b[0m\u001b[37m\u001b[0m \u001b[1m30s\u001b[0m 773ms/step - accuracy: 0.8637 - loss: 0.3450 - val_accuracy: 0.8220 - val_loss: 0.4259\n",
            "Epoch 6/15\n",
            "\u001b[1m156/156\u001b[0m \u001b[32m━━━━━━━━━━━━━━━━━━━━\u001b[0m\u001b[37m\u001b[0m \u001b[1m5s\u001b[0m 30ms/step\n",
            "\u001b[1m78/78\u001b[0m \u001b[32m━━━━━━━━━━━━━━━━━━━━\u001b[0m\u001b[37m\u001b[0m \u001b[1m3s\u001b[0m 30ms/step\n",
            "\u001b[1m39/39\u001b[0m \u001b[32m━━━━━━━━━━━━━━━━━━━━\u001b[0m\u001b[37m\u001b[0m \u001b[1m30s\u001b[0m 773ms/step - accuracy: 0.8825 - loss: 0.3120 - val_accuracy: 0.8253 - val_loss: 0.4381\n",
            "Epoch 7/15\n",
            "\u001b[1m156/156\u001b[0m \u001b[32m━━━━━━━━━━━━━━━━━━━━\u001b[0m\u001b[37m\u001b[0m \u001b[1m5s\u001b[0m 30ms/step\n",
            "\u001b[1m78/78\u001b[0m \u001b[32m━━━━━━━━━━━━━━━━━━━━\u001b[0m\u001b[37m\u001b[0m \u001b[1m3s\u001b[0m 30ms/step\n",
            "\u001b[1m39/39\u001b[0m \u001b[32m━━━━━━━━━━━━━━━━━━━━\u001b[0m\u001b[37m\u001b[0m \u001b[1m32s\u001b[0m 817ms/step - accuracy: 0.8928 - loss: 0.2950 - val_accuracy: 0.8232 - val_loss: 0.4476\n",
            "\u001b[1m78/78\u001b[0m \u001b[32m━━━━━━━━━━━━━━━━━━━━\u001b[0m\u001b[37m\u001b[0m \u001b[1m3s\u001b[0m 30ms/step\n",
            "CPU times: user 17min 1s, sys: 11.2 s, total: 17min 13s\n",
            "Wall time: 17min 5s\n"
          ]
        }
      ]
    },
    {
      "cell_type": "markdown",
      "source": [
        "# **Average metrics across the folds**"
      ],
      "metadata": {
        "id": "wJ9p5-nQ315_"
      }
    },
    {
      "cell_type": "code",
      "source": [
        "# Due to early stopping, different folds may run different number of epochs.\n",
        "# We therefore pad the list of epochs with NaN so they are the same length for each fold.\n",
        "def pad_fold_epoch_lists(metric_list, max_len):\n",
        "    \"\"\"Pads each list in metric_list with NaN to ensure equal length.\"\"\"\n",
        "    padded_metrics = []\n",
        "    for seq in metric_list:\n",
        "        if len(seq) < max_len:\n",
        "            # Pad the sequence with NaN to make them equal length\n",
        "            seq = seq + [np.nan] * (max_len - len(seq))\n",
        "        padded_metrics.append(seq)\n",
        "    return padded_metrics\n",
        "\n",
        "# Find the maximum number of epochs across all folds\n",
        "max_epochs = max(len(acc) for acc in epoch_metrics['accuracy'])\n",
        "\n",
        "# Pad all metric lists to ensure they have the same length\n",
        "epoch_metrics['accuracy'] = pad_fold_epoch_lists(epoch_metrics['accuracy'], max_epochs)\n",
        "epoch_metrics['val_accuracy'] = pad_fold_epoch_lists(epoch_metrics['val_accuracy'], max_epochs)\n",
        "epoch_metrics['precision'] = pad_fold_epoch_lists(epoch_metrics['precision'], max_epochs)\n",
        "epoch_metrics['val_precision'] = pad_fold_epoch_lists(epoch_metrics['val_precision'], max_epochs)\n",
        "epoch_metrics['recall'] = pad_fold_epoch_lists(epoch_metrics['recall'], max_epochs)\n",
        "epoch_metrics['val_recall'] = pad_fold_epoch_lists(epoch_metrics['val_recall'], max_epochs)\n",
        "epoch_metrics['f1'] = pad_fold_epoch_lists(epoch_metrics['f1'], max_epochs)\n",
        "epoch_metrics['val_f1'] = pad_fold_epoch_lists(epoch_metrics['val_f1'], max_epochs)\n",
        "epoch_metrics['loss'] = pad_fold_epoch_lists(epoch_metrics['loss'], max_epochs)\n",
        "epoch_metrics['val_loss'] = pad_fold_epoch_lists(epoch_metrics['val_loss'], max_epochs)\n",
        "\n",
        "# Average the metrics across all folds for each epoch, ignoring NaN values\n",
        "average_metrics = {\n",
        "    'accuracy': np.nanmean(epoch_metrics['accuracy'], axis=0),\n",
        "    'val_accuracy': np.nanmean(epoch_metrics['val_accuracy'], axis=0),\n",
        "    'precision': np.nanmean(epoch_metrics['precision'], axis=0),\n",
        "    'val_precision': np.nanmean(epoch_metrics['val_precision'], axis=0),\n",
        "    'recall': np.nanmean(epoch_metrics['recall'], axis=0),\n",
        "    'val_recall': np.nanmean(epoch_metrics['val_recall'], axis=0),\n",
        "    'f1': np.nanmean(epoch_metrics['f1'], axis=0),\n",
        "    'val_f1': np.nanmean(epoch_metrics['val_f1'], axis=0),\n",
        "    'loss': np.nanmean(epoch_metrics['loss'], axis=0),\n",
        "    'val_loss': np.nanmean(epoch_metrics['val_loss'], axis=0)\n",
        "}"
      ],
      "metadata": {
        "id": "Ia7K9fP47n9M"
      },
      "execution_count": null,
      "outputs": []
    },
    {
      "cell_type": "code",
      "source": [
        "# Average the confusion matrix over all folds\n",
        "average_confusion_matrix = cumulative_confusion_matrix / k"
      ],
      "metadata": {
        "id": "rOQk4yWk4D1b"
      },
      "execution_count": null,
      "outputs": []
    },
    {
      "cell_type": "markdown",
      "source": [
        "# **Generate graphs and save results**"
      ],
      "metadata": {
        "id": "Iwe_UAAb4GZS"
      }
    },
    {
      "cell_type": "code",
      "source": [
        "# Generate a timestamp, to be used in the file names of all generated files\n",
        "timestamp = datetime.now(pytz.timezone('US/Eastern')).strftime('%Y-%m-%d_%H%M')"
      ],
      "metadata": {
        "id": "By-c4aldz0bO"
      },
      "execution_count": null,
      "outputs": []
    },
    {
      "cell_type": "code",
      "source": [
        "# Create a new dictionary, to hold both configs and final validation results\n",
        "config_and_results = config.copy()\n",
        "\n",
        "# Add final validation values to the dictionary\n",
        "# config_and_results['average_metrics'] = average_metrics\n",
        "config_and_results['val_acc'] = average_metrics['val_accuracy'][-1]\n",
        "config_and_results['val_loss'] = average_metrics['val_loss'][-1]\n",
        "config_and_results['val_precision'] = average_metrics['val_precision'][-1]\n",
        "config_and_results['val_recall'] = average_metrics['val_recall'][-1]\n",
        "config_and_results['val_f1'] = average_metrics['val_f1'][-1]\n",
        "\n",
        "# File name for the config_and_results file\n",
        "config_and_results_f = f'config_and_results_{timestamp}.json'\n",
        "\n",
        "# Generate a JSON object with the configs and the results.\n",
        "with open(os.path.join(results_dir, config_and_results_f), 'w') as f:\n",
        "    json.dump(config_and_results, f, indent = 4)"
      ],
      "metadata": {
        "id": "kWuO_idt0Kvt"
      },
      "execution_count": null,
      "outputs": []
    },
    {
      "cell_type": "markdown",
      "source": [
        "## Confusion Matrix"
      ],
      "metadata": {
        "id": "Z0rr2NRZ4UjB"
      }
    },
    {
      "cell_type": "code",
      "source": [
        "# Display the averaged confusion matrix\n",
        "def plot_confusion_matrix(cm, title=\"Confusion Matrix\"):\n",
        "\n",
        "    fig, ax = plt.subplots()\n",
        "    sns.heatmap(cm, annot=True, fmt=\".0f\", cmap=\"Blues\", ax=ax)  # Add fmt=\".1f\" to format floats\n",
        "    ax.set_title(title)\n",
        "    ax.set_xlabel('Predicted')\n",
        "    ax.set_ylabel('True')\n",
        "    ax.set_xticks([0.5, 1.5])\n",
        "    ax.set_xticklabels(['Not Disaster', 'Disaster'])\n",
        "    ax.set_yticks([0.5, 1.5])\n",
        "    ax.set_yticklabels(['Not Disaster', 'Disaster'])\n",
        "\n",
        "    # Save the plot\n",
        "    conf_matrix_f = f'conf_matrix_{timestamp}.png'\n",
        "    plt.savefig(os.path.join(results_dir, conf_matrix_f))\n",
        "\n",
        "    plt.show()\n",
        "\n",
        "# Show and save the confusion matrix\n",
        "plot_confusion_matrix(average_confusion_matrix, title=\"Average Confusion Matrix over K-Folds\")"
      ],
      "metadata": {
        "colab": {
          "base_uri": "https://localhost:8080/",
          "height": 472
        },
        "id": "la1azdpfyZYp",
        "outputId": "21470385-6a0e-4269-e76f-4e6779aafdde"
      },
      "execution_count": null,
      "outputs": [
        {
          "output_type": "display_data",
          "data": {
            "text/plain": [
              "<Figure size 640x480 with 2 Axes>"
            ],
            "image/png": "[encoded data removed]"
          },
          "metadata": {}
        }
      ]
    },
    {
      "cell_type": "markdown",
      "source": [
        "## Metrics across epochs"
      ],
      "metadata": {
        "id": "K-HPXMVE4ZqZ"
      }
    },
    {
      "cell_type": "code",
      "source": [
        "def plot_all_metrics_over_epochs(average_metrics, timestamp):\n",
        "    epochs = [*range(len(average_metrics['accuracy']))]\n",
        "\n",
        "    plt.figure(figsize=(12, 7))\n",
        "\n",
        "    # Loss plot\n",
        "    plt.subplot(2, 3, 1)\n",
        "    plt.plot(epochs, average_metrics['loss'], label='Training Loss')\n",
        "    plt.plot(epochs, average_metrics['val_loss'], label='Validation Loss')\n",
        "    plt.title('Loss over Epochs')\n",
        "    plt.xlabel('Epochs')\n",
        "    plt.ylabel('Loss')\n",
        "    plt.xticks(range(0, max(epochs) + 1, 2))  # Adjust x-ticks to display only whole numbers\n",
        "    plt.legend()\n",
        "\n",
        "    # Accuracy plot\n",
        "    plt.subplot(2, 3, 2)\n",
        "    plt.plot(epochs, average_metrics['accuracy'], label='Training Accuracy')\n",
        "    plt.plot(epochs, average_metrics['val_accuracy'], label='Validation Accuracy')\n",
        "    plt.title('Accuracy over Epochs')\n",
        "    plt.xlabel('Epochs')\n",
        "    plt.ylabel('Accuracy')\n",
        "    plt.xticks(range(0, max(epochs) + 1, 2))  # Adjust x-ticks to display only whole numbers\n",
        "    plt.legend()\n",
        "\n",
        "    # Precision plot\n",
        "    plt.subplot(2, 3, 4)\n",
        "    plt.plot(epochs, average_metrics['precision'], label='Training Precision')\n",
        "    plt.plot(epochs, average_metrics['val_precision'], label='Validation Precision')\n",
        "    plt.title('Precision over Epochs')\n",
        "    plt.xlabel('Epochs')\n",
        "    plt.ylabel('Precision')\n",
        "    plt.xticks(range(0, max(epochs) + 1, 2))  # Adjust x-ticks to display only whole numbers\n",
        "    plt.legend()\n",
        "\n",
        "    # Recall plot\n",
        "    plt.subplot(2, 3, 5)\n",
        "    plt.plot(epochs, average_metrics['recall'], label='Training Recall')\n",
        "    plt.plot(epochs, average_metrics['val_recall'], label='Validation Recall')\n",
        "    plt.title('Recall over Epochs')\n",
        "    plt.xlabel('Epochs')\n",
        "    plt.ylabel('Recall')\n",
        "    plt.xticks(range(0, max(epochs) + 1, 2))  # Adjust x-ticks to display only whole numbers\n",
        "    plt.legend()\n",
        "\n",
        "    # F1 plot\n",
        "    plt.subplot(2, 3, 6)\n",
        "    plt.plot(epochs, average_metrics['f1'], label='Training F1 Score')\n",
        "    plt.plot(epochs, average_metrics['val_f1'], label='Validation F1 Score')\n",
        "    plt.title('F1 Score over Epochs')\n",
        "    plt.xlabel('Epochs')\n",
        "    plt.ylabel('F1 Score')\n",
        "    plt.xticks(range(0, max(epochs) + 1, 2))  # Adjust x-ticks to display only whole numbers\n",
        "    plt.legend()\n",
        "\n",
        "    plt.tight_layout()\n",
        "\n",
        "    # Save the plot with a unique timestamp\n",
        "    metrics_plots_f = f'metric_plots_{timestamp}.png'\n",
        "\n",
        "    # Save the plot.\n",
        "    plt.savefig(os.path.join(results_dir, metrics_plots_f))\n",
        "\n",
        "    plt.draw()\n",
        "    plt.show()\n",
        "\n",
        "# Plot metrics over epochs\n",
        "plot_all_metrics_over_epochs(average_metrics, timestamp)"
      ],
      "metadata": {
        "colab": {
          "base_uri": "https://localhost:8080/",
          "height": 687
        },
        "id": "QMyUqO7h0muv",
        "outputId": "19cadc20-435b-4f9d-de00-b704e17b9b44"
      },
      "execution_count": null,
      "outputs": [
        {
          "output_type": "display_data",
          "data": {
            "text/plain": [
              "<Figure size 1200x700 with 5 Axes>"
            ],
            "image/png": "[encoded data removed]"
          },
          "metadata": {}
        }
      ]
    },
    {
      "cell_type": "code",
      "source": [
        "average_metrics"
      ],
      "metadata": {
        "colab": {
          "base_uri": "https://localhost:8080/"
        },
        "id": "RTC3cXvSKUcN",
        "outputId": "d0230cc6-075c-4d54-80b3-7855f1ec1b8d"
      },
      "execution_count": null,
      "outputs": [
        {
          "output_type": "execute_result",
          "data": {
            "text/plain": [
              "{'accuracy': array([0.63333333, 0.7967268 , 0.8287909 , 0.8460922 , 0.86446226,\n",
              "        0.87628589, 0.88126254, 0.87194389, 0.89839679, 0.91543084,\n",
              "        0.92605209]),\n",
              " 'val_accuracy': array([0.77354709, 0.80307281, 0.81442887, 0.81696729, 0.82084169,\n",
              "        0.82685371, 0.82044089, 0.8280561 , 0.83086175, 0.82645291,\n",
              "        0.83046091]),\n",
              " 'precision': array([0.32850242, 0.88149015, 0.91115446, 0.92111578, 0.94463807,\n",
              "        0.96810677, 0.97870672, 0.97519197, 0.98044693, 0.98737651,\n",
              "        0.98913634]),\n",
              " 'val_precision': array([0.33333333, 0.85893952, 0.87649934, 0.86462637, 0.87489973,\n",
              "        0.89302687, 0.91786736, 0.89380531, 0.87170264, 0.86658796,\n",
              "        0.86666667]),\n",
              " 'recall': array([0.01059685, 0.69076577, 0.71952366, 0.75771746, 0.76519189,\n",
              "        0.7466741 , 0.69097049, 0.77041531, 0.8189454 , 0.83947737,\n",
              "        0.84974335]),\n",
              " 'val_recall': array([0.00762631, 0.66776867, 0.6782047 , 0.69850172, 0.69213735,\n",
              "        0.65519474, 0.60243739, 0.67655502, 0.69569378, 0.70239234,\n",
              "        0.69665072]),\n",
              " 'f1': array([0.0205314 , 0.77450749, 0.8038175 , 0.83101924, 0.84483636,\n",
              "        0.84302489, 0.80409173, 0.86079249, 0.89244851, 0.9074401 ,\n",
              "        0.91415663]),\n",
              " 'val_f1': array([0.01491146, 0.75116566, 0.76403645, 0.77167398, 0.77135436,\n",
              "        0.75582058, 0.72153048, 0.77015251, 0.77381586, 0.77589852,\n",
              "        0.77241379]),\n",
              " 'loss': array([0.64761887, 0.49039659, 0.41565278, 0.37961813, 0.34753525,\n",
              "        0.32413036, 0.31250952, 0.32319194, 0.26705292, 0.23663132,\n",
              "        0.21420987]),\n",
              " 'val_loss': array([0.55012163, 0.4517397 , 0.42935994, 0.431798  , 0.43364952,\n",
              "        0.42846309, 0.44930735, 0.42093709, 0.44126391, 0.4622238 ,\n",
              "        0.47814658])}"
            ]
          },
          "metadata": {},
          "execution_count": 876
        }
      ]
    },
    {
      "cell_type": "markdown",
      "source": [
        "# **Gather configs and results from all runs**\n",
        "\n",
        "To make it easy to see how the hyper-parameter tuning affects the results, we will gather the data from configs_and_results from all runs so far into a single dataframe."
      ],
      "metadata": {
        "id": "xEJD8JhXrUEn"
      }
    },
    {
      "cell_type": "code",
      "source": [
        "def gather_all_runs():\n",
        "    # List to store each run's data\n",
        "    all_runs_data = []\n",
        "\n",
        "    # Loop through each file in the base directory\n",
        "    for file in os.listdir(results_dir):\n",
        "        json_file_path = os.path.join(results_dir, file)\n",
        "\n",
        "        # Only proceed if it's a JSON file that starts with \"config_and_results\"\n",
        "        if file.startswith(\"config_and_results\") and file.endswith(\".json\"):\n",
        "            # Extract the date and time part from the file name\n",
        "            date_time_part = file.replace(\"config_and_results_\", \"\").replace(\".json\", \"\")\n",
        "\n",
        "            # Read the JSON file\n",
        "            with open(json_file_path, 'r') as json_file:\n",
        "                config_and_results = json.load(json_file)\n",
        "                config_and_results['date_time'] = date_time_part  # Add the date and time to the data\n",
        "                all_runs_data.append(config_and_results)\n",
        "\n",
        "    # Convert the list of dictionaries into a Pandas DataFrame\n",
        "    all_runs_summary = pd.DataFrame(all_runs_data)\n",
        "\n",
        "    # Replace NaNs with empty strings, for pretty output\n",
        "    all_runs_summary = all_runs_summary.fillna(\"\")\n",
        "\n",
        "    # Put the date_time column first\n",
        "    all_runs_summary = all_runs_summary[['date_time'] + [col for col in all_runs_summary.columns if col != 'date_time']]\n",
        "\n",
        "    # Sort dataframe by data_tiem\n",
        "    all_runs_summary.sort_values(by = 'date_time', inplace = True)\n",
        "\n",
        "    # File name for the summary file\n",
        "    all_runs_summary_f = f'all_runs_summary_{timestamp}.csv'\n",
        "\n",
        "    # Save the dataframe to a CSV file\n",
        "    all_runs_summary.to_csv(os.path.join(results_dir, all_runs_summary_f), index = False)\n",
        "\n",
        "    # Print the table\n",
        "    all_runs_summary\n",
        "\n",
        "gather_all_runs()"
      ],
      "metadata": {
        "id": "ZS3c3hWSpslb"
      },
      "execution_count": null,
      "outputs": []
    },
    {
      "cell_type": "markdown",
      "source": [
        "# **Generate Submission File**"
      ],
      "metadata": {
        "id": "kD0Mef7Qm-Gz"
      }
    },
    {
      "cell_type": "code",
      "source": [
        "# Test data\n",
        "X_test = df_test['text']\n",
        "\n",
        "if config['model'] == 'lstm':\n",
        "    y_pred_test = model.predict(X_test_padded)\n",
        "    y_pred_test_binary = (y_pred_test >= 0.5).astype(int)\n",
        "elif config['model'] == 'distilbert':\n",
        "    y_pred_test = model.predict(X_test)\n",
        "    y_pred_test_binary = (y_pred_test[:, 1] >= 0.5).astype(int)\n",
        "\n",
        "# Get the sample submission file\n",
        "submission = pd.read_csv(os.path.join(data_dir, 'sample_submission.csv'))\n",
        "\n",
        "# Populate the submission file with the results\n",
        "submission['target'] = y_pred_test_binary\n",
        "\n",
        "# File name for submission file\n",
        "submission_f = f'submission_{timestamp}.cvs'\n",
        "\n",
        "# Save the submission file\n",
        "submission.to_csv(os.path.join(results_dir, submission_f), index = False)"
      ],
      "metadata": {
        "colab": {
          "base_uri": "https://localhost:8080/"
        },
        "id": "-2X3X6NjzVj5",
        "outputId": "230f24d9-3e23-46c5-9a83-bf944ee4d0fc"
      },
      "execution_count": null,
      "outputs": [
        {
          "output_type": "stream",
          "name": "stdout",
          "text": [
            "\u001b[1m102/102\u001b[0m \u001b[32m━━━━━━━━━━━━━━━━━━━━\u001b[0m\u001b[37m\u001b[0m \u001b[1m3s\u001b[0m 30ms/step\n"
          ]
        }
      ]
    },
    {
      "cell_type": "markdown",
      "source": [
        "# **Results and discussion**"
      ],
      "metadata": {
        "id": "7MdBwKACKB0J"
      }
    },
    {
      "cell_type": "markdown",
      "source": [
        "![all_runs_summary](https://drive.google.com/file/d/1-BSxyi8JZF0azHG-68FjDT5YrszVEl_d/view?usp=sharing)"
      ],
      "metadata": {
        "id": "zFcL0iGjQ9fW"
      }
    },
    {
      "cell_type": "code",
      "source": [],
      "metadata": {
        "id": "o7Kfo6ouP6d8"
      },
      "execution_count": null,
      "outputs": []
    }
  ],
  "metadata": {
    "accelerator": "GPU",
    "colab": {
      "gpuType": "L4",
      "machine_shape": "hm",
      "provenance": [],
      "mount_file_id": "1raaivybaGxZ6opS_3QAeNa4z9X1bikY9",
      "authorship_tag": "ABX9TyMpLKLqaxPsnHsm60Y+DVyg",
      "include_colab_link": true
    },
    "kernelspec": {
      "display_name": "Python 3",
      "name": "python3"
    },
    "language_info": {
      "name": "python"
    }
  },
  "nbformat": 4,
  "nbformat_minor": 0
}